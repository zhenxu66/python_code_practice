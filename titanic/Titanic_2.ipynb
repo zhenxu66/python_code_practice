{
 "cells": [
  {
   "cell_type": "markdown",
   "metadata": {},
   "source": [
    "# Get a generalized prediction. Set a benckmark for yourself.\n",
    "# make a good estimatation of time for improvement."
   ]
  },
  {
   "cell_type": "code",
   "execution_count": 208,
   "metadata": {
    "collapsed": false
   },
   "outputs": [],
   "source": [
    "# import all\n",
    "\n",
    "from sklearn.ensemble import RandomForestRegressor\n",
    "\n",
    "# error metric c-stat (aka ROC/AUC)\n",
    "\n",
    "from sklearn.metrics import roc_auc_score\n",
    "\n",
    "# pandas efficient data structure.\n",
    "\n",
    "import pandas as pd\n",
    "\n",
    "# import numpy as np\n",
    "\n",
    "# import data, pop out training y\n",
    "\n",
    "train_x = pd.read_csv(\"train.csv\")\n",
    "\n",
    "train_y = train_x.pop(\"Survived\")"
   ]
  },
  {
   "cell_type": "code",
   "execution_count": 209,
   "metadata": {
    "collapsed": false
   },
   "outputs": [
    {
     "data": {
      "text/html": [
       "<div>\n",
       "<table border=\"1\" class=\"dataframe\">\n",
       "  <thead>\n",
       "    <tr style=\"text-align: right;\">\n",
       "      <th></th>\n",
       "      <th>PassengerId</th>\n",
       "      <th>Pclass</th>\n",
       "      <th>Name</th>\n",
       "      <th>Sex</th>\n",
       "      <th>Age</th>\n",
       "      <th>SibSp</th>\n",
       "      <th>Parch</th>\n",
       "      <th>Ticket</th>\n",
       "      <th>Fare</th>\n",
       "      <th>Cabin</th>\n",
       "      <th>Embarked</th>\n",
       "    </tr>\n",
       "  </thead>\n",
       "  <tbody>\n",
       "    <tr>\n",
       "      <th>0</th>\n",
       "      <td>1</td>\n",
       "      <td>3</td>\n",
       "      <td>Braund, Mr. Owen Harris</td>\n",
       "      <td>male</td>\n",
       "      <td>22</td>\n",
       "      <td>1</td>\n",
       "      <td>0</td>\n",
       "      <td>A/5 21171</td>\n",
       "      <td>7.2500</td>\n",
       "      <td>NaN</td>\n",
       "      <td>S</td>\n",
       "    </tr>\n",
       "    <tr>\n",
       "      <th>1</th>\n",
       "      <td>2</td>\n",
       "      <td>1</td>\n",
       "      <td>Cumings, Mrs. John Bradley (Florence Briggs Th...</td>\n",
       "      <td>female</td>\n",
       "      <td>38</td>\n",
       "      <td>1</td>\n",
       "      <td>0</td>\n",
       "      <td>PC 17599</td>\n",
       "      <td>71.2833</td>\n",
       "      <td>C85</td>\n",
       "      <td>C</td>\n",
       "    </tr>\n",
       "    <tr>\n",
       "      <th>2</th>\n",
       "      <td>3</td>\n",
       "      <td>3</td>\n",
       "      <td>Heikkinen, Miss. Laina</td>\n",
       "      <td>female</td>\n",
       "      <td>26</td>\n",
       "      <td>0</td>\n",
       "      <td>0</td>\n",
       "      <td>STON/O2. 3101282</td>\n",
       "      <td>7.9250</td>\n",
       "      <td>NaN</td>\n",
       "      <td>S</td>\n",
       "    </tr>\n",
       "    <tr>\n",
       "      <th>3</th>\n",
       "      <td>4</td>\n",
       "      <td>1</td>\n",
       "      <td>Futrelle, Mrs. Jacques Heath (Lily May Peel)</td>\n",
       "      <td>female</td>\n",
       "      <td>35</td>\n",
       "      <td>1</td>\n",
       "      <td>0</td>\n",
       "      <td>113803</td>\n",
       "      <td>53.1000</td>\n",
       "      <td>C123</td>\n",
       "      <td>S</td>\n",
       "    </tr>\n",
       "    <tr>\n",
       "      <th>4</th>\n",
       "      <td>5</td>\n",
       "      <td>3</td>\n",
       "      <td>Allen, Mr. William Henry</td>\n",
       "      <td>male</td>\n",
       "      <td>35</td>\n",
       "      <td>0</td>\n",
       "      <td>0</td>\n",
       "      <td>373450</td>\n",
       "      <td>8.0500</td>\n",
       "      <td>NaN</td>\n",
       "      <td>S</td>\n",
       "    </tr>\n",
       "  </tbody>\n",
       "</table>\n",
       "</div>"
      ],
      "text/plain": [
       "   PassengerId  Pclass                                               Name  \\\n",
       "0            1       3                            Braund, Mr. Owen Harris   \n",
       "1            2       1  Cumings, Mrs. John Bradley (Florence Briggs Th...   \n",
       "2            3       3                             Heikkinen, Miss. Laina   \n",
       "3            4       1       Futrelle, Mrs. Jacques Heath (Lily May Peel)   \n",
       "4            5       3                           Allen, Mr. William Henry   \n",
       "\n",
       "      Sex  Age  SibSp  Parch            Ticket     Fare Cabin Embarked  \n",
       "0    male   22      1      0         A/5 21171   7.2500   NaN        S  \n",
       "1  female   38      1      0          PC 17599  71.2833   C85        C  \n",
       "2  female   26      0      0  STON/O2. 3101282   7.9250   NaN        S  \n",
       "3  female   35      1      0            113803  53.1000  C123        S  \n",
       "4    male   35      0      0            373450   8.0500   NaN        S  "
      ]
     },
     "execution_count": 209,
     "metadata": {},
     "output_type": "execute_result"
    }
   ],
   "source": [
    "# Data preview\n",
    "train_x.head()"
   ]
  },
  {
   "cell_type": "code",
   "execution_count": 210,
   "metadata": {
    "collapsed": false
   },
   "outputs": [
    {
     "name": "stdout",
     "output_type": "stream",
     "text": [
      "<class 'pandas.core.frame.DataFrame'>\n",
      "Int64Index: 891 entries, 0 to 890\n",
      "Data columns (total 11 columns):\n",
      "PassengerId    891 non-null int64\n",
      "Pclass         891 non-null int64\n",
      "Name           891 non-null object\n",
      "Sex            891 non-null object\n",
      "Age            714 non-null float64\n",
      "SibSp          891 non-null int64\n",
      "Parch          891 non-null int64\n",
      "Ticket         891 non-null object\n",
      "Fare           891 non-null float64\n",
      "Cabin          204 non-null object\n",
      "Embarked       889 non-null object\n",
      "dtypes: float64(2), int64(4), object(5)\n",
      "memory usage: 83.5+ KB\n"
     ]
    }
   ],
   "source": [
    "train_x.info()"
   ]
  },
  {
   "cell_type": "code",
   "execution_count": 211,
   "metadata": {
    "collapsed": true
   },
   "outputs": [],
   "source": [
    "# Impute missing with mean\n",
    "train_x['Age'].fillna(train_x['Age'].mean(), inplace=True)"
   ]
  },
  {
   "cell_type": "code",
   "execution_count": 212,
   "metadata": {
    "collapsed": false
   },
   "outputs": [
    {
     "data": {
      "text/plain": [
       "['PassengerId', 'Pclass', 'Age', 'SibSp', 'Parch', 'Fare']"
      ]
     },
     "execution_count": 212,
     "metadata": {},
     "output_type": "execute_result"
    }
   ],
   "source": [
    "# Get only the numeric variables, do not omit PassengerId, it may related with ticket sold order\n",
    "numeric_variables = list(train_x.dtypes[train_x.dtypes != \"object\"].index)\n",
    "numeric_variables"
   ]
  },
  {
   "cell_type": "code",
   "execution_count": 213,
   "metadata": {
    "collapsed": false
   },
   "outputs": [
    {
     "data": {
      "text/html": [
       "<div>\n",
       "<table border=\"1\" class=\"dataframe\">\n",
       "  <thead>\n",
       "    <tr style=\"text-align: right;\">\n",
       "      <th></th>\n",
       "      <th>PassengerId</th>\n",
       "      <th>Pclass</th>\n",
       "      <th>Age</th>\n",
       "      <th>SibSp</th>\n",
       "      <th>Parch</th>\n",
       "      <th>Fare</th>\n",
       "    </tr>\n",
       "  </thead>\n",
       "  <tbody>\n",
       "    <tr>\n",
       "      <th>0</th>\n",
       "      <td>1</td>\n",
       "      <td>3</td>\n",
       "      <td>22.000000</td>\n",
       "      <td>1</td>\n",
       "      <td>0</td>\n",
       "      <td>7.2500</td>\n",
       "    </tr>\n",
       "    <tr>\n",
       "      <th>1</th>\n",
       "      <td>2</td>\n",
       "      <td>1</td>\n",
       "      <td>38.000000</td>\n",
       "      <td>1</td>\n",
       "      <td>0</td>\n",
       "      <td>71.2833</td>\n",
       "    </tr>\n",
       "    <tr>\n",
       "      <th>2</th>\n",
       "      <td>3</td>\n",
       "      <td>3</td>\n",
       "      <td>26.000000</td>\n",
       "      <td>0</td>\n",
       "      <td>0</td>\n",
       "      <td>7.9250</td>\n",
       "    </tr>\n",
       "    <tr>\n",
       "      <th>3</th>\n",
       "      <td>4</td>\n",
       "      <td>1</td>\n",
       "      <td>35.000000</td>\n",
       "      <td>1</td>\n",
       "      <td>0</td>\n",
       "      <td>53.1000</td>\n",
       "    </tr>\n",
       "    <tr>\n",
       "      <th>4</th>\n",
       "      <td>5</td>\n",
       "      <td>3</td>\n",
       "      <td>35.000000</td>\n",
       "      <td>0</td>\n",
       "      <td>0</td>\n",
       "      <td>8.0500</td>\n",
       "    </tr>\n",
       "    <tr>\n",
       "      <th>5</th>\n",
       "      <td>6</td>\n",
       "      <td>3</td>\n",
       "      <td>29.699118</td>\n",
       "      <td>0</td>\n",
       "      <td>0</td>\n",
       "      <td>8.4583</td>\n",
       "    </tr>\n",
       "    <tr>\n",
       "      <th>6</th>\n",
       "      <td>7</td>\n",
       "      <td>1</td>\n",
       "      <td>54.000000</td>\n",
       "      <td>0</td>\n",
       "      <td>0</td>\n",
       "      <td>51.8625</td>\n",
       "    </tr>\n",
       "    <tr>\n",
       "      <th>7</th>\n",
       "      <td>8</td>\n",
       "      <td>3</td>\n",
       "      <td>2.000000</td>\n",
       "      <td>3</td>\n",
       "      <td>1</td>\n",
       "      <td>21.0750</td>\n",
       "    </tr>\n",
       "    <tr>\n",
       "      <th>8</th>\n",
       "      <td>9</td>\n",
       "      <td>3</td>\n",
       "      <td>27.000000</td>\n",
       "      <td>0</td>\n",
       "      <td>2</td>\n",
       "      <td>11.1333</td>\n",
       "    </tr>\n",
       "    <tr>\n",
       "      <th>9</th>\n",
       "      <td>10</td>\n",
       "      <td>2</td>\n",
       "      <td>14.000000</td>\n",
       "      <td>1</td>\n",
       "      <td>0</td>\n",
       "      <td>30.0708</td>\n",
       "    </tr>\n",
       "  </tbody>\n",
       "</table>\n",
       "</div>"
      ],
      "text/plain": [
       "   PassengerId  Pclass        Age  SibSp  Parch     Fare\n",
       "0            1       3  22.000000      1      0   7.2500\n",
       "1            2       1  38.000000      1      0  71.2833\n",
       "2            3       3  26.000000      0      0   7.9250\n",
       "3            4       1  35.000000      1      0  53.1000\n",
       "4            5       3  35.000000      0      0   8.0500\n",
       "5            6       3  29.699118      0      0   8.4583\n",
       "6            7       1  54.000000      0      0  51.8625\n",
       "7            8       3   2.000000      3      1  21.0750\n",
       "8            9       3  27.000000      0      2  11.1333\n",
       "9           10       2  14.000000      1      0  30.0708"
      ]
     },
     "execution_count": 213,
     "metadata": {},
     "output_type": "execute_result"
    }
   ],
   "source": [
    "train_x[numeric_variables][0:10]"
   ]
  },
  {
   "cell_type": "code",
   "execution_count": 214,
   "metadata": {
    "collapsed": false
   },
   "outputs": [
    {
     "data": {
      "text/plain": [
       "RandomForestRegressor(bootstrap=True, criterion='mse', max_depth=None,\n",
       "           max_features='auto', max_leaf_nodes=None, min_samples_leaf=1,\n",
       "           min_samples_split=2, min_weight_fraction_leaf=0.0,\n",
       "           n_estimators=100, n_jobs=1, oob_score=True, random_state=42,\n",
       "           verbose=0, warm_start=False)"
      ]
     },
     "execution_count": 214,
     "metadata": {},
     "output_type": "execute_result"
    }
   ],
   "source": [
    "# Random forrest generalized trial, random_state to be able to replicate these results\n",
    "model_bm = RandomForestRegressor(n_estimators=100, oob_score=True, random_state=42)\n",
    "\n",
    "model_bm.fit(train_x[numeric_variables],train_y)"
   ]
  },
  {
   "cell_type": "code",
   "execution_count": 215,
   "metadata": {
    "collapsed": false
   },
   "outputs": [
    {
     "name": "stdout",
     "output_type": "stream",
     "text": [
      "c-stat result:  0.738634305862\n"
     ]
    }
   ],
   "source": [
    "# use out-of-bag samples to estimate generalization error, have out of bag predications\n",
    "y_oob = model_bm.oob_prediction_\n",
    "print(\"c-stat result: \",roc_auc_score(train_y,y_oob))"
   ]
  },
  {
   "cell_type": "markdown",
   "metadata": {},
   "source": [
    "# Finish benchmark, state tuning from model_bm to model"
   ]
  },
  {
   "cell_type": "code",
   "execution_count": 216,
   "metadata": {
    "collapsed": true
   },
   "outputs": [],
   "source": [
    "# extract and doing statistics for left object variables, improvement for the dataset\n",
    "def describe_object(X):\n",
    "    # return object variables only\n",
    "    from IPython.display import display, HTML\n",
    "    display(HTML(X[X.columns[X.dtypes == \"object\"]].describe().to_html()))"
   ]
  },
  {
   "cell_type": "code",
   "execution_count": 217,
   "metadata": {
    "collapsed": false
   },
   "outputs": [
    {
     "data": {
      "text/html": [
       "<table border=\"1\" class=\"dataframe\">\n",
       "  <thead>\n",
       "    <tr style=\"text-align: right;\">\n",
       "      <th></th>\n",
       "      <th>Name</th>\n",
       "      <th>Sex</th>\n",
       "      <th>Ticket</th>\n",
       "      <th>Cabin</th>\n",
       "      <th>Embarked</th>\n",
       "    </tr>\n",
       "  </thead>\n",
       "  <tbody>\n",
       "    <tr>\n",
       "      <th>count</th>\n",
       "      <td>891</td>\n",
       "      <td>891</td>\n",
       "      <td>891</td>\n",
       "      <td>204</td>\n",
       "      <td>889</td>\n",
       "    </tr>\n",
       "    <tr>\n",
       "      <th>unique</th>\n",
       "      <td>891</td>\n",
       "      <td>2</td>\n",
       "      <td>681</td>\n",
       "      <td>147</td>\n",
       "      <td>3</td>\n",
       "    </tr>\n",
       "    <tr>\n",
       "      <th>top</th>\n",
       "      <td>Frauenthal, Dr. Henry William</td>\n",
       "      <td>male</td>\n",
       "      <td>1601</td>\n",
       "      <td>B96 B98</td>\n",
       "      <td>S</td>\n",
       "    </tr>\n",
       "    <tr>\n",
       "      <th>freq</th>\n",
       "      <td>1</td>\n",
       "      <td>577</td>\n",
       "      <td>7</td>\n",
       "      <td>4</td>\n",
       "      <td>644</td>\n",
       "    </tr>\n",
       "  </tbody>\n",
       "</table>"
      ],
      "text/plain": [
       "<IPython.core.display.HTML object>"
      ]
     },
     "metadata": {},
     "output_type": "display_data"
    }
   ],
   "source": [
    "describe_object(train_x)"
   ]
  },
  {
   "cell_type": "code",
   "execution_count": 218,
   "metadata": {
    "collapsed": true
   },
   "outputs": [],
   "source": [
    "# Drop irrelavant columns maybe\n",
    "train_x.drop(['Name','Ticket','PassengerId'], axis=1, inplace=True)"
   ]
  },
  {
   "cell_type": "code",
   "execution_count": 219,
   "metadata": {
    "collapsed": false
   },
   "outputs": [],
   "source": [
    "# standardize other variables into columns of number, flatten to 0 and 1\n",
    "# (1) Transform: Cabin with first letter as important standard, if NAN return None\n",
    "def std_cabin(x):\n",
    "    try:\n",
    "        return x[0]\n",
    "    except TypeError:\n",
    "        return \"None\"\n",
    "train_x['Cabin']=train_x.Cabin.apply(std_cabin)"
   ]
  },
  {
   "cell_type": "code",
   "execution_count": 220,
   "metadata": {
    "collapsed": true
   },
   "outputs": [],
   "source": [
    "# (2) Visualize: use seaborn to visualize categorical variables\n",
    "import numpy as np\n",
    "import matplotlib.pyplot as plt\n",
    "import seaborn as sns\n",
    "%matplotlib inline"
   ]
  },
  {
   "cell_type": "code",
   "execution_count": 221,
   "metadata": {
    "collapsed": false
   },
   "outputs": [
    {
     "data": {
      "text/plain": [
       "<seaborn.axisgrid.FacetGrid at 0xcef9278>"
      ]
     },
     "execution_count": 221,
     "metadata": {},
     "output_type": "execute_result"
    },
    {
     "data": {
      "image/png": "[encoded data removed]",
      "text/plain": [
       "<matplotlib.figure.Figure at 0xf8f2da0>"
      ]
     },
     "metadata": {},
     "output_type": "display_data"
    }
   ],
   "source": [
    "sns.factorplot('Cabin',data=train_x, hue='Sex',kind=\"count\") "
   ]
  },
  {
   "cell_type": "code",
   "execution_count": 222,
   "metadata": {
    "collapsed": false
   },
   "outputs": [
    {
     "data": {
      "text/plain": [
       "<seaborn.axisgrid.FacetGrid at 0xe7681d0>"
      ]
     },
     "execution_count": 222,
     "metadata": {},
     "output_type": "execute_result"
    },
    {
     "data": {
      "image/png": "[encoded data removed]",
      "text/plain": [
       "<matplotlib.figure.Figure at 0xf9ade10>"
      ]
     },
     "metadata": {},
     "output_type": "display_data"
    }
   ],
   "source": [
    "sns.factorplot('Embarked',data=train_x, hue='Sex',kind=\"count\") "
   ]
  },
  {
   "cell_type": "code",
   "execution_count": 223,
   "metadata": {
    "collapsed": true
   },
   "outputs": [],
   "source": [
    "# (3) Flatten categorical parameters, assign 0 or 1 is better than number due to weight is unknown\n",
    "\n",
    "categorical_x = ['Sex','Cabin','Embarked']\n",
    "\n",
    "for x in categorical_x:\n",
    "    train_x[x].fillna(\"Missing\", inplace=True) # Missing is also maybe a option for categorize\n",
    "    dummies = pd.get_dummies(train_x[x], prefix=x) # create dummies array\n",
    "    train_x = pd.concat([train_x, dummies], axis=1)\n",
    "    train_x.drop([x],axis=1, inplace=True)\n",
    "    "
   ]
  },
  {
   "cell_type": "code",
   "execution_count": 224,
   "metadata": {
    "collapsed": false
   },
   "outputs": [
    {
     "name": "stdout",
     "output_type": "stream",
     "text": [
      "<class 'pandas.core.frame.DataFrame'>\n",
      "Int64Index: 891 entries, 0 to 890\n",
      "Data columns (total 20 columns):\n",
      "Pclass              891 non-null int64\n",
      "Age                 891 non-null float64\n",
      "SibSp               891 non-null int64\n",
      "Parch               891 non-null int64\n",
      "Fare                891 non-null float64\n",
      "Sex_female          891 non-null float64\n",
      "Sex_male            891 non-null float64\n",
      "Cabin_A             891 non-null float64\n",
      "Cabin_B             891 non-null float64\n",
      "Cabin_C             891 non-null float64\n",
      "Cabin_D             891 non-null float64\n",
      "Cabin_E             891 non-null float64\n",
      "Cabin_F             891 non-null float64\n",
      "Cabin_G             891 non-null float64\n",
      "Cabin_None          891 non-null float64\n",
      "Cabin_T             891 non-null float64\n",
      "Embarked_C          891 non-null float64\n",
      "Embarked_Missing    891 non-null float64\n",
      "Embarked_Q          891 non-null float64\n",
      "Embarked_S          891 non-null float64\n",
      "dtypes: float64(17), int64(3)\n",
      "memory usage: 146.2 KB\n"
     ]
    }
   ],
   "source": [
    "train_x.info()"
   ]
  },
  {
   "cell_type": "markdown",
   "metadata": {},
   "source": [
    "#Finish optimize all data, start building model and tuning parameters"
   ]
  },
  {
   "cell_type": "code",
   "execution_count": 225,
   "metadata": {
    "collapsed": false
   },
   "outputs": [
    {
     "name": "stdout",
     "output_type": "stream",
     "text": [
      "C-stat result:  0.864772739377\n"
     ]
    }
   ],
   "source": [
    "# build typical model model_tp\n",
    "model_tp = RandomForestRegressor(n_estimators=100, oob_score=True, random_state=42)\n",
    "model_tp.fit(train_x, train_y)\n",
    "print(\"C-stat result: \", roc_auc_score(train_y, model_tp.oob_prediction_))"
   ]
  },
  {
   "cell_type": "markdown",
   "metadata": {},
   "source": [
    "### Get ranking of importance for all variables"
   ]
  },
  {
   "cell_type": "code",
   "execution_count": 226,
   "metadata": {
    "collapsed": false
   },
   "outputs": [
    {
     "data": {
      "text/plain": [
       "<matplotlib.axes._subplots.AxesSubplot at 0xfa123c8>"
      ]
     },
     "execution_count": 226,
     "metadata": {},
     "output_type": "execute_result"
    },
    {
     "data": {
      "image/png": "[encoded data removed]",
      "text/plain": [
       "<matplotlib.figure.Figure at 0xe275390>"
      ]
     },
     "metadata": {},
     "output_type": "display_data"
    }
   ],
   "source": [
    "# Get ranking of importance for all variables\n",
    "# (1) show result\n",
    "feature_importances = pd.Series(model_tp.feature_importances_, index= train_x.columns)\n",
    "feature_importances.sort()\n",
    "feature_importances.plot(kind='barh',figsize=(10,6))"
   ]
  },
  {
   "cell_type": "code",
   "execution_count": 227,
   "metadata": {
    "collapsed": true
   },
   "outputs": [],
   "source": [
    "# show variable aggregations\n",
    "def variable_agg(model, feature_names, aggregations=None):\n",
    "    feature_dict=dict(zip(feature_names, model.feature_importances_))\n",
    "    if aggregations:\n",
    "        for col_name in aggregations:\n",
    "            sum_value= sum(x for i,x in feature_dict.items() if col_name in i)\n",
    "            \n",
    "            keys_remove = [i for i in feature_dict.keys() if col_name in i]\n",
    "            for i in keys_remove:\n",
    "                feature_dict.pop(i)\n",
    "                \n",
    "            feature_dict[col_name] = sum_value\n",
    "    #print(feature_dict.values())     \n",
    "    results = pd.Series(list(feature_dict.values()), index=feature_dict.keys())\n",
    "    results.sort()\n",
    "    return results"
   ]
  },
  {
   "cell_type": "code",
   "execution_count": 228,
   "metadata": {
    "collapsed": false
   },
   "outputs": [],
   "source": [
    "result_agg=variable_agg(model_tp, train_x.columns,categorical_x)"
   ]
  },
  {
   "cell_type": "code",
   "execution_count": 229,
   "metadata": {
    "collapsed": false
   },
   "outputs": [
    {
     "data": {
      "text/plain": [
       "<matplotlib.axes._subplots.AxesSubplot at 0xf9adc18>"
      ]
     },
     "execution_count": 229,
     "metadata": {},
     "output_type": "execute_result"
    },
    {
     "data": {
      "image/png": "[encoded data removed]",
      "text/plain": [
       "<matplotlib.figure.Figure at 0xf9b3d68>"
      ]
     },
     "metadata": {},
     "output_type": "display_data"
    }
   ],
   "source": [
    "result_agg.plot(kind='barh',figsize=(10,6))"
   ]
  },
  {
   "cell_type": "markdown",
   "metadata": {},
   "source": [
    "#### Get the importance of varabiles, run EDA to find most important, if just want to predict, select only the important, accuracy will improve and run faster to train"
   ]
  },
  {
   "cell_type": "markdown",
   "metadata": {},
   "source": [
    "##Parameter tuning"
   ]
  },
  {
   "cell_type": "markdown",
   "metadata": {},
   "source": [
    "####(1) timeit for n_jobs  %% should be 1st line"
   ]
  },
  {
   "cell_type": "code",
   "execution_count": 230,
   "metadata": {
    "collapsed": false
   },
   "outputs": [
    {
     "name": "stdout",
     "output_type": "stream",
     "text": [
      "1 loops, best of 3: 324 ms per loop\n"
     ]
    }
   ],
   "source": [
    "%%timeit\n",
    "\n",
    "model = RandomForestRegressor(n_estimators=100, oob_score=True, n_jobs=1, random_state=42)\n",
    "model.fit(train_x, train_y)"
   ]
  },
  {
   "cell_type": "code",
   "execution_count": 231,
   "metadata": {
    "collapsed": false
   },
   "outputs": [
    {
     "name": "stdout",
     "output_type": "stream",
     "text": [
      "1 loops, best of 3: 236 ms per loop\n"
     ]
    }
   ],
   "source": [
    "%%timeit\n",
    "\n",
    "model = RandomForestRegressor(n_estimators=100, oob_score=True, n_jobs=-1, random_state=42)\n",
    "model.fit(train_x, train_y)"
   ]
  },
  {
   "cell_type": "markdown",
   "metadata": {},
   "source": [
    "####(2) n_estimators"
   ]
  },
  {
   "cell_type": "code",
   "execution_count": 372,
   "metadata": {
    "collapsed": false
   },
   "outputs": [
    {
     "data": {
      "text/plain": [
       "<matplotlib.axes._subplots.AxesSubplot at 0xfd70828>"
      ]
     },
     "execution_count": 372,
     "metadata": {},
     "output_type": "execute_result"
    },
    {
     "data": {
      "image/png": "[encoded data removed]",
      "text/plain": [
       "<matplotlib.figure.Figure at 0xfd70f60>"
      ]
     },
     "metadata": {},
     "output_type": "display_data"
    }
   ],
   "source": [
    "n_estimator_options = [20,40,100,200,500]\n",
    "results_trees =[]\n",
    "\n",
    "for trees in n_estimator_options:\n",
    "    model = RandomForestRegressor(n_estimators=trees, oob_score=True, n_jobs=1, random_state=42)\n",
    "    model.fit(train_x, train_y)\n",
    "    roc = roc_auc_score(train_y, model.oob_prediction_)\n",
    "    results_trees.append(roc)\n",
    "    \n",
    "pd.Series(results_trees,n_estimator_options).plot() # results hover around the max"
   ]
  },
  {
   "cell_type": "markdown",
   "metadata": {},
   "source": [
    "#### (3) max_features"
   ]
  },
  {
   "cell_type": "code",
   "execution_count": 233,
   "metadata": {
    "collapsed": false
   },
   "outputs": [
    {
     "data": {
      "text/plain": [
       "<matplotlib.axes._subplots.AxesSubplot at 0xce22e10>"
      ]
     },
     "execution_count": 233,
     "metadata": {},
     "output_type": "execute_result"
    },
    {
     "data": {
      "image/png": "[encoded data removed]",
      "text/plain": [
       "<matplotlib.figure.Figure at 0xfad4748>"
      ]
     },
     "metadata": {},
     "output_type": "display_data"
    }
   ],
   "source": [
    "result_feature =[]\n",
    "\n",
    "max_features_options = [\"auto\", None, \"sqrt\", 0.9, 0.2]\n",
    "\n",
    "for max_features in max_features_options:\n",
    "    model = RandomForestRegressor(n_estimators=100, oob_score=True, n_jobs=1, random_state=42, max_features=max_features)\n",
    "    model.fit(train_x, train_y)\n",
    "    roc = roc_auc_score(train_y, model.oob_prediction_)\n",
    "    result_feature.append(roc)\n",
    "    \n",
    "pd.Series(result_feature,max_features_options).plot(kind='barh', xlim=(0.85, 0.88)) # results close auto best"
   ]
  },
  {
   "cell_type": "markdown",
   "metadata": {},
   "source": [
    "#### (4) min_samples_leaf"
   ]
  },
  {
   "cell_type": "code",
   "execution_count": 234,
   "metadata": {
    "collapsed": false
   },
   "outputs": [
    {
     "data": {
      "text/plain": [
       "<matplotlib.axes._subplots.AxesSubplot at 0xfbc14a8>"
      ]
     },
     "execution_count": 234,
     "metadata": {},
     "output_type": "execute_result"
    },
    {
     "data": {
      "image/png": "[encoded data removed]",
      "text/plain": [
       "<matplotlib.figure.Figure at 0xfb78320>"
      ]
     },
     "metadata": {},
     "output_type": "display_data"
    }
   ],
   "source": [
    "result_leaf = []\n",
    "\n",
    "min_samples_leaf_options = [1,2,3,4,5, 6,7,8,9,10]\n",
    "\n",
    "for min_samples_leaf in min_samples_leaf_options:\n",
    "    model = RandomForestRegressor(n_estimators=100, oob_score=True, \n",
    "                                  n_jobs=1, random_state=42, max_features='auto', \n",
    "                                 min_samples_leaf=min_samples_leaf)\n",
    "    model.fit(train_x, train_y)\n",
    "    roc = roc_auc_score(train_y, model.oob_prediction_)\n",
    "    result_leaf.append(roc)\n",
    "\n",
    "pd.Series(result_leaf,min_samples_leaf_options).plot() "
   ]
  },
  {
   "cell_type": "markdown",
   "metadata": {},
   "source": [
    "##Automatic tuning"
   ]
  },
  {
   "cell_type": "code",
   "execution_count": 243,
   "metadata": {
    "collapsed": false
   },
   "outputs": [
    {
     "data": {
      "text/plain": [
       "\"Parameter_grid = [(100,200),(2,6,8)]\\n\\nbest_roc = float('-inf')\\n\\nfor n_estimators, min_samples_leaf in (100,200),(2,6):\\n    model = RandomForestRegressor(n_estimators=n_estimators, oob_score=True, \\n                                  n_jobs=1, random_state=42, max_features='auto', \\n                                 min_samples_leaf=min_samples_leaf)\\n    model.fit(train_x, train_y)\\n    roc = roc_auc_score(train_y, model.oob_prediction_)\\n    if roc > best_roc:\\n        best_roc = roc\\n\\nprint(best_roc)\""
      ]
     },
     "execution_count": 243,
     "metadata": {},
     "output_type": "execute_result"
    }
   ],
   "source": [
    "'''Parameter_grid = [(100,200),(2,6,8)]\n",
    "\n",
    "best_roc = float('-inf')\n",
    "\n",
    "for n_estimators, min_samples_leaf in (100,200),(2,6):\n",
    "    model = RandomForestRegressor(n_estimators=n_estimators, oob_score=True, \n",
    "                                  n_jobs=1, random_state=42, max_features='auto', \n",
    "                                 min_samples_leaf=min_samples_leaf)\n",
    "    model.fit(train_x, train_y)\n",
    "    roc = roc_auc_score(train_y, model.oob_prediction_)\n",
    "    if roc > best_roc:\n",
    "        best_roc = roc\n",
    "\n",
    "print(best_roc)'''"
   ]
  },
  {
   "cell_type": "markdown",
   "metadata": {},
   "source": [
    "#Final result, add Feature engineering and data improvement"
   ]
  },
  {
   "cell_type": "code",
   "execution_count": 235,
   "metadata": {
    "collapsed": false
   },
   "outputs": [
    {
     "name": "stdout",
     "output_type": "stream",
     "text": [
      "<class 'pandas.core.frame.DataFrame'>\n",
      "Int64Index: 891 entries, 0 to 890\n",
      "Data columns (total 20 columns):\n",
      "Pclass              891 non-null int64\n",
      "Age                 891 non-null float64\n",
      "SibSp               891 non-null int64\n",
      "Parch               891 non-null int64\n",
      "Fare                891 non-null float64\n",
      "Sex_female          891 non-null float64\n",
      "Sex_male            891 non-null float64\n",
      "Cabin_A             891 non-null float64\n",
      "Cabin_B             891 non-null float64\n",
      "Cabin_C             891 non-null float64\n",
      "Cabin_D             891 non-null float64\n",
      "Cabin_E             891 non-null float64\n",
      "Cabin_F             891 non-null float64\n",
      "Cabin_G             891 non-null float64\n",
      "Cabin_None          891 non-null float64\n",
      "Cabin_T             891 non-null float64\n",
      "Embarked_C          891 non-null float64\n",
      "Embarked_Missing    891 non-null float64\n",
      "Embarked_Q          891 non-null float64\n",
      "Embarked_S          891 non-null float64\n",
      "dtypes: float64(17), int64(3)\n",
      "memory usage: 146.2 KB\n"
     ]
    }
   ],
   "source": [
    "train_x.info()"
   ]
  },
  {
   "cell_type": "code",
   "execution_count": 247,
   "metadata": {
    "collapsed": false
   },
   "outputs": [
    {
     "name": "stdout",
     "output_type": "stream",
     "text": [
      "0.871438234323\n"
     ]
    }
   ],
   "source": [
    "model_final = RandomForestRegressor(n_estimators=100, oob_score=True, \n",
    "                                  n_jobs=1, random_state=42, max_features='auto', \n",
    "                                 min_samples_leaf=6)\n",
    "model_final.fit(train_x, train_y)\n",
    "roc = roc_auc_score(train_y, model_final.oob_prediction_)\n",
    "print(roc)"
   ]
  },
  {
   "cell_type": "code",
   "execution_count": 349,
   "metadata": {
    "collapsed": false
   },
   "outputs": [],
   "source": [
    "test_x = pd.read_csv(\"test.csv\")\n",
    "ids = test_x['PassengerId']"
   ]
  },
  {
   "cell_type": "code",
   "execution_count": 350,
   "metadata": {
    "collapsed": false
   },
   "outputs": [
    {
     "name": "stdout",
     "output_type": "stream",
     "text": [
      "<class 'pandas.core.frame.DataFrame'>\n",
      "Int64Index: 418 entries, 0 to 417\n",
      "Data columns (total 11 columns):\n",
      "PassengerId    418 non-null int64\n",
      "Pclass         418 non-null int64\n",
      "Name           418 non-null object\n",
      "Sex            418 non-null object\n",
      "Age            332 non-null float64\n",
      "SibSp          418 non-null int64\n",
      "Parch          418 non-null int64\n",
      "Ticket         418 non-null object\n",
      "Fare           417 non-null float64\n",
      "Cabin          91 non-null object\n",
      "Embarked       418 non-null object\n",
      "dtypes: float64(2), int64(4), object(5)\n",
      "memory usage: 39.2+ KB\n"
     ]
    }
   ],
   "source": [
    "test_x.info()"
   ]
  },
  {
   "cell_type": "code",
   "execution_count": 351,
   "metadata": {
    "collapsed": false
   },
   "outputs": [],
   "source": [
    "#Flatten categorical parameters, assign 0 or 1 is better than number due to weight is unknown\n",
    "test_x['Age'].fillna(test_x['Age'].mean(), inplace=True)\n",
    "\n",
    "test_x['Fare'].fillna(test_x['Fare'].mean(), inplace=True)\n",
    "\n",
    "test_x.drop(['Name','Ticket','PassengerId'], axis=1, inplace=True)\n",
    "\n",
    "test_x['Cabin']=test_x.Cabin.apply(std_cabin)\n",
    "\n",
    "categorical_x = ['Sex','Cabin','Embarked']\n",
    "\n",
    "for x in categorical_x:\n",
    "    test_x[x].fillna(\"Missing\", inplace=True) # Missing is also maybe a option for categorize\n",
    "    dummies = pd.get_dummies(test_x[x], prefix=x) # create dummies array\n",
    "    test_x = pd.concat([test_x, dummies], axis=1)\n",
    "    test_x.drop([x],axis=1, inplace=True)"
   ]
  },
  {
   "cell_type": "code",
   "execution_count": 352,
   "metadata": {
    "collapsed": false
   },
   "outputs": [
    {
     "name": "stdout",
     "output_type": "stream",
     "text": [
      "<class 'pandas.core.frame.DataFrame'>\n",
      "Int64Index: 418 entries, 0 to 417\n",
      "Data columns (total 18 columns):\n",
      "Pclass        418 non-null int64\n",
      "Age           418 non-null float64\n",
      "SibSp         418 non-null int64\n",
      "Parch         418 non-null int64\n",
      "Fare          418 non-null float64\n",
      "Sex_female    418 non-null float64\n",
      "Sex_male      418 non-null float64\n",
      "Cabin_A       418 non-null float64\n",
      "Cabin_B       418 non-null float64\n",
      "Cabin_C       418 non-null float64\n",
      "Cabin_D       418 non-null float64\n",
      "Cabin_E       418 non-null float64\n",
      "Cabin_F       418 non-null float64\n",
      "Cabin_G       418 non-null float64\n",
      "Cabin_None    418 non-null float64\n",
      "Embarked_C    418 non-null float64\n",
      "Embarked_Q    418 non-null float64\n",
      "Embarked_S    418 non-null float64\n",
      "dtypes: float64(15), int64(3)\n",
      "memory usage: 62.0 KB\n"
     ]
    }
   ],
   "source": [
    "test_x.info()"
   ]
  },
  {
   "cell_type": "code",
   "execution_count": 353,
   "metadata": {
    "collapsed": false
   },
   "outputs": [],
   "source": [
    "# Missing Carin_T and Embark_Missing"
   ]
  },
  {
   "cell_type": "code",
   "execution_count": 354,
   "metadata": {
    "collapsed": true
   },
   "outputs": [],
   "source": [
    "test_x['Carbin_T']=0\n",
    "test_x['Embarked_Missing']=0"
   ]
  },
  {
   "cell_type": "code",
   "execution_count": 355,
   "metadata": {
    "collapsed": false
   },
   "outputs": [
    {
     "name": "stdout",
     "output_type": "stream",
     "text": [
      "<class 'pandas.core.frame.DataFrame'>\n",
      "Int64Index: 418 entries, 0 to 417\n",
      "Data columns (total 20 columns):\n",
      "Pclass              418 non-null int64\n",
      "Age                 418 non-null float64\n",
      "SibSp               418 non-null int64\n",
      "Parch               418 non-null int64\n",
      "Fare                418 non-null float64\n",
      "Sex_female          418 non-null float64\n",
      "Sex_male            418 non-null float64\n",
      "Cabin_A             418 non-null float64\n",
      "Cabin_B             418 non-null float64\n",
      "Cabin_C             418 non-null float64\n",
      "Cabin_D             418 non-null float64\n",
      "Cabin_E             418 non-null float64\n",
      "Cabin_F             418 non-null float64\n",
      "Cabin_G             418 non-null float64\n",
      "Cabin_None          418 non-null float64\n",
      "Embarked_C          418 non-null float64\n",
      "Embarked_Q          418 non-null float64\n",
      "Embarked_S          418 non-null float64\n",
      "Carbin_T            418 non-null int64\n",
      "Embarked_Missing    418 non-null int64\n",
      "dtypes: float64(15), int64(5)\n",
      "memory usage: 68.6 KB\n"
     ]
    }
   ],
   "source": [
    "test_x.info()"
   ]
  },
  {
   "cell_type": "code",
   "execution_count": 369,
   "metadata": {
    "collapsed": false
   },
   "outputs": [],
   "source": [
    "predict_results = model_final.predict(test_x)\n",
    "predict_map =[]\n",
    "for result in predict_results:\n",
    "    if result > 0.5: predict_map.append(1)\n",
    "    else: predict_map.append(0)"
   ]
  },
  {
   "cell_type": "code",
   "execution_count": 370,
   "metadata": {
    "collapsed": false
   },
   "outputs": [],
   "source": [
    "'''import csv as csv\n",
    "rows = zip(ids,predict_results)\n",
    "csvfile = \"forestoutput1.csv\"\n",
    "\n",
    "f = open(csvfile, 'w+')\n",
    "try:\n",
    "    writer = csv.writer(f,lineterminator='\\n')\n",
    "    writer.writerow( ('PassengerId', 'Survived') )\n",
    "    for row in rows:\n",
    "        writer.writerow( row )\n",
    "finally:\n",
    "    f.close()'''\n",
    "\n",
    "submission = pd.DataFrame({ 'PassengerId': ids,\n",
    "                            'Survived': predict_map })\n",
    "submission.to_csv(\"submission.csv\", index=False)\n",
    "\n"
   ]
  },
  {
   "cell_type": "code",
   "execution_count": 339,
   "metadata": {
    "collapsed": false
   },
   "outputs": [
    {
     "data": {
      "text/plain": [
       "[]"
      ]
     },
     "execution_count": 339,
     "metadata": {},
     "output_type": "execute_result"
    }
   ],
   "source": []
  }
 ],
 "metadata": {
  "kernelspec": {
   "display_name": "Python 3",
   "language": "python",
   "name": "python3"
  },
  "language_info": {
   "codemirror_mode": {
    "name": "ipython",
    "version": 3
   },
   "file_extension": ".py",
   "mimetype": "text/x-python",
   "name": "python",
   "nbconvert_exporter": "python",
   "pygments_lexer": "ipython3",
   "version": "3.4.3"
  }
 },
 "nbformat": 4,
 "nbformat_minor": 0
}
