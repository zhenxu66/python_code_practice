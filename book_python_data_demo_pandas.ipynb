{
 "cells": [
  {
   "cell_type": "code",
   "execution_count": 1,
   "metadata": {
    "collapsed": true
   },
   "outputs": [],
   "source": [
    "import pandas as pd\n",
    "import numpy as np\n",
    "import matplotlib.pyplot as plt\n",
    "%matplotlib inline\n",
    "import seaborn as sns"
   ]
  },
  {
   "cell_type": "markdown",
   "metadata": {},
   "source": [
    "## (1) Series"
   ]
  },
  {
   "cell_type": "code",
   "execution_count": 2,
   "metadata": {
    "collapsed": false
   },
   "outputs": [],
   "source": [
    "series_1 = pd.Series([1,2,3],index=['first','second','third'])\n",
    "\n",
    "series_dict = {'Monday' : 1, 'Tuesday' : 2, 'Wednesday' :3}\n",
    "series_2 = pd.Series(series_dict)\n",
    "# add name to series and index of series\n",
    "series_2.name = 'Weekday_num'\n",
    "series_2.index.name = 'Weekday'"
   ]
  },
  {
   "cell_type": "code",
   "execution_count": 3,
   "metadata": {
    "collapsed": false
   },
   "outputs": [
    {
     "name": "stdout",
     "output_type": "stream",
     "text": [
      "-----series_1-----\n",
      "first     1\n",
      "second    2\n",
      "third     3\n",
      "dtype: int64\n",
      "[1 2 3]\n",
      "Index(['first', 'second', 'third'], dtype='object')\n",
      "\n",
      "\n",
      "-----series_2-----\n",
      "Weekday\n",
      "Monday       1\n",
      "Tuesday      2\n",
      "Wednesday    3\n",
      "Name: Weekday_num, dtype: int64\n"
     ]
    }
   ],
   "source": [
    "print('-----series_1-----')\n",
    "print(series_1)\n",
    "print(series_1.values)\n",
    "print(series_1.index)\n",
    "print('\\n\\n-----series_2-----')\n",
    "print(series_2)"
   ]
  },
  {
   "cell_type": "code",
   "execution_count": 4,
   "metadata": {
    "collapsed": false
   },
   "outputs": [
    {
     "data": {
      "text/plain": [
       "second    2\n",
       "third     3\n",
       "dtype: int64"
      ]
     },
     "execution_count": 4,
     "metadata": {},
     "output_type": "execute_result"
    }
   ],
   "source": [
    "# logic slice\n",
    "series_1[series_1 > 1]"
   ]
  },
  {
   "cell_type": "code",
   "execution_count": 5,
   "metadata": {
    "collapsed": false
   },
   "outputs": [
    {
     "data": {
      "text/plain": [
       "[<matplotlib.lines.Line2D at 0x921ce10>,\n",
       " <matplotlib.lines.Line2D at 0x9224198>,\n",
       " <matplotlib.lines.Line2D at 0x92249e8>]"
      ]
     },
     "execution_count": 5,
     "metadata": {},
     "output_type": "execute_result"
    },
    {
     "data": {
      "image/png": "[encoded data removed]",
      "text/plain": [
       "<matplotlib.figure.Figure at 0x91993c8>"
      ]
     },
     "metadata": {},
     "output_type": "display_data"
    }
   ],
   "source": [
    "# add element-wise calculations\n",
    "plt.plot(series_1,np.log1p(series_1),'r^--', series_1,series_1,'b-',series_1,2**series_1, 'go-')"
   ]
  },
  {
   "cell_type": "code",
   "execution_count": 6,
   "metadata": {
    "collapsed": false
   },
   "outputs": [
    {
     "data": {
      "text/plain": [
       "Monday        1\n",
       "Sunday      NaN\n",
       "Wednesday     3\n",
       "dtype: float64"
      ]
     },
     "execution_count": 6,
     "metadata": {},
     "output_type": "execute_result"
    }
   ],
   "source": [
    "series_3= pd.Series(series_dict, index =['Monday', 'Sunday','Wednesday'])\n",
    "series_3"
   ]
  },
  {
   "cell_type": "code",
   "execution_count": 7,
   "metadata": {
    "collapsed": false
   },
   "outputs": [
    {
     "name": "stdout",
     "output_type": "stream",
     "text": [
      "-----series_2-----\n",
      "Weekday\n",
      "Monday       1\n",
      "Tuesday      2\n",
      "Wednesday    3\n",
      "Name: Weekday_num, dtype: int64\n",
      "-----series_3-----\n",
      "Monday        1\n",
      "Sunday      NaN\n",
      "Wednesday     3\n",
      "dtype: float64\n",
      "-----series_2 + series_3-- indices must exist in both series---\n",
      "Monday        2\n",
      "Sunday      NaN\n",
      "Tuesday     NaN\n",
      "Wednesday     6\n",
      "dtype: float64\n"
     ]
    },
    {
     "data": {
      "text/plain": [
       "Monday       False\n",
       "Sunday        True\n",
       "Tuesday       True\n",
       "Wednesday    False\n",
       "dtype: bool"
      ]
     },
     "execution_count": 7,
     "metadata": {},
     "output_type": "execute_result"
    }
   ],
   "source": [
    "# \n",
    "print('-----series_2-----')\n",
    "print(series_2)\n",
    "print('-----series_3-----')\n",
    "print(series_3)\n",
    "print('-----series_2 + series_3-- indices must exist in both series---')\n",
    "series_4 = series_2 + series_3\n",
    "print(series_4)\n",
    "\n",
    "# print if nan\n",
    "pd.isnull(series_4)\n"
   ]
  },
  {
   "cell_type": "markdown",
   "metadata": {},
   "source": [
    "## (2) DateFrame"
   ]
  },
  {
   "cell_type": "code",
   "execution_count": 8,
   "metadata": {
    "collapsed": false
   },
   "outputs": [],
   "source": [
    "df1_dict = {'year': [2013, 2015, 2014], 'country' : ['China' , 'USA', 'Russia'], \\\n",
    "           'GDP':[6.2, 2.0, 0.8]} "
   ]
  },
  {
   "cell_type": "code",
   "execution_count": 9,
   "metadata": {
    "collapsed": false
   },
   "outputs": [
    {
     "data": {
      "text/html": [
       "<div>\n",
       "<table border=\"1\" class=\"dataframe\">\n",
       "  <thead>\n",
       "    <tr style=\"text-align: right;\">\n",
       "      <th></th>\n",
       "      <th>GDP</th>\n",
       "      <th>country</th>\n",
       "      <th>year</th>\n",
       "    </tr>\n",
       "  </thead>\n",
       "  <tbody>\n",
       "    <tr>\n",
       "      <th>0</th>\n",
       "      <td>6.2</td>\n",
       "      <td>China</td>\n",
       "      <td>2013</td>\n",
       "    </tr>\n",
       "    <tr>\n",
       "      <th>1</th>\n",
       "      <td>2.0</td>\n",
       "      <td>USA</td>\n",
       "      <td>2015</td>\n",
       "    </tr>\n",
       "    <tr>\n",
       "      <th>2</th>\n",
       "      <td>0.8</td>\n",
       "      <td>Russia</td>\n",
       "      <td>2014</td>\n",
       "    </tr>\n",
       "  </tbody>\n",
       "</table>\n",
       "</div>"
      ],
      "text/plain": [
       "   GDP country  year\n",
       "0  6.2   China  2013\n",
       "1  2.0     USA  2015\n",
       "2  0.8  Russia  2014"
      ]
     },
     "execution_count": 9,
     "metadata": {},
     "output_type": "execute_result"
    }
   ],
   "source": [
    "df1 = pd.DataFrame(df1_dict)\n",
    "df1"
   ]
  },
  {
   "cell_type": "code",
   "execution_count": 10,
   "metadata": {
    "collapsed": false
   },
   "outputs": [
    {
     "data": {
      "text/html": [
       "<div>\n",
       "<table border=\"1\" class=\"dataframe\">\n",
       "  <thead>\n",
       "    <tr style=\"text-align: right;\">\n",
       "      <th></th>\n",
       "      <th>country</th>\n",
       "      <th>year</th>\n",
       "      <th>GDP</th>\n",
       "      <th>debt</th>\n",
       "    </tr>\n",
       "  </thead>\n",
       "  <tbody>\n",
       "    <tr>\n",
       "      <th>one</th>\n",
       "      <td>China</td>\n",
       "      <td>2013</td>\n",
       "      <td>6.2</td>\n",
       "      <td>NaN</td>\n",
       "    </tr>\n",
       "    <tr>\n",
       "      <th>two</th>\n",
       "      <td>USA</td>\n",
       "      <td>2015</td>\n",
       "      <td>2.0</td>\n",
       "      <td>NaN</td>\n",
       "    </tr>\n",
       "    <tr>\n",
       "      <th>three</th>\n",
       "      <td>Russia</td>\n",
       "      <td>2014</td>\n",
       "      <td>0.8</td>\n",
       "      <td>NaN</td>\n",
       "    </tr>\n",
       "  </tbody>\n",
       "</table>\n",
       "</div>"
      ],
      "text/plain": [
       "      country  year  GDP debt\n",
       "one     China  2013  6.2  NaN\n",
       "two       USA  2015  2.0  NaN\n",
       "three  Russia  2014  0.8  NaN"
      ]
     },
     "execution_count": 10,
     "metadata": {},
     "output_type": "execute_result"
    }
   ],
   "source": [
    "# rearrange columns, assign index\n",
    "df2 = pd.DataFrame(df1_dict, columns = ['country', 'year', 'GDP','debt'], \\\n",
    "                   index = ['one','two','three'])\n",
    "df2"
   ]
  },
  {
   "cell_type": "code",
   "execution_count": 13,
   "metadata": {
    "collapsed": false
   },
   "outputs": [
    {
     "data": {
      "text/html": [
       "<div>\n",
       "<table border=\"1\" class=\"dataframe\">\n",
       "  <thead>\n",
       "    <tr style=\"text-align: right;\">\n",
       "      <th></th>\n",
       "      <th>country</th>\n",
       "      <th>year</th>\n",
       "      <th>GDP</th>\n",
       "      <th>debt</th>\n",
       "    </tr>\n",
       "  </thead>\n",
       "  <tbody>\n",
       "    <tr>\n",
       "      <th>one</th>\n",
       "      <td>China</td>\n",
       "      <td>2013</td>\n",
       "      <td>6.2</td>\n",
       "      <td>NaN</td>\n",
       "    </tr>\n",
       "    <tr>\n",
       "      <th>two</th>\n",
       "      <td>USA</td>\n",
       "      <td>2015</td>\n",
       "      <td>2.0</td>\n",
       "      <td>NaN</td>\n",
       "    </tr>\n",
       "  </tbody>\n",
       "</table>\n",
       "</div>"
      ],
      "text/plain": [
       "    country  year  GDP debt\n",
       "one   China  2013  6.2  NaN\n",
       "two     USA  2015  2.0  NaN"
      ]
     },
     "execution_count": 13,
     "metadata": {},
     "output_type": "execute_result"
    }
   ],
   "source": [
    "# Filter, add bit wise filter\n",
    "df2[(df2[\"GDP\"] > 1) & (df2[\"GDP\"] < 10)]"
   ]
  },
  {
   "cell_type": "code",
   "execution_count": 14,
   "metadata": {
    "collapsed": false
   },
   "outputs": [
    {
     "name": "stdout",
     "output_type": "stream",
     "text": [
      "      country  year  GDP   debt\n",
      "one     China  2013  6.2  False\n",
      "two       USA  2015  2.0  False\n",
      "three  Russia  2014  0.8   True\n"
     ]
    },
    {
     "data": {
      "text/plain": [
       "<matplotlib.text.Text at 0xa54f550>"
      ]
     },
     "execution_count": 14,
     "metadata": {},
     "output_type": "execute_result"
    },
    {
     "data": {
      "image/png": "[encoded data removed]",
      "text/plain": [
       "<matplotlib.figure.Figure at 0xa522dd8>"
      ]
     },
     "metadata": {},
     "output_type": "display_data"
    }
   ],
   "source": [
    "# modify columns value with same length\n",
    "threhold = 2\n",
    "df2['debt'] = df2.GDP < threhold\n",
    "print(df2)\n",
    "# ?? Map True/False to str\n",
    "#df2['debt'] = 'High' if df2['debt'] == True\n",
    "#print(df2)\n",
    "g = sns.factorplot('debt',data= df2,kind=\"count\",legend=True) \n",
    "sns.plt.title('Low GDP ~ High debt \\n GDP threhold = '+ str(threhold), fontsize=20)"
   ]
  },
  {
   "cell_type": "code",
   "execution_count": 15,
   "metadata": {
    "collapsed": false
   },
   "outputs": [
    {
     "name": "stdout",
     "output_type": "stream",
     "text": [
      "------columns name----------\n",
      "['country', 'year', 'GDP', 'debt']\n",
      "------uniques in column country----------\n",
      "['China', 'USA', 'Russia']\n"
     ]
    }
   ],
   "source": [
    "# >>> return properties of dataframe\n",
    "print('------columns name----------')\n",
    "print(list(df2.columns))\n",
    "print('------uniques in column country----------')\n",
    "print(list(df2.country.unique()))"
   ]
  },
  {
   "cell_type": "code",
   "execution_count": 16,
   "metadata": {
    "collapsed": false
   },
   "outputs": [
    {
     "data": {
      "text/plain": [
       "one      2013\n",
       "two      2015\n",
       "three    2014\n",
       "Name: year, dtype: int64"
      ]
     },
     "execution_count": 16,
     "metadata": {},
     "output_type": "execute_result"
    }
   ],
   "source": [
    "# >> retrive columns (Series with name)\n",
    "df2.year"
   ]
  },
  {
   "cell_type": "code",
   "execution_count": 17,
   "metadata": {
    "collapsed": false
   },
   "outputs": [
    {
     "name": "stdout",
     "output_type": "stream",
     "text": [
      "['one', 'two', 'three']\n",
      "\n",
      "----get record index = two------\n"
     ]
    },
    {
     "data": {
      "text/plain": [
       "country      USA\n",
       "year        2015\n",
       "GDP            2\n",
       "debt       False\n",
       "Name: two, dtype: object"
      ]
     },
     "execution_count": 17,
     "metadata": {},
     "output_type": "execute_result"
    }
   ],
   "source": [
    "# >> retrive record (Series with name)\n",
    "print(list(df2.index))\n",
    "print('\\n----get record index = two------')\n",
    "df2.ix['two']"
   ]
  },
  {
   "cell_type": "code",
   "execution_count": 18,
   "metadata": {
    "collapsed": false
   },
   "outputs": [
    {
     "name": "stdout",
     "output_type": "stream",
     "text": [
      "['China', 'USA']\n",
      "['China', 'USA']\n"
     ]
    }
   ],
   "source": [
    "# >> retrive element and elements\n",
    "print(list(df1['country'][0:2]))\n",
    "print([df2['country']['one'],df2['country']['two']])"
   ]
  },
  {
   "cell_type": "code",
   "execution_count": 19,
   "metadata": {
    "collapsed": false
   },
   "outputs": [
    {
     "data": {
      "text/html": [
       "<div>\n",
       "<table border=\"1\" class=\"dataframe\">\n",
       "  <thead>\n",
       "    <tr style=\"text-align: right;\">\n",
       "      <th></th>\n",
       "      <th>country</th>\n",
       "      <th>year</th>\n",
       "      <th>GDP</th>\n",
       "    </tr>\n",
       "  </thead>\n",
       "  <tbody>\n",
       "    <tr>\n",
       "      <th>one</th>\n",
       "      <td>China</td>\n",
       "      <td>2013</td>\n",
       "      <td>6.2</td>\n",
       "    </tr>\n",
       "    <tr>\n",
       "      <th>two</th>\n",
       "      <td>USA</td>\n",
       "      <td>2015</td>\n",
       "      <td>2.0</td>\n",
       "    </tr>\n",
       "    <tr>\n",
       "      <th>three</th>\n",
       "      <td>Russia</td>\n",
       "      <td>2014</td>\n",
       "      <td>0.8</td>\n",
       "    </tr>\n",
       "  </tbody>\n",
       "</table>\n",
       "</div>"
      ],
      "text/plain": [
       "      country  year  GDP\n",
       "one     China  2013  6.2\n",
       "two       USA  2015  2.0\n",
       "three  Russia  2014  0.8"
      ]
     },
     "execution_count": 19,
     "metadata": {},
     "output_type": "execute_result"
    }
   ],
   "source": [
    "# >>> del columns\n",
    "del df2['debt']\n",
    "df2"
   ]
  },
  {
   "cell_type": "code",
   "execution_count": null,
   "metadata": {
    "collapsed": false
   },
   "outputs": [],
   "source": []
  },
  {
   "cell_type": "code",
   "execution_count": null,
   "metadata": {
    "collapsed": false
   },
   "outputs": [],
   "source": []
  },
  {
   "cell_type": "code",
   "execution_count": null,
   "metadata": {
    "collapsed": false
   },
   "outputs": [],
   "source": []
  },
  {
   "cell_type": "code",
   "execution_count": null,
   "metadata": {
    "collapsed": true
   },
   "outputs": [],
   "source": []
  }
 ],
 "metadata": {
  "kernelspec": {
   "display_name": "Python 3",
   "language": "python",
   "name": "python3"
  },
  "language_info": {
   "codemirror_mode": {
    "name": "ipython",
    "version": 3
   },
   "file_extension": ".py",
   "mimetype": "text/x-python",
   "name": "python",
   "nbconvert_exporter": "python",
   "pygments_lexer": "ipython3",
   "version": "3.4.3"
  }
 },
 "nbformat": 4,
 "nbformat_minor": 0
}
