{
 "cells": [
  {
   "cell_type": "code",
   "execution_count": 110,
   "metadata": {
    "collapsed": false
   },
   "outputs": [],
   "source": [
    "from bs4 import BeautifulSoup\n",
    "import sys, urllib.request\n",
    "import requests\n",
    "import numpy as np\n",
    "import seaborn as "
   ]
  },
  {
   "cell_type": "code",
   "execution_count": 127,
   "metadata": {
    "collapsed": true
   },
   "outputs": [],
   "source": [
    "artist=[]\n",
    "music=[]\n",
    "twitter=[]"
   ]
  },
  {
   "cell_type": "code",
   "execution_count": 128,
   "metadata": {
    "collapsed": false
   },
   "outputs": [],
   "source": [
    "def get_single_item_data(item_url, num =5):\n",
    "        source_code = urllib.request.urlopen(item_url)  # get all source code\n",
    "        source_text = source_code.read()\n",
    "        #plain_text = source_text.decode('utf-8')\n",
    "        #output = open('plain_text','w+')\n",
    "        #output.write(plain_text)\n",
    "        #output.close()\n",
    "        soup = BeautifulSoup(source_text,\"html.parser\")\n",
    "        #toplist = soup.find_all('table',{'class':'smv'}).find_all(\"tr\")[0].find_all(\"td\")td[3]\n",
    "        toplist = soup.find_all('table',{'class':'smv'})\n",
    "        Top_Emerging = toplist[0]\n",
    "        Top_Trending = toplist[1]\n",
    "        Top_Overall = toplist[2]\n",
    "        #print(toplist[2])\n",
    "        rank_list = toplist[2].find_all('tr')\n",
    "        for rank in rank_list:\n",
    "            artist.append(rank.find_all('td')[1].text)\n",
    "            music_text = rank.find_all('td')[2].text\n",
    "            music.append(music_text[0:(music_text.find(\" \")-1)])\n",
    "            twitter.append(rank.find_all('td')[1].find('a').get(\"href\"))\n",
    "        for i in np.arange(len(artist)).tolist()[0:num]:\n",
    "            print(\"ranking No:\"+str(i+1)+\"   artist:\"+artist[i]+\"  music:\"+music[i]+'\\n')\n",
    "            print(twitter[i]+'\\n')\n"
   ]
  },
  {
   "cell_type": "code",
   "execution_count": 129,
   "metadata": {
    "collapsed": false
   },
   "outputs": [
    {
     "name": "stdout",
     "output_type": "stream",
     "text": [
      "$$$$$$$$$$$$$$$$$$$$$$$$$$$$$$  Top Five song and Singers   $$$$$$$$$$$$$$$$$$$$$$$$$$$$$$$$\n",
      "\n",
      "ranking No:1   artist:Adele  music:Hello\n",
      "\n",
      "http://twitter.com/Adele\n",
      "\n",
      "ranking No:2   artist:Demi Lovato  music:Confident\n",
      "\n",
      "http://twitter.com/ddlovato\n",
      "\n",
      "ranking No:3   artist:Justin Bieber  music:Wha\n",
      "\n",
      "http://twitter.com/justinbieber\n",
      "\n",
      "ranking No:4   artist:Justin Bieber  music:Sorry\n",
      "\n",
      "http://twitter.com/justinbieber\n",
      "\n",
      "ranking No:5   artist:One Direction  music:A.M.\n",
      "\n",
      "http://twitter.com/onedirection\n",
      "\n"
     ]
    }
   ],
   "source": [
    "print(\"$$$$$$$$$$$$$$$$$$$$$$$$$$$$$$  Top Five song and Singers   $$$$$$$$$$$$$$$$$$$$$$$$$$$$$$$$\\n\")\n",
    "get_single_item_data(\"http://realtime.billboard.com/?chart=last24hours\", 5)"
   ]
  },
  {
   "cell_type": "code",
   "execution_count": null,
   "metadata": {
    "collapsed": false
   },
   "outputs": [],
   "source": [
    "\n"
   ]
  },
  {
   "cell_type": "code",
   "execution_count": null,
   "metadata": {
    "collapsed": true
   },
   "outputs": [],
   "source": []
  }
 ],
 "metadata": {
  "kernelspec": {
   "display_name": "Python 3",
   "language": "python",
   "name": "python3"
  },
  "language_info": {
   "codemirror_mode": {
    "name": "ipython",
    "version": 3
   },
   "file_extension": ".py",
   "mimetype": "text/x-python",
   "name": "python",
   "nbconvert_exporter": "python",
   "pygments_lexer": "ipython3",
   "version": "3.4.3"
  }
 },
 "nbformat": 4,
 "nbformat_minor": 0
}
