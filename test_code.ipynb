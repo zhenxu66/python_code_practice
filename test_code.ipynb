{
 "cells": [
  {
   "cell_type": "code",
   "execution_count": 1,
   "metadata": {
    "collapsed": false
   },
   "outputs": [],
   "source": [
    "import plotly.plotly as py\n",
    "import matplotlib.pyplot as plt\n",
    "import numpy as np\n",
    "import pandas as pd\n",
    "a= [1,2,3]\n",
    "%matplotlib inline"
   ]
  },
  {
   "cell_type": "code",
   "execution_count": 19,
   "metadata": {
    "collapsed": false
   },
   "outputs": [
    {
     "data": {
      "text/plain": [
       "[0, 1, 2, 3, 4, 5, 6, 7, 8, 9, 10]"
      ]
     },
     "execution_count": 19,
     "metadata": {},
     "output_type": "execute_result"
    }
   ],
   "source": [
    "np.arange(len(a)).tolist()"
   ]
  },
  {
   "cell_type": "code",
   "execution_count": 11,
   "metadata": {
    "collapsed": false
   },
   "outputs": [
    {
     "data": {
      "text/plain": [
       "[0, 1, 2]"
      ]
     },
     "execution_count": 11,
     "metadata": {},
     "output_type": "execute_result"
    }
   ],
   "source": [
    "b.tolist()"
   ]
  },
  {
   "cell_type": "code",
   "execution_count": 23,
   "metadata": {
    "collapsed": false
   },
   "outputs": [],
   "source": [
    "c= \"What Do You Mean? \"+'\\n'"
   ]
  },
  {
   "cell_type": "code",
   "execution_count": 25,
   "metadata": {
    "collapsed": false
   },
   "outputs": [
    {
     "data": {
      "text/plain": [
       "18"
      ]
     },
     "execution_count": 25,
     "metadata": {},
     "output_type": "execute_result"
    }
   ],
   "source": [
    "c.find(\"\\n\")"
   ]
  },
  {
   "cell_type": "code",
   "execution_count": 34,
   "metadata": {
    "collapsed": false
   },
   "outputs": [
    {
     "name": "stdout",
     "output_type": "stream",
     "text": [
      "[datetime.datetime(2010, 12, 1, 10, 0), datetime.datetime(2011, 1, 4, 9, 0), datetime.datetime(2011, 5, 5, 9, 0)]\n"
     ]
    },
    {
     "data": {
      "image/png": "[encoded data removed]",
      "text/plain": [
       "<matplotlib.figure.Figure at 0xf384588>"
      ]
     },
     "metadata": {},
     "output_type": "display_data"
    }
   ],
   "source": [
    "import datetime\n",
    "\n",
    "date = plt.figure()\n",
    "\n",
    "x = [datetime.datetime(2010, 12, 1, 10, 0),\n",
    "    datetime.datetime(2011, 1, 4, 9, 0),\n",
    "    datetime.datetime(2011, 5, 5, 9, 0)]\n",
    "y = [4, 9, 2]\n",
    "\n",
    "print(x)\n",
    "ax = plt.subplot(111)\n",
    "ax.bar(x, y, width=10)\n",
    "ax.xaxis_date()\n",
    "ax."
   ]
  },
  {
   "cell_type": "code",
   "execution_count": 38,
   "metadata": {
    "collapsed": false
   },
   "outputs": [
    {
     "data": {
      "text/plain": [
       "(0, 1, 2, 3, 4, 5, 6, 7, 8, 9)"
      ]
     },
     "execution_count": 38,
     "metadata": {},
     "output_type": "execute_result"
    }
   ],
   "source": [
    "tuple(np.arange(10))"
   ]
  },
  {
   "cell_type": "code",
   "execution_count": 22,
   "metadata": {
    "collapsed": false
   },
   "outputs": [],
   "source": [
    "raw_pd = pd.read_csv(\"Top_Trending_top11_33.csv\", encoding='cp1252')"
   ]
  },
  {
   "cell_type": "code",
   "execution_count": 23,
   "metadata": {
    "collapsed": false
   },
   "outputs": [
    {
     "name": "stdout",
     "output_type": "stream",
     "text": [
      "column names:\n"
     ]
    },
    {
     "data": {
      "text/plain": [
       "Index(['No_', 'Twitter', 'artist', 'music'], dtype='object')"
      ]
     },
     "execution_count": 23,
     "metadata": {},
     "output_type": "execute_result"
    }
   ],
   "source": [
    "print(\"column names:\")\n",
    "raw_pd.columns"
   ]
  },
  {
   "cell_type": "code",
   "execution_count": 24,
   "metadata": {
    "collapsed": false
   },
   "outputs": [
    {
     "data": {
      "text/plain": [
       "Int64Index([0, 1, 2, 3, 4, 5, 6, 7, 8, 9, 10, 11, 12, 13, 14, 15, 16, 17, 18,\n",
       "            19],\n",
       "           dtype='int64')"
      ]
     },
     "execution_count": 24,
     "metadata": {},
     "output_type": "execute_result"
    }
   ],
   "source": [
    "raw_pd.index"
   ]
  },
  {
   "cell_type": "code",
   "execution_count": 25,
   "metadata": {
    "collapsed": false
   },
   "outputs": [
    {
     "data": {
      "text/plain": [
       "20"
      ]
     },
     "execution_count": 25,
     "metadata": {},
     "output_type": "execute_result"
    }
   ],
   "source": [
    "pd_length = len(list(raw_pd.index))\n",
    "pd_length"
   ]
  },
  {
   "cell_type": "code",
   "execution_count": 49,
   "metadata": {
    "collapsed": false
   },
   "outputs": [
    {
     "data": {
      "text/plain": [
       "[11,\n",
       " 12,\n",
       " 13,\n",
       " 14,\n",
       " 15,\n",
       " 16,\n",
       " 17,\n",
       " 18,\n",
       " 19,\n",
       " 20,\n",
       " 21,\n",
       " 22,\n",
       " 23,\n",
       " 24,\n",
       " 25,\n",
       " 26,\n",
       " 27,\n",
       " 28,\n",
       " 29,\n",
       " 30]"
      ]
     },
     "execution_count": 49,
     "metadata": {},
     "output_type": "execute_result"
    }
   ],
   "source": [
    "list(raw_pd.No_)"
   ]
  },
  {
   "cell_type": "code",
   "execution_count": 36,
   "metadata": {
    "collapsed": false
   },
   "outputs": [
    {
     "data": {
      "text/plain": [
       "['0.9',\n",
       " '0.8',\n",
       " '0.8',\n",
       " '0.7',\n",
       " '0.7',\n",
       " '0.6',\n",
       " '0.6',\n",
       " '0.6',\n",
       " '0.5',\n",
       " '0.5',\n",
       " '0.5',\n",
       " '0.5',\n",
       " '0.4',\n",
       " '0.4',\n",
       " '0.4',\n",
       " '0.4',\n",
       " '0.4',\n",
       " '0.4',\n",
       " '0.3',\n",
       " '0.3']"
      ]
     },
     "execution_count": 36,
     "metadata": {},
     "output_type": "execute_result"
    }
   ],
   "source": [
    "discount =['{0:.1f}'.format((1/rank)*10) for rank in list(raw_pd.No_)]\n",
    "discount "
   ]
  },
  {
   "cell_type": "code",
   "execution_count": 37,
   "metadata": {
    "collapsed": true
   },
   "outputs": [],
   "source": [
    "raw_pd[\"discount\"] = pd.Series(discount, index=raw_pd.index)"
   ]
  },
  {
   "cell_type": "code",
   "execution_count": 38,
   "metadata": {
    "collapsed": false
   },
   "outputs": [
    {
     "data": {
      "text/html": [
       "<div>\n",
       "<table border=\"1\" class=\"dataframe\">\n",
       "  <thead>\n",
       "    <tr style=\"text-align: right;\">\n",
       "      <th></th>\n",
       "      <th>No_</th>\n",
       "      <th>Twitter</th>\n",
       "      <th>artist</th>\n",
       "      <th>music</th>\n",
       "      <th>discount</th>\n",
       "    </tr>\n",
       "  </thead>\n",
       "  <tbody>\n",
       "    <tr>\n",
       "      <th>0</th>\n",
       "      <td>11</td>\n",
       "      <td>http://twitter.com/MacoMattox7</td>\n",
       "      <td>OG Maco</td>\n",
       "      <td>U Guessed It</td>\n",
       "      <td>0.9</td>\n",
       "    </tr>\n",
       "    <tr>\n",
       "      <th>1</th>\n",
       "      <td>12</td>\n",
       "      <td>http://twitter.com/selenagomez</td>\n",
       "      <td>Selena Gomez</td>\n",
       "      <td>Hands To Myself</td>\n",
       "      <td>0.8</td>\n",
       "    </tr>\n",
       "    <tr>\n",
       "      <th>2</th>\n",
       "      <td>13</td>\n",
       "      <td>http://twitter.com/Madonna</td>\n",
       "      <td>Madonna</td>\n",
       "      <td>Bitch I'm Madonna</td>\n",
       "      <td>0.8</td>\n",
       "    </tr>\n",
       "    <tr>\n",
       "      <th>3</th>\n",
       "      <td>14</td>\n",
       "      <td>http://twitter.com/tydollasign</td>\n",
       "      <td>Ty Dolla $ign</td>\n",
       "      <td>Blas¨¦ (feat. Future &amp; Rae Sremmurd)</td>\n",
       "      <td>0.7</td>\n",
       "    </tr>\n",
       "    <tr>\n",
       "      <th>4</th>\n",
       "      <td>15</td>\n",
       "      <td>http://twitter.com/tydollasign</td>\n",
       "      <td>Ty Dolla $ign</td>\n",
       "      <td>Stand For</td>\n",
       "      <td>0.7</td>\n",
       "    </tr>\n",
       "    <tr>\n",
       "      <th>5</th>\n",
       "      <td>16</td>\n",
       "      <td>http://twitter.com/TripLee</td>\n",
       "      <td>Trip Lee</td>\n",
       "      <td>Manolo</td>\n",
       "      <td>0.6</td>\n",
       "    </tr>\n",
       "    <tr>\n",
       "      <th>6</th>\n",
       "      <td>17</td>\n",
       "      <td>http://twitter.com/PTXofficial</td>\n",
       "      <td>Pentatonix</td>\n",
       "      <td>Mary, Did You Know?</td>\n",
       "      <td>0.6</td>\n",
       "    </tr>\n",
       "    <tr>\n",
       "      <th>7</th>\n",
       "      <td>18</td>\n",
       "      <td>http://twitter.com/ToriKelly</td>\n",
       "      <td>Tori Kelly</td>\n",
       "      <td>Hollow</td>\n",
       "      <td>0.6</td>\n",
       "    </tr>\n",
       "    <tr>\n",
       "      <th>8</th>\n",
       "      <td>19</td>\n",
       "      <td>http://twitter.com/tydollasign</td>\n",
       "      <td>Ty Dolla $ign</td>\n",
       "      <td>Saved</td>\n",
       "      <td>0.5</td>\n",
       "    </tr>\n",
       "    <tr>\n",
       "      <th>9</th>\n",
       "      <td>20</td>\n",
       "      <td>http://twitter.com/LanaDelRey</td>\n",
       "      <td>Lana Del Rey</td>\n",
       "      <td>Music To Watch Boys To</td>\n",
       "      <td>0.5</td>\n",
       "    </tr>\n",
       "    <tr>\n",
       "      <th>10</th>\n",
       "      <td>21</td>\n",
       "      <td>http://twitter.com/RealMichelleW</td>\n",
       "      <td>Michelle Williams</td>\n",
       "      <td>Believe In Me</td>\n",
       "      <td>0.5</td>\n",
       "    </tr>\n",
       "    <tr>\n",
       "      <th>11</th>\n",
       "      <td>22</td>\n",
       "      <td>http://twitter.com/PTXofficial</td>\n",
       "      <td>Pentatonix</td>\n",
       "      <td>That's Christmas To Me</td>\n",
       "      <td>0.5</td>\n",
       "    </tr>\n",
       "    <tr>\n",
       "      <th>12</th>\n",
       "      <td>23</td>\n",
       "      <td>http://twitter.com/TreySongz</td>\n",
       "      <td>Trey Songz</td>\n",
       "      <td>Nasty (feat. JR)</td>\n",
       "      <td>0.4</td>\n",
       "    </tr>\n",
       "    <tr>\n",
       "      <th>13</th>\n",
       "      <td>24</td>\n",
       "      <td>http://twitter.com/fettywap</td>\n",
       "      <td>Fetty Wap</td>\n",
       "      <td>Again</td>\n",
       "      <td>0.4</td>\n",
       "    </tr>\n",
       "    <tr>\n",
       "      <th>14</th>\n",
       "      <td>25</td>\n",
       "      <td>http://twitter.com/KipMooreMusic</td>\n",
       "      <td>Kip Moore</td>\n",
       "      <td>Wild Ones</td>\n",
       "      <td>0.4</td>\n",
       "    </tr>\n",
       "    <tr>\n",
       "      <th>15</th>\n",
       "      <td>26</td>\n",
       "      <td>http://twitter.com/onedirection</td>\n",
       "      <td>One Direction</td>\n",
       "      <td>18</td>\n",
       "      <td>0.4</td>\n",
       "    </tr>\n",
       "    <tr>\n",
       "      <th>16</th>\n",
       "      <td>27</td>\n",
       "      <td>http://twitter.com/ArianaGrande</td>\n",
       "      <td>Ariana Grande</td>\n",
       "      <td>Santa Tell Me</td>\n",
       "      <td>0.4</td>\n",
       "    </tr>\n",
       "    <tr>\n",
       "      <th>17</th>\n",
       "      <td>28</td>\n",
       "      <td>http://twitter.com/Drake</td>\n",
       "      <td>Drake</td>\n",
       "      <td>Back To Back Freestyle</td>\n",
       "      <td>0.4</td>\n",
       "    </tr>\n",
       "    <tr>\n",
       "      <th>18</th>\n",
       "      <td>29</td>\n",
       "      <td>http://twitter.com/madeon</td>\n",
       "      <td>Madeon</td>\n",
       "      <td>Nonsense</td>\n",
       "      <td>0.3</td>\n",
       "    </tr>\n",
       "    <tr>\n",
       "      <th>19</th>\n",
       "      <td>30</td>\n",
       "      <td>http://twitter.com/Tyga</td>\n",
       "      <td>Tyga</td>\n",
       "      <td>Make It Work</td>\n",
       "      <td>0.3</td>\n",
       "    </tr>\n",
       "  </tbody>\n",
       "</table>\n",
       "</div>"
      ],
      "text/plain": [
       "    No_                           Twitter             artist  \\\n",
       "0    11    http://twitter.com/MacoMattox7            OG Maco   \n",
       "1    12    http://twitter.com/selenagomez       Selena Gomez   \n",
       "2    13        http://twitter.com/Madonna            Madonna   \n",
       "3    14    http://twitter.com/tydollasign      Ty Dolla $ign   \n",
       "4    15    http://twitter.com/tydollasign      Ty Dolla $ign   \n",
       "5    16        http://twitter.com/TripLee           Trip Lee   \n",
       "6    17    http://twitter.com/PTXofficial         Pentatonix   \n",
       "7    18      http://twitter.com/ToriKelly         Tori Kelly   \n",
       "8    19    http://twitter.com/tydollasign      Ty Dolla $ign   \n",
       "9    20     http://twitter.com/LanaDelRey       Lana Del Rey   \n",
       "10   21  http://twitter.com/RealMichelleW  Michelle Williams   \n",
       "11   22    http://twitter.com/PTXofficial         Pentatonix   \n",
       "12   23      http://twitter.com/TreySongz         Trey Songz   \n",
       "13   24       http://twitter.com/fettywap          Fetty Wap   \n",
       "14   25  http://twitter.com/KipMooreMusic          Kip Moore   \n",
       "15   26   http://twitter.com/onedirection      One Direction   \n",
       "16   27   http://twitter.com/ArianaGrande      Ariana Grande   \n",
       "17   28          http://twitter.com/Drake              Drake   \n",
       "18   29         http://twitter.com/madeon             Madeon   \n",
       "19   30           http://twitter.com/Tyga               Tyga   \n",
       "\n",
       "                                   music discount  \n",
       "0                           U Guessed It      0.9  \n",
       "1                        Hands To Myself      0.8  \n",
       "2                      Bitch I'm Madonna      0.8  \n",
       "3   Blas¨¦ (feat. Future & Rae Sremmurd)      0.7  \n",
       "4                              Stand For      0.7  \n",
       "5                                 Manolo      0.6  \n",
       "6                    Mary, Did You Know?      0.6  \n",
       "7                                 Hollow      0.6  \n",
       "8                                  Saved      0.5  \n",
       "9                 Music To Watch Boys To      0.5  \n",
       "10                         Believe In Me      0.5  \n",
       "11                That's Christmas To Me      0.5  \n",
       "12                      Nasty (feat. JR)      0.4  \n",
       "13                                 Again      0.4  \n",
       "14                             Wild Ones      0.4  \n",
       "15                                    18      0.4  \n",
       "16                         Santa Tell Me      0.4  \n",
       "17                Back To Back Freestyle      0.4  \n",
       "18                              Nonsense      0.3  \n",
       "19                          Make It Work      0.3  "
      ]
     },
     "execution_count": 38,
     "metadata": {},
     "output_type": "execute_result"
    }
   ],
   "source": [
    "raw_pd"
   ]
  },
  {
   "cell_type": "code",
   "execution_count": 47,
   "metadata": {
    "collapsed": false
   },
   "outputs": [
    {
     "data": {
      "text/plain": [
       "[9.493884617376809, 9.97070132427271, 9.067019530806473]"
      ]
     },
     "execution_count": 47,
     "metadata": {},
     "output_type": "execute_result"
    }
   ],
   "source": [
    "[np.random.uniform(8,10) for i in list(range(3))]"
   ]
  },
  {
   "cell_type": "code",
   "execution_count": null,
   "metadata": {
    "collapsed": true
   },
   "outputs": [],
   "source": []
  }
 ],
 "metadata": {
  "kernelspec": {
   "display_name": "Python 3",
   "language": "python",
   "name": "python3"
  },
  "language_info": {
   "codemirror_mode": {
    "name": "ipython",
    "version": 3
   },
   "file_extension": ".py",
   "mimetype": "text/x-python",
   "name": "python",
   "nbconvert_exporter": "python",
   "pygments_lexer": "ipython3",
   "version": "3.4.3"
  }
 },
 "nbformat": 4,
 "nbformat_minor": 0
}
