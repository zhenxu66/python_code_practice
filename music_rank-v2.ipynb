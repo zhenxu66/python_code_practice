{
 "cells": [
  {
   "cell_type": "code",
   "execution_count": 1,
   "metadata": {
    "collapsed": false
   },
   "outputs": [],
   "source": [
    "from bs4 import BeautifulSoup\n",
    "import sys, urllib.request\n",
    "import requests\n",
    "import numpy as np\n",
    "import pandas as pd\n",
    "import seaborn as sns\n",
    "import matplotlib.pyplot as plt\n",
    "import matplotlib.animation as anim\n",
    "from collections import Counter\n",
    "%matplotlib inline"
   ]
  },
  {
   "cell_type": "code",
   "execution_count": 2,
   "metadata": {
    "collapsed": false
   },
   "outputs": [],
   "source": [
    "rank_no=[]\n",
    "artist=[]\n",
    "music=[]\n",
    "twitter=[]"
   ]
  },
  {
   "cell_type": "code",
   "execution_count": 3,
   "metadata": {
    "collapsed": false
   },
   "outputs": [],
   "source": [
    "def get_single_item_data(item_url, number_start =0,num_end =100):\n",
    "        source_code = urllib.request.urlopen(item_url)  # get all source code\n",
    "        source_text = source_code.read()\n",
    "        #plain_text = source_text.decode('utf-8')\n",
    "        #output = open('plain_text','w+')\n",
    "        #output.write(plain_text)\n",
    "        #output.close()\n",
    "        soup = BeautifulSoup(source_text,\"html.parser\")\n",
    "        #toplist = soup.find_all('table',{'class':'smv'}).find_all(\"tr\")[0].find_all(\"td\")td[3]\n",
    "        toplist = soup.find_all('table',{'class':'smv'})\n",
    "        Top_Emerging = toplist[0] # Emerging\n",
    "        Top_Trending = toplist[1] # Trending updating fast in 6 seconds\n",
    "        Top_Overall = toplist[2] # overall Comprehensive result\n",
    "        #print(toplist[2])\n",
    "        rank_list = toplist[1].find_all('tr')\n",
    "        for rank in rank_list[number_start:num_end]:\n",
    "            rank_no.append(rank.find_all('td')[0].text)\n",
    "            artist.append(rank.find_all('td')[1].text)\n",
    "            music_text = rank.find_all('td')[2].text\n",
    "            music.append(music_text[0:(music_text.find(\"\\n\"))-1])\n",
    "            twitter.append(rank.find_all('td')[1].find('a').get(\"href\"))\n",
    "        for i in np.arange(len(artist)).tolist()[0:5]:\n",
    "            print(\"ranking No:\"+str(i+1)+\"   artist:\"+artist[i]+\"  music:\"+music[i]+'\\n')\n",
    "            print(twitter[i]+'\\n')\n"
   ]
  },
  {
   "cell_type": "code",
   "execution_count": 4,
   "metadata": {
    "collapsed": false
   },
   "outputs": [
    {
     "name": "stdout",
     "output_type": "stream",
     "text": [
      "ranking No:1   artist:Tyrese  music:Shame (feat. Jennifer Hudson)\n",
      "\n",
      "http://twitter.com/Tyrese\n",
      "\n",
      "ranking No:2   artist:Adele  music:Hello\n",
      "\n",
      "http://twitter.com/Adele\n",
      "\n",
      "ranking No:3   artist:Super Junior  music:Magic\n",
      "\n",
      "http://twitter.com/donghae861015\n",
      "\n",
      "ranking No:4   artist:Super Junior  music:Devil\n",
      "\n",
      "http://twitter.com/donghae861015\n",
      "\n",
      "ranking No:5   artist:Lil Wayne  music:Used To\n",
      "\n",
      "http://twitter.com/LilTunechi\n",
      "\n"
     ]
    }
   ],
   "source": [
    "#print(\"$$$$$$$$$$$$$$$$$$$$$$$$$$$$$$  Top Five song and Singers   $$$$$$$$$$$$$$$$$$$$$$$$$$$$$$$$\\n\")\n",
    "get_single_item_data(\"http://realtime.billboard.com/?chart=trending140\", 0, 20)"
   ]
  },
  {
   "cell_type": "code",
   "execution_count": 5,
   "metadata": {
    "collapsed": false
   },
   "outputs": [],
   "source": [
    "Top_Trending_df = pd.DataFrame({'No.':rank_no, 'artist': artist, 'music':music, 'Twitter':twitter})"
   ]
  },
  {
   "cell_type": "code",
   "execution_count": 6,
   "metadata": {
    "collapsed": false
   },
   "outputs": [
    {
     "data": {
      "text/html": [
       "<div>\n",
       "<table border=\"1\" class=\"dataframe\">\n",
       "  <thead>\n",
       "    <tr style=\"text-align: right;\">\n",
       "      <th></th>\n",
       "      <th>No.</th>\n",
       "      <th>Twitter</th>\n",
       "      <th>artist</th>\n",
       "      <th>music</th>\n",
       "    </tr>\n",
       "  </thead>\n",
       "  <tbody>\n",
       "    <tr>\n",
       "      <th>0</th>\n",
       "      <td>1</td>\n",
       "      <td>http://twitter.com/Tyrese</td>\n",
       "      <td>Tyrese</td>\n",
       "      <td>Shame (feat. Jennifer Hudson)</td>\n",
       "    </tr>\n",
       "    <tr>\n",
       "      <th>1</th>\n",
       "      <td>2</td>\n",
       "      <td>http://twitter.com/Adele</td>\n",
       "      <td>Adele</td>\n",
       "      <td>Hello</td>\n",
       "    </tr>\n",
       "    <tr>\n",
       "      <th>2</th>\n",
       "      <td>3</td>\n",
       "      <td>http://twitter.com/donghae861015</td>\n",
       "      <td>Super Junior</td>\n",
       "      <td>Magic</td>\n",
       "    </tr>\n",
       "    <tr>\n",
       "      <th>3</th>\n",
       "      <td>4</td>\n",
       "      <td>http://twitter.com/donghae861015</td>\n",
       "      <td>Super Junior</td>\n",
       "      <td>Devil</td>\n",
       "    </tr>\n",
       "    <tr>\n",
       "      <th>4</th>\n",
       "      <td>5</td>\n",
       "      <td>http://twitter.com/LilTunechi</td>\n",
       "      <td>Lil Wayne</td>\n",
       "      <td>Used To</td>\n",
       "    </tr>\n",
       "  </tbody>\n",
       "</table>\n",
       "</div>"
      ],
      "text/plain": [
       "  No.                           Twitter        artist  \\\n",
       "0   1         http://twitter.com/Tyrese        Tyrese   \n",
       "1   2          http://twitter.com/Adele         Adele   \n",
       "2   3  http://twitter.com/donghae861015  Super Junior   \n",
       "3   4  http://twitter.com/donghae861015  Super Junior   \n",
       "4   5     http://twitter.com/LilTunechi     Lil Wayne   \n",
       "\n",
       "                           music  \n",
       "0  Shame (feat. Jennifer Hudson)  \n",
       "1                          Hello  \n",
       "2                          Magic  \n",
       "3                          Devil  \n",
       "4                        Used To  "
      ]
     },
     "execution_count": 6,
     "metadata": {},
     "output_type": "execute_result"
    }
   ],
   "source": [
    "Top_Trending_df[0:5]"
   ]
  },
  {
   "cell_type": "code",
   "execution_count": 7,
   "metadata": {
    "collapsed": false
   },
   "outputs": [
    {
     "data": {
      "text/html": [
       "<div>\n",
       "<table border=\"1\" class=\"dataframe\">\n",
       "  <thead>\n",
       "    <tr style=\"text-align: right;\">\n",
       "      <th></th>\n",
       "      <th>No.</th>\n",
       "      <th>Twitter</th>\n",
       "      <th>artist</th>\n",
       "      <th>music</th>\n",
       "    </tr>\n",
       "  </thead>\n",
       "  <tbody>\n",
       "    <tr>\n",
       "      <th>count</th>\n",
       "      <td>20</td>\n",
       "      <td>20</td>\n",
       "      <td>20</td>\n",
       "      <td>20</td>\n",
       "    </tr>\n",
       "    <tr>\n",
       "      <th>unique</th>\n",
       "      <td>20</td>\n",
       "      <td>17</td>\n",
       "      <td>17</td>\n",
       "      <td>20</td>\n",
       "    </tr>\n",
       "    <tr>\n",
       "      <th>top</th>\n",
       "      <td>2</td>\n",
       "      <td>http://twitter.com/Adele</td>\n",
       "      <td>Adele</td>\n",
       "      <td>Send My Love (To Your New Lover)</td>\n",
       "    </tr>\n",
       "    <tr>\n",
       "      <th>freq</th>\n",
       "      <td>1</td>\n",
       "      <td>3</td>\n",
       "      <td>3</td>\n",
       "      <td>1</td>\n",
       "    </tr>\n",
       "  </tbody>\n",
       "</table>\n",
       "</div>"
      ],
      "text/plain": [
       "       No.                   Twitter artist                             music\n",
       "count   20                        20     20                                20\n",
       "unique  20                        17     17                                20\n",
       "top      2  http://twitter.com/Adele  Adele  Send My Love (To Your New Lover)\n",
       "freq     1                         3      3                                 1"
      ]
     },
     "execution_count": 7,
     "metadata": {},
     "output_type": "execute_result"
    }
   ],
   "source": [
    "Top_Trending_df.describe()"
   ]
  },
  {
   "cell_type": "code",
   "execution_count": 8,
   "metadata": {
    "collapsed": false
   },
   "outputs": [
    {
     "name": "stdout",
     "output_type": "stream",
     "text": [
      "------------top 20 songs------17 singers in total---------\n"
     ]
    },
    {
     "data": {
      "image/png": "[encoded data removed]",
      "text/plain": [
       "<matplotlib.figure.Figure at 0xab1b828>"
      ]
     },
     "metadata": {},
     "output_type": "display_data"
    }
   ],
   "source": [
    "count = dict(Counter(artist))\n",
    "#print(count)\n",
    "\n",
    "xVals = list(count.keys())\n",
    "yVals = list(count.values())\n",
    "print(\"------------top 20 songs------\"+str(len(np.unique(xVals)))+\" singers in total---------\")\n",
    "#print(np.unique(xVals))\n",
    "x = tuple(np.arange(len(xVals)))\n",
    "width = 0.4\n",
    "ax = plt.subplot(111)\n",
    "ax.set_position([5,2,2.5,1])\n",
    "ax.bar(x, yVals, width)\n",
    "ax.set_xticks([i+width/2 for i in x])\n",
    "ax.set_xticklabels(xVals)\n",
    "plt.rcParams['font.size'] = 80\n"
   ]
  },
  {
   "cell_type": "code",
   "execution_count": 10,
   "metadata": {
    "collapsed": false
   },
   "outputs": [
    {
     "data": {
      "text/plain": [
       "<seaborn.axisgrid.FacetGrid at 0xab1b5f8>"
      ]
     },
     "execution_count": 10,
     "metadata": {},
     "output_type": "execute_result"
    },
    {
     "data": {
      "image/png": "[encoded data removed]",
      "text/plain": [
       "<matplotlib.figure.Figure at 0xab1b5c0>"
      ]
     },
     "metadata": {},
     "output_type": "display_data"
    }
   ],
   "source": [
    "sns.factorplot(y='artist', data=Top_Trending_df, kind='count',size=10,linewidth=1)"
   ]
  },
  {
   "cell_type": "code",
   "execution_count": 11,
   "metadata": {
    "collapsed": true
   },
   "outputs": [],
   "source": [
    "Top_Trending_df.to_csv(\"Top_Trending_top20.csv\", index=False)"
   ]
  },
  {
   "cell_type": "code",
   "execution_count": null,
   "metadata": {
    "collapsed": false
   },
   "outputs": [],
   "source": []
  },
  {
   "cell_type": "code",
   "execution_count": null,
   "metadata": {
    "collapsed": true
   },
   "outputs": [],
   "source": []
  }
 ],
 "metadata": {
  "kernelspec": {
   "display_name": "Python 3",
   "language": "python",
   "name": "python3"
  },
  "language_info": {
   "codemirror_mode": {
    "name": "ipython",
    "version": 3
   },
   "file_extension": ".py",
   "mimetype": "text/x-python",
   "name": "python",
   "nbconvert_exporter": "python",
   "pygments_lexer": "ipython3",
   "version": "3.4.3"
  }
 },
 "nbformat": 4,
 "nbformat_minor": 0
}
