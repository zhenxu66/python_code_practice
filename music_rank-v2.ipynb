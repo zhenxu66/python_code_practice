{
 "cells": [
  {
   "cell_type": "code",
   "execution_count": 1,
   "metadata": {
    "collapsed": false
   },
   "outputs": [],
   "source": [
    "from bs4 import BeautifulSoup\n",
    "import sys, urllib.request\n",
    "import requests\n",
    "import numpy as np\n",
    "import pandas as pd\n",
    "import seaborn as sns\n",
    "import matplotlib.pyplot as plt\n",
    "import matplotlib.animation as anim\n",
    "from collections import Counter\n",
    "%matplotlib inline"
   ]
  },
  {
   "cell_type": "code",
   "execution_count": 2,
   "metadata": {
    "collapsed": false
   },
   "outputs": [],
   "source": [
    "rank_no=[]\n",
    "artist=[]\n",
    "music=[]\n",
    "twitter=[]"
   ]
  },
  {
   "cell_type": "code",
   "execution_count": 3,
   "metadata": {
    "collapsed": false
   },
   "outputs": [],
   "source": [
    "def get_single_item_data(item_url, number_start =0,num_end =100):\n",
    "        source_code = urllib.request.urlopen(item_url)  # get all source code\n",
    "        source_text = source_code.read()\n",
    "        #plain_text = source_text.decode('utf-8')\n",
    "        #output = open('plain_text','w+')\n",
    "        #output.write(plain_text)\n",
    "        #output.close()\n",
    "        soup = BeautifulSoup(source_text,\"html.parser\")\n",
    "        #toplist = soup.find_all('table',{'class':'smv'}).find_all(\"tr\")[0].find_all(\"td\")td[3]\n",
    "        toplist = soup.find_all('table',{'class':'smv'})\n",
    "        Top_Emerging = toplist[0] # Emerging\n",
    "        Top_Trending = toplist[1] # Trending updating fast in 6 seconds\n",
    "        Top_Overall = toplist[2] # overall Comprehensive result\n",
    "        #print(toplist[2])\n",
    "        rank_list = toplist[1].find_all('tr')\n",
    "        for rank in rank_list[number_start:num_end]:\n",
    "            rank_no.append(rank.find_all('td')[0].text)\n",
    "            artist.append(rank.find_all('td')[1].text)\n",
    "            music_text = rank.find_all('td')[2].text\n",
    "            music.append(music_text[0:(music_text.find(\"\\n\"))-1])\n",
    "            twitter.append(rank.find_all('td')[1].find('a').get(\"href\"))\n",
    "        for i in np.arange(len(artist)).tolist()[0:5]:\n",
    "            print(\"ranking No:\"+str(i+1)+\"   artist:\"+artist[i]+\"  music:\"+music[i]+'\\n')\n",
    "            print(twitter[i]+'\\n')\n"
   ]
  },
  {
   "cell_type": "code",
   "execution_count": 4,
   "metadata": {
    "collapsed": false
   },
   "outputs": [
    {
     "name": "stdout",
     "output_type": "stream",
     "text": [
      "$$$$$$$$$$$$$$$$$$$$$$$$$$$$$$  20-40 song and Singers need to be promoted  $$$$$$$$$$$$$$$$$$$$$$$$$$$$$$$$\n",
      "\n",
      "ranking No:1   artist:Robin Thicke  music:Back Together (feat. Nicki Minaj)\n",
      "\n",
      "http://twitter.com/robinthicke\n",
      "\n",
      "ranking No:2   artist:One Direction  music:Walking In The Wind\n",
      "\n",
      "http://twitter.com/onedirection\n",
      "\n",
      "ranking No:3   artist:One Direction  music:End of the Day\n",
      "\n",
      "http://twitter.com/onedirection\n",
      "\n",
      "ranking No:4   artist:2 Chainz  music:Watch Out\n",
      "\n",
      "http://twitter.com/2chainz\n",
      "\n",
      "ranking No:5   artist:Travi$ Scott  music:Antidote\n",
      "\n",
      "http://twitter.com/trvisXX\n",
      "\n"
     ]
    }
   ],
   "source": [
    "print(\"$$$$$$$$$$$$$$$$$$$$$$$$$$$$$$  11-30 song and Singers need to be promoted  $$$$$$$$$$$$$$$$$$$$$$$$$$$$$$$$\\n\")\n",
    "get_single_item_data(\"http://realtime.billboard.com/?chart=trending140\", 10, 30)"
   ]
  },
  {
   "cell_type": "code",
   "execution_count": 5,
   "metadata": {
    "collapsed": false
   },
   "outputs": [],
   "source": [
    "Top_Trending_df = pd.DataFrame({'No_':rank_no, 'artist': artist, 'music':music, 'Twitter':twitter})"
   ]
  },
  {
   "cell_type": "code",
   "execution_count": 6,
   "metadata": {
    "collapsed": true
   },
   "outputs": [],
   "source": [
    "def addprice_discount_pd (raw_pd, price_low, price_high):\n",
    "    pd_length = len(list(raw_pd.index))\n",
    "    price = ['{0:.2f}'.format(np.random.uniform(price_low,price_high)) for i in list(range(pd_length))]  \n",
    "    # price distribution can be optimized currently uniform\n",
    "    discount =['{0:.1f}'.format((1/int(rank))*10) for rank in list(raw_pd.No_)]  # discount will be optimized later\n",
    "    raw_pd[\"price\"] = pd.Series(price, index=raw_pd.index)\n",
    "    raw_pd[\"discount\"] = pd.Series(discount, index=raw_pd.index)\n",
    "    return \n",
    "  "
   ]
  },
  {
   "cell_type": "code",
   "execution_count": 7,
   "metadata": {
    "collapsed": false
   },
   "outputs": [],
   "source": [
    "addprice_discount_pd(Top_Trending_df, 8,10)"
   ]
  },
  {
   "cell_type": "code",
   "execution_count": 13,
   "metadata": {
    "collapsed": false
   },
   "outputs": [
    {
     "data": {
      "text/html": [
       "<div>\n",
       "<table border=\"1\" class=\"dataframe\">\n",
       "  <thead>\n",
       "    <tr style=\"text-align: right;\">\n",
       "      <th></th>\n",
       "      <th>No_</th>\n",
       "      <th>Twitter</th>\n",
       "      <th>artist</th>\n",
       "      <th>music</th>\n",
       "      <th>price</th>\n",
       "      <th>discount</th>\n",
       "    </tr>\n",
       "  </thead>\n",
       "  <tbody>\n",
       "    <tr>\n",
       "      <th>0</th>\n",
       "      <td>11</td>\n",
       "      <td>http://twitter.com/robinthicke</td>\n",
       "      <td>Robin Thicke</td>\n",
       "      <td>Back Together (feat. Nicki Minaj)</td>\n",
       "      <td>9.93</td>\n",
       "      <td>0.9</td>\n",
       "    </tr>\n",
       "    <tr>\n",
       "      <th>1</th>\n",
       "      <td>12</td>\n",
       "      <td>http://twitter.com/onedirection</td>\n",
       "      <td>One Direction</td>\n",
       "      <td>Walking In The Wind</td>\n",
       "      <td>8.35</td>\n",
       "      <td>0.8</td>\n",
       "    </tr>\n",
       "    <tr>\n",
       "      <th>2</th>\n",
       "      <td>13</td>\n",
       "      <td>http://twitter.com/onedirection</td>\n",
       "      <td>One Direction</td>\n",
       "      <td>End of the Day</td>\n",
       "      <td>8.80</td>\n",
       "      <td>0.8</td>\n",
       "    </tr>\n",
       "    <tr>\n",
       "      <th>3</th>\n",
       "      <td>14</td>\n",
       "      <td>http://twitter.com/2chainz</td>\n",
       "      <td>2 Chainz</td>\n",
       "      <td>Watch Out</td>\n",
       "      <td>9.37</td>\n",
       "      <td>0.7</td>\n",
       "    </tr>\n",
       "    <tr>\n",
       "      <th>4</th>\n",
       "      <td>15</td>\n",
       "      <td>http://twitter.com/trvisXX</td>\n",
       "      <td>Travi$ Scott</td>\n",
       "      <td>Antidote</td>\n",
       "      <td>8.21</td>\n",
       "      <td>0.7</td>\n",
       "    </tr>\n",
       "    <tr>\n",
       "      <th>5</th>\n",
       "      <td>16</td>\n",
       "      <td>http://twitter.com/rickyrozay</td>\n",
       "      <td>Rick Ross</td>\n",
       "      <td>One of Us</td>\n",
       "      <td>9.38</td>\n",
       "      <td>0.6</td>\n",
       "    </tr>\n",
       "    <tr>\n",
       "      <th>6</th>\n",
       "      <td>17</td>\n",
       "      <td>http://twitter.com/PanicAtTheDisco</td>\n",
       "      <td>Panic! At the Disco</td>\n",
       "      <td>Victorious</td>\n",
       "      <td>9.98</td>\n",
       "      <td>0.6</td>\n",
       "    </tr>\n",
       "    <tr>\n",
       "      <th>7</th>\n",
       "      <td>18</td>\n",
       "      <td>http://twitter.com/ShawnMendes</td>\n",
       "      <td>Shawn Mendes</td>\n",
       "      <td>I Know What You Did Last Summer (feat. Camila ...</td>\n",
       "      <td>8.91</td>\n",
       "      <td>0.6</td>\n",
       "    </tr>\n",
       "    <tr>\n",
       "      <th>8</th>\n",
       "      <td>19</td>\n",
       "      <td>http://twitter.com/coldplay</td>\n",
       "      <td>Coldplay</td>\n",
       "      <td>Hymn for the Weekend (feat. Beyoncé)</td>\n",
       "      <td>9.51</td>\n",
       "      <td>0.5</td>\n",
       "    </tr>\n",
       "    <tr>\n",
       "      <th>9</th>\n",
       "      <td>20</td>\n",
       "      <td>http://twitter.com/Chet_Faker</td>\n",
       "      <td>Chet Faker</td>\n",
       "      <td>The Trouble with Us (feat. Marcus Marr)</td>\n",
       "      <td>9.47</td>\n",
       "      <td>0.5</td>\n",
       "    </tr>\n",
       "    <tr>\n",
       "      <th>10</th>\n",
       "      <td>21</td>\n",
       "      <td>http://twitter.com/tydollasign</td>\n",
       "      <td>Ty Dolla $ign</td>\n",
       "      <td>Blasé (feat. Future &amp; Rae Sremmurd)</td>\n",
       "      <td>8.57</td>\n",
       "      <td>0.5</td>\n",
       "    </tr>\n",
       "    <tr>\n",
       "      <th>11</th>\n",
       "      <td>22</td>\n",
       "      <td>http://twitter.com/ToriKelly</td>\n",
       "      <td>Tori Kelly</td>\n",
       "      <td>Nobody Love</td>\n",
       "      <td>8.41</td>\n",
       "      <td>0.5</td>\n",
       "    </tr>\n",
       "    <tr>\n",
       "      <th>12</th>\n",
       "      <td>23</td>\n",
       "      <td>http://twitter.com/Madonna</td>\n",
       "      <td>Madonna</td>\n",
       "      <td>Bitch I'm Madonna</td>\n",
       "      <td>9.74</td>\n",
       "      <td>0.4</td>\n",
       "    </tr>\n",
       "    <tr>\n",
       "      <th>13</th>\n",
       "      <td>24</td>\n",
       "      <td>http://twitter.com/Zelladay</td>\n",
       "      <td>Zella Day</td>\n",
       "      <td>High</td>\n",
       "      <td>9.82</td>\n",
       "      <td>0.4</td>\n",
       "    </tr>\n",
       "    <tr>\n",
       "      <th>14</th>\n",
       "      <td>25</td>\n",
       "      <td>http://twitter.com/Drake</td>\n",
       "      <td>Drake</td>\n",
       "      <td>Jumpman (feat. Future)</td>\n",
       "      <td>9.85</td>\n",
       "      <td>0.4</td>\n",
       "    </tr>\n",
       "    <tr>\n",
       "      <th>15</th>\n",
       "      <td>26</td>\n",
       "      <td>http://twitter.com/Adele</td>\n",
       "      <td>Adele</td>\n",
       "      <td>When We Were Young</td>\n",
       "      <td>8.17</td>\n",
       "      <td>0.4</td>\n",
       "    </tr>\n",
       "    <tr>\n",
       "      <th>16</th>\n",
       "      <td>27</td>\n",
       "      <td>http://twitter.com/troyesivan</td>\n",
       "      <td>Troye Sivan</td>\n",
       "      <td>Talk Me Down</td>\n",
       "      <td>9.23</td>\n",
       "      <td>0.4</td>\n",
       "    </tr>\n",
       "    <tr>\n",
       "      <th>17</th>\n",
       "      <td>28</td>\n",
       "      <td>http://twitter.com/BTS_twt</td>\n",
       "      <td>BTS</td>\n",
       "      <td>I Need U</td>\n",
       "      <td>8.66</td>\n",
       "      <td>0.4</td>\n",
       "    </tr>\n",
       "    <tr>\n",
       "      <th>18</th>\n",
       "      <td>29</td>\n",
       "      <td>http://twitter.com/tydollasign</td>\n",
       "      <td>Ty Dolla $ign</td>\n",
       "      <td>Stand For</td>\n",
       "      <td>9.78</td>\n",
       "      <td>0.3</td>\n",
       "    </tr>\n",
       "    <tr>\n",
       "      <th>19</th>\n",
       "      <td>30</td>\n",
       "      <td>http://twitter.com/MacoMattox7</td>\n",
       "      <td>OG Maco</td>\n",
       "      <td>U Guessed It</td>\n",
       "      <td>9.39</td>\n",
       "      <td>0.3</td>\n",
       "    </tr>\n",
       "  </tbody>\n",
       "</table>\n",
       "</div>"
      ],
      "text/plain": [
       "   No_                             Twitter               artist  \\\n",
       "0   11      http://twitter.com/robinthicke         Robin Thicke   \n",
       "1   12     http://twitter.com/onedirection        One Direction   \n",
       "2   13     http://twitter.com/onedirection        One Direction   \n",
       "3   14          http://twitter.com/2chainz             2 Chainz   \n",
       "4   15          http://twitter.com/trvisXX         Travi$ Scott   \n",
       "5   16       http://twitter.com/rickyrozay            Rick Ross   \n",
       "6   17  http://twitter.com/PanicAtTheDisco  Panic! At the Disco   \n",
       "7   18      http://twitter.com/ShawnMendes         Shawn Mendes   \n",
       "8   19         http://twitter.com/coldplay             Coldplay   \n",
       "9   20       http://twitter.com/Chet_Faker           Chet Faker   \n",
       "10  21      http://twitter.com/tydollasign        Ty Dolla $ign   \n",
       "11  22        http://twitter.com/ToriKelly           Tori Kelly   \n",
       "12  23          http://twitter.com/Madonna              Madonna   \n",
       "13  24         http://twitter.com/Zelladay            Zella Day   \n",
       "14  25            http://twitter.com/Drake                Drake   \n",
       "15  26            http://twitter.com/Adele                Adele   \n",
       "16  27       http://twitter.com/troyesivan          Troye Sivan   \n",
       "17  28          http://twitter.com/BTS_twt                  BTS   \n",
       "18  29      http://twitter.com/tydollasign        Ty Dolla $ign   \n",
       "19  30      http://twitter.com/MacoMattox7              OG Maco   \n",
       "\n",
       "                                                music price discount  \n",
       "0                   Back Together (feat. Nicki Minaj)  9.93      0.9  \n",
       "1                                 Walking In The Wind  8.35      0.8  \n",
       "2                                      End of the Day  8.80      0.8  \n",
       "3                                           Watch Out  9.37      0.7  \n",
       "4                                            Antidote  8.21      0.7  \n",
       "5                                           One of Us  9.38      0.6  \n",
       "6                                          Victorious  9.98      0.6  \n",
       "7   I Know What You Did Last Summer (feat. Camila ...  8.91      0.6  \n",
       "8                Hymn for the Weekend (feat. Beyoncé)  9.51      0.5  \n",
       "9             The Trouble with Us (feat. Marcus Marr)  9.47      0.5  \n",
       "10                Blasé (feat. Future & Rae Sremmurd)  8.57      0.5  \n",
       "11                                        Nobody Love  8.41      0.5  \n",
       "12                                  Bitch I'm Madonna  9.74      0.4  \n",
       "13                                               High  9.82      0.4  \n",
       "14                             Jumpman (feat. Future)  9.85      0.4  \n",
       "15                                 When We Were Young  8.17      0.4  \n",
       "16                                       Talk Me Down  9.23      0.4  \n",
       "17                                           I Need U  8.66      0.4  \n",
       "18                                          Stand For  9.78      0.3  \n",
       "19                                       U Guessed It  9.39      0.3  "
      ]
     },
     "execution_count": 13,
     "metadata": {},
     "output_type": "execute_result"
    }
   ],
   "source": [
    "Top_Trending_df"
   ]
  },
  {
   "cell_type": "code",
   "execution_count": 9,
   "metadata": {
    "collapsed": false
   },
   "outputs": [
    {
     "data": {
      "text/html": [
       "<div>\n",
       "<table border=\"1\" class=\"dataframe\">\n",
       "  <thead>\n",
       "    <tr style=\"text-align: right;\">\n",
       "      <th></th>\n",
       "      <th>No_</th>\n",
       "      <th>Twitter</th>\n",
       "      <th>artist</th>\n",
       "      <th>music</th>\n",
       "      <th>price</th>\n",
       "      <th>discount</th>\n",
       "    </tr>\n",
       "  </thead>\n",
       "  <tbody>\n",
       "    <tr>\n",
       "      <th>count</th>\n",
       "      <td>20</td>\n",
       "      <td>20</td>\n",
       "      <td>20</td>\n",
       "      <td>20</td>\n",
       "      <td>20</td>\n",
       "      <td>20</td>\n",
       "    </tr>\n",
       "    <tr>\n",
       "      <th>unique</th>\n",
       "      <td>20</td>\n",
       "      <td>18</td>\n",
       "      <td>18</td>\n",
       "      <td>20</td>\n",
       "      <td>20</td>\n",
       "      <td>7</td>\n",
       "    </tr>\n",
       "    <tr>\n",
       "      <th>top</th>\n",
       "      <td>28</td>\n",
       "      <td>http://twitter.com/onedirection</td>\n",
       "      <td>Ty Dolla $ign</td>\n",
       "      <td>Bitch I'm Madonna</td>\n",
       "      <td>9.98</td>\n",
       "      <td>0.4</td>\n",
       "    </tr>\n",
       "    <tr>\n",
       "      <th>freq</th>\n",
       "      <td>1</td>\n",
       "      <td>2</td>\n",
       "      <td>2</td>\n",
       "      <td>1</td>\n",
       "      <td>1</td>\n",
       "      <td>6</td>\n",
       "    </tr>\n",
       "  </tbody>\n",
       "</table>\n",
       "</div>"
      ],
      "text/plain": [
       "       No_                          Twitter         artist              music  \\\n",
       "count   20                               20             20                 20   \n",
       "unique  20                               18             18                 20   \n",
       "top     28  http://twitter.com/onedirection  Ty Dolla $ign  Bitch I'm Madonna   \n",
       "freq     1                                2              2                  1   \n",
       "\n",
       "       price discount  \n",
       "count     20       20  \n",
       "unique    20        7  \n",
       "top     9.98      0.4  \n",
       "freq       1        6  "
      ]
     },
     "execution_count": 9,
     "metadata": {},
     "output_type": "execute_result"
    }
   ],
   "source": [
    "Top_Trending_df.describe()"
   ]
  },
  {
   "cell_type": "code",
   "execution_count": 10,
   "metadata": {
    "collapsed": false
   },
   "outputs": [
    {
     "name": "stdout",
     "output_type": "stream",
     "text": [
      "------------top 20 songs------18 singers in total---------\n"
     ]
    },
    {
     "data": {
      "image/png": "[encoded data removed]",
      "text/plain": [
       "<matplotlib.figure.Figure at 0x9321400>"
      ]
     },
     "metadata": {},
     "output_type": "display_data"
    }
   ],
   "source": [
    "count = dict(Counter(artist))\n",
    "#print(count)\n",
    "\n",
    "xVals = list(count.keys())\n",
    "yVals = list(count.values())\n",
    "print(\"------------top 20 songs------\"+str(len(np.unique(xVals)))+\" singers in total---------\")\n",
    "#print(np.unique(xVals))\n",
    "x = tuple(np.arange(len(xVals)))\n",
    "width = 0.4\n",
    "ax = plt.subplot(111)\n",
    "ax.set_position([5,2,2.5,1])\n",
    "ax.bar(x, yVals, width)\n",
    "ax.set_xticks([i+width/2 for i in x])\n",
    "ax.set_xticklabels(xVals)\n",
    "plt.rcParams['font.size'] = 80\n"
   ]
  },
  {
   "cell_type": "code",
   "execution_count": 11,
   "metadata": {
    "collapsed": false
   },
   "outputs": [
    {
     "data": {
      "text/plain": [
       "<seaborn.axisgrid.FacetGrid at 0xab14390>"
      ]
     },
     "execution_count": 11,
     "metadata": {},
     "output_type": "execute_result"
    },
    {
     "data": {
      "image/png": "[encoded data removed]",
      "text/plain": [
       "<matplotlib.figure.Figure at 0xab14400>"
      ]
     },
     "metadata": {},
     "output_type": "display_data"
    }
   ],
   "source": [
    "sns.factorplot(y='artist', data=Top_Trending_df, kind='count',size=10,linewidth=1)"
   ]
  },
  {
   "cell_type": "code",
   "execution_count": 12,
   "metadata": {
    "collapsed": true
   },
   "outputs": [],
   "source": [
    "Top_Trending_df.to_csv(\"Top_Trending_top11_30_price_discount.csv\", index=False)"
   ]
  },
  {
   "cell_type": "code",
   "execution_count": null,
   "metadata": {
    "collapsed": false
   },
   "outputs": [],
   "source": []
  },
  {
   "cell_type": "code",
   "execution_count": null,
   "metadata": {
    "collapsed": true
   },
   "outputs": [],
   "source": []
  }
 ],
 "metadata": {
  "kernelspec": {
   "display_name": "Python 3",
   "language": "python",
   "name": "python3"
  },
  "language_info": {
   "codemirror_mode": {
    "name": "ipython",
    "version": 3
   },
   "file_extension": ".py",
   "mimetype": "text/x-python",
   "name": "python",
   "nbconvert_exporter": "python",
   "pygments_lexer": "ipython3",
   "version": "3.4.3"
  }
 },
 "nbformat": 4,
 "nbformat_minor": 0
}
