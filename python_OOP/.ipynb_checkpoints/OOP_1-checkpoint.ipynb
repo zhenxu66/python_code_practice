{
 "cells": [
  {
   "cell_type": "markdown",
   "metadata": {},
   "source": [
    "## 1. basic definition of class and create of object"
   ]
  },
  {
   "cell_type": "code",
   "execution_count": 2,
   "metadata": {
    "collapsed": false
   },
   "outputs": [],
   "source": [
    "class Person():\n",
    "    def __init__(self):\n",
    "        self.name = 'me'\n",
    "        self.__age = 20\n",
    "        \n",
    "    def get_name(self):\n",
    "        return self.name\n",
    "    \n",
    "    def get_age(self):\n",
    "        return self.__age\n",
    "    \n",
    "    def set_age(self,age):\n",
    "        self.__age = age\n",
    "        \n",
    "    def __set_name(self,name):\n",
    "        self.name = name"
   ]
  },
  {
   "cell_type": "code",
   "execution_count": 3,
   "metadata": {
    "collapsed": true
   },
   "outputs": [],
   "source": [
    "person1 = Person()"
   ]
  },
  {
   "cell_type": "code",
   "execution_count": 4,
   "metadata": {
    "collapsed": false
   },
   "outputs": [
    {
     "name": "stdout",
     "output_type": "stream",
     "text": [
      "me\n"
     ]
    }
   ],
   "source": [
    "print(person1.get_name())"
   ]
  },
  {
   "cell_type": "code",
   "execution_count": 5,
   "metadata": {
    "collapsed": false
   },
   "outputs": [
    {
     "name": "stdout",
     "output_type": "stream",
     "text": [
      "20\n"
     ]
    }
   ],
   "source": [
    "print(person1.get_age())"
   ]
  },
  {
   "cell_type": "code",
   "execution_count": 6,
   "metadata": {
    "collapsed": false
   },
   "outputs": [
    {
     "name": "stdout",
     "output_type": "stream",
     "text": [
      "10\n"
     ]
    }
   ],
   "source": [
    "person1.set_age(10)\n",
    "print(person1.get_age())"
   ]
  },
  {
   "cell_type": "code",
   "execution_count": 7,
   "metadata": {
    "collapsed": false
   },
   "outputs": [
    {
     "data": {
      "text/plain": [
       "10"
      ]
     },
     "execution_count": 7,
     "metadata": {},
     "output_type": "execute_result"
    }
   ],
   "source": [
    "person1._Person__age"
   ]
  },
  {
   "cell_type": "code",
   "execution_count": 8,
   "metadata": {
    "collapsed": false
   },
   "outputs": [],
   "source": [
    "person1.__init__()"
   ]
  },
  {
   "cell_type": "code",
   "execution_count": 9,
   "metadata": {
    "collapsed": false
   },
   "outputs": [
    {
     "name": "stdout",
     "output_type": "stream",
     "text": [
      "20\n"
     ]
    }
   ],
   "source": [
    "print(person1.get_age())"
   ]
  },
  {
   "cell_type": "code",
   "execution_count": 10,
   "metadata": {
    "collapsed": false
   },
   "outputs": [],
   "source": [
    "person1._Person__set_name(\"new me\")"
   ]
  },
  {
   "cell_type": "code",
   "execution_count": 11,
   "metadata": {
    "collapsed": false
   },
   "outputs": [
    {
     "name": "stdout",
     "output_type": "stream",
     "text": [
      "new me\n"
     ]
    }
   ],
   "source": [
    "print(person1.get_name())"
   ]
  },
  {
   "cell_type": "markdown",
   "metadata": {},
   "source": [
    "## (2) print elements in objects with inspect and vars().items()"
   ]
  },
  {
   "cell_type": "code",
   "execution_count": 12,
   "metadata": {
    "collapsed": true
   },
   "outputs": [],
   "source": [
    "import inspect"
   ]
  },
  {
   "cell_type": "code",
   "execution_count": 15,
   "metadata": {
    "collapsed": false
   },
   "outputs": [
    {
     "name": "stdout",
     "output_type": "stream",
     "text": [
      "_Person__age 20\n",
      "_Person__set_name <bound method Person.__set_name of <__main__.Person object at 0x0000000004419C18>>\n",
      "__class__ <class '__main__.Person'>\n",
      "__delattr__ <method-wrapper '__delattr__' of Person object at 0x0000000004419C18>\n",
      "__dict__ {'name': 'new me', '_Person__age': 20}\n",
      "__dir__ <built-in method __dir__ of Person object at 0x0000000004419C18>\n",
      "__doc__ None\n",
      "__eq__ <method-wrapper '__eq__' of Person object at 0x0000000004419C18>\n",
      "__format__ <built-in method __format__ of Person object at 0x0000000004419C18>\n",
      "__ge__ <method-wrapper '__ge__' of Person object at 0x0000000004419C18>\n",
      "__getattribute__ <method-wrapper '__getattribute__' of Person object at 0x0000000004419C18>\n",
      "__gt__ <method-wrapper '__gt__' of Person object at 0x0000000004419C18>\n",
      "__hash__ <method-wrapper '__hash__' of Person object at 0x0000000004419C18>\n",
      "__init__ <bound method Person.__init__ of <__main__.Person object at 0x0000000004419C18>>\n",
      "__le__ <method-wrapper '__le__' of Person object at 0x0000000004419C18>\n",
      "__lt__ <method-wrapper '__lt__' of Person object at 0x0000000004419C18>\n",
      "__module__ __main__\n",
      "__ne__ <method-wrapper '__ne__' of Person object at 0x0000000004419C18>\n",
      "__new__ <built-in method __new__ of type object at 0x000000001E1846A0>\n",
      "__reduce__ <built-in method __reduce__ of Person object at 0x0000000004419C18>\n",
      "__reduce_ex__ <built-in method __reduce_ex__ of Person object at 0x0000000004419C18>\n",
      "__repr__ <method-wrapper '__repr__' of Person object at 0x0000000004419C18>\n",
      "__setattr__ <method-wrapper '__setattr__' of Person object at 0x0000000004419C18>\n",
      "__sizeof__ <built-in method __sizeof__ of Person object at 0x0000000004419C18>\n",
      "__str__ <method-wrapper '__str__' of Person object at 0x0000000004419C18>\n",
      "__subclasshook__ <built-in method __subclasshook__ of type object at 0x0000000003A7FCA8>\n",
      "__weakref__ None\n",
      "get_age <bound method Person.get_age of <__main__.Person object at 0x0000000004419C18>>\n",
      "get_name <bound method Person.get_name of <__main__.Person object at 0x0000000004419C18>>\n",
      "name new me\n",
      "set_age <bound method Person.set_age of <__main__.Person object at 0x0000000004419C18>>\n"
     ]
    }
   ],
   "source": [
    "for attr, value in inspect.getmembers(person1):\n",
    "    print(attr, value)"
   ]
  },
  {
   "cell_type": "code",
   "execution_count": 23,
   "metadata": {
    "collapsed": false
   },
   "outputs": [
    {
     "name": "stdout",
     "output_type": "stream",
     "text": [
      "name :  new me\n",
      "_Person__age :  20\n"
     ]
    }
   ],
   "source": [
    "for properties,value in vars(person1).items():\n",
    "    print(properties, \": \", value)"
   ]
  },
  {
   "cell_type": "code",
   "execution_count": 19,
   "metadata": {
    "collapsed": false
   },
   "outputs": [
    {
     "data": {
      "text/plain": [
       "{'_Person__age': 20, 'name': 'new me'}"
      ]
     },
     "execution_count": 19,
     "metadata": {},
     "output_type": "execute_result"
    }
   ],
   "source": [
    "vars(person1)"
   ]
  },
  {
   "cell_type": "code",
   "execution_count": null,
   "metadata": {
    "collapsed": true
   },
   "outputs": [],
   "source": []
  }
 ],
 "metadata": {
  "kernelspec": {
   "display_name": "Python 3",
   "language": "python",
   "name": "python3"
  },
  "language_info": {
   "codemirror_mode": {
    "name": "ipython",
    "version": 3
   },
   "file_extension": ".py",
   "mimetype": "text/x-python",
   "name": "python",
   "nbconvert_exporter": "python",
   "pygments_lexer": "ipython3",
   "version": "3.4.3"
  }
 },
 "nbformat": 4,
 "nbformat_minor": 0
}
