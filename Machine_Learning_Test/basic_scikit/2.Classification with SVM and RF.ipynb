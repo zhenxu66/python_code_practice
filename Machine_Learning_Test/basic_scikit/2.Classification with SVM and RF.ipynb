{
 "cells": [
  {
   "cell_type": "code",
   "execution_count": 1,
   "metadata": {
    "collapsed": true
   },
   "outputs": [],
   "source": [
    "import matplotlib.pyplot as plt\n",
    "import numpy as np\n",
    "%matplotlib inline"
   ]
  },
  {
   "cell_type": "markdown",
   "metadata": {},
   "source": [
    "Classification\n",
    "==============="
   ]
  },
  {
   "cell_type": "markdown",
   "metadata": {},
   "source": [
    "Get some data to play with"
   ]
  },
  {
   "cell_type": "code",
   "execution_count": 2,
   "metadata": {
    "collapsed": false
   },
   "outputs": [
    {
     "data": {
      "text/plain": [
       "dict_keys(['target', 'DESCR', 'images', 'target_names', 'data'])"
      ]
     },
     "execution_count": 2,
     "metadata": {},
     "output_type": "execute_result"
    }
   ],
   "source": [
    "from sklearn.datasets import load_digits\n",
    "\n",
    "digits = load_digits()\n",
    "digits.keys()"
   ]
  },
  {
   "cell_type": "code",
   "execution_count": 3,
   "metadata": {
    "collapsed": false
   },
   "outputs": [
    {
     "data": {
      "text/plain": [
       "(1797, 8, 8)"
      ]
     },
     "execution_count": 3,
     "metadata": {},
     "output_type": "execute_result"
    }
   ],
   "source": [
    "#digits.images is numpy array \n",
    "digits.images.shape"
   ]
  },
  {
   "cell_type": "code",
   "execution_count": 4,
   "metadata": {
    "collapsed": false
   },
   "outputs": [
    {
     "name": "stdout",
     "output_type": "stream",
     "text": [
      "[[  0.   0.  11.  12.   0.   0.   0.   0.]\n",
      " [  0.   2.  16.  16.  16.  13.   0.   0.]\n",
      " [  0.   3.  16.  12.  10.  14.   0.   0.]\n",
      " [  0.   1.  16.   1.  12.  15.   0.   0.]\n",
      " [  0.   0.  13.  16.   9.  15.   2.   0.]\n",
      " [  0.   0.   0.   3.   0.   9.  11.   0.]\n",
      " [  0.   0.   0.   0.   9.  15.   4.   0.]\n",
      " [  0.   0.   9.  12.  13.   3.   0.   0.]]\n"
     ]
    }
   ],
   "source": [
    "# each image has gray scale values in a 8*8 matrix\n",
    "print(digits.images[9])"
   ]
  },
  {
   "cell_type": "code",
   "execution_count": 5,
   "metadata": {
    "collapsed": false
   },
   "outputs": [
    {
     "data": {
      "text/plain": [
       "<matplotlib.image.AxesImage at 0x878ae80>"
      ]
     },
     "execution_count": 5,
     "metadata": {},
     "output_type": "execute_result"
    },
    {
     "data": {
      "image/png": "[encoded data removed]",
      "text/plain": [
       "<matplotlib.figure.Figure at 0x8b96f60>"
      ]
     },
     "metadata": {},
     "output_type": "display_data"
    }
   ],
   "source": [
    "#draw matrix figure with plt.matshow\n",
    "\n",
    "plt.matshow(digits.images[9], cmap=plt.cm.Greys)"
   ]
  },
  {
   "cell_type": "code",
   "execution_count": 6,
   "metadata": {
    "collapsed": false
   },
   "outputs": [
    {
     "data": {
      "text/plain": [
       "(1797, 64)"
      ]
     },
     "execution_count": 6,
     "metadata": {},
     "output_type": "execute_result"
    }
   ],
   "source": [
    "# each image with 64 digits\n",
    "digits.data.shape"
   ]
  },
  {
   "cell_type": "code",
   "execution_count": 7,
   "metadata": {
    "collapsed": false
   },
   "outputs": [
    {
     "data": {
      "text/plain": [
       "(1797,)"
      ]
     },
     "execution_count": 7,
     "metadata": {},
     "output_type": "execute_result"
    }
   ],
   "source": [
    "digits.target.shape"
   ]
  },
  {
   "cell_type": "code",
   "execution_count": 8,
   "metadata": {
    "collapsed": false
   },
   "outputs": [
    {
     "name": "stdout",
     "output_type": "stream",
     "text": [
      "[0 1 2 3 4 5 6 7 8 9]\n"
     ]
    },
    {
     "data": {
      "text/plain": [
       "array([0, 1, 2, ..., 8, 9, 8])"
      ]
     },
     "execution_count": 8,
     "metadata": {},
     "output_type": "execute_result"
    }
   ],
   "source": [
    "# check if the image is correct, first image with 0 should be in target zero.\n",
    "print(np.unique(digits.target))\n",
    "digits.target"
   ]
  },
  {
   "cell_type": "markdown",
   "metadata": {},
   "source": [
    "**Data is always a numpy array (or sparse matrix) of shape (n_samples, n_features)**"
   ]
  },
  {
   "cell_type": "markdown",
   "metadata": {},
   "source": [
    "Split the data to get going"
   ]
  },
  {
   "cell_type": "code",
   "execution_count": 9,
   "metadata": {
    "collapsed": false
   },
   "outputs": [],
   "source": [
    "# split 75% train and 25% test\n",
    "# digits.data ~ X_train, X_test, pixels for images\n",
    "# digits.target ~ y_train, y_test, result with number 0~9\n",
    "from sklearn.cross_validation import train_test_split\n",
    "X_train, X_test, y_train, y_test = train_test_split(digits.data, digits.target)"
   ]
  },
  {
   "cell_type": "markdown",
   "metadata": {},
   "source": [
    "Compare SVM and Random Forrest (Really Simple API)\n",
    "-------------------\n",
    "0) Import your model class"
   ]
  },
  {
   "cell_type": "code",
   "execution_count": 10,
   "metadata": {
    "collapsed": false
   },
   "outputs": [],
   "source": [
    "from sklearn.svm import LinearSVC"
   ]
  },
  {
   "cell_type": "markdown",
   "metadata": {},
   "source": [
    "1) Instantiate an object and set the parameters"
   ]
  },
  {
   "cell_type": "code",
   "execution_count": 11,
   "metadata": {
    "collapsed": false
   },
   "outputs": [],
   "source": [
    "svm = LinearSVC(C=0.1)"
   ]
  },
  {
   "cell_type": "markdown",
   "metadata": {},
   "source": [
    "2) Fit the model"
   ]
  },
  {
   "cell_type": "code",
   "execution_count": 12,
   "metadata": {
    "collapsed": false
   },
   "outputs": [
    {
     "data": {
      "text/plain": [
       "LinearSVC(C=0.1, class_weight=None, dual=True, fit_intercept=True,\n",
       "     intercept_scaling=1, loss='squared_hinge', max_iter=1000,\n",
       "     multi_class='ovr', penalty='l2', random_state=None, tol=0.0001,\n",
       "     verbose=0)"
      ]
     },
     "execution_count": 12,
     "metadata": {},
     "output_type": "execute_result"
    }
   ],
   "source": [
    "svm.fit(X_train, y_train)\n",
    "# trained result is stored in SVM object"
   ]
  },
  {
   "cell_type": "markdown",
   "metadata": {},
   "source": [
    "3) Apply / evaluate"
   ]
  },
  {
   "cell_type": "code",
   "execution_count": 13,
   "metadata": {
    "collapsed": false
   },
   "outputs": [
    {
     "name": "stdout",
     "output_type": "stream",
     "text": [
      "[3 7 6 ..., 7 9 1]\n",
      "[3 7 6 ..., 7 9 1]\n"
     ]
    }
   ],
   "source": [
    "# return a class label for each image data\n",
    "print(svm.predict(X_train))\n",
    "print(y_train)"
   ]
  },
  {
   "cell_type": "code",
   "execution_count": 14,
   "metadata": {
    "collapsed": false
   },
   "outputs": [
    {
     "data": {
      "text/plain": [
       "0.99331848552338531"
      ]
     },
     "execution_count": 14,
     "metadata": {},
     "output_type": "execute_result"
    }
   ],
   "source": [
    "# score must be with the test truth\n",
    "# fraction of correctly predicated samples; arg, data, truth label\n",
    "svm.score(X_train, y_train)"
   ]
  },
  {
   "cell_type": "code",
   "execution_count": 15,
   "metadata": {
    "collapsed": false
   },
   "outputs": [
    {
     "data": {
      "text/plain": [
       "0.94888888888888889"
      ]
     },
     "execution_count": 15,
     "metadata": {},
     "output_type": "execute_result"
    }
   ],
   "source": [
    "svm.score(X_test, y_test)\n",
    "\n",
    "# evaluate model accuracy"
   ]
  },
  {
   "cell_type": "markdown",
   "metadata": {},
   "source": [
    "Random Forrest\n",
    "---------"
   ]
  },
  {
   "cell_type": "code",
   "execution_count": 16,
   "metadata": {
    "collapsed": false
   },
   "outputs": [],
   "source": [
    "from sklearn.ensemble import RandomForestClassifier"
   ]
  },
  {
   "cell_type": "code",
   "execution_count": 17,
   "metadata": {
    "collapsed": false
   },
   "outputs": [],
   "source": [
    "# n_estimators number of trees in forest, random_state make result reproducible\n",
    "rf = RandomForestClassifier(n_estimators=50, random_state = 1)"
   ]
  },
  {
   "cell_type": "code",
   "execution_count": 18,
   "metadata": {
    "collapsed": false
   },
   "outputs": [
    {
     "data": {
      "text/plain": [
       "RandomForestClassifier(bootstrap=True, class_weight=None, criterion='gini',\n",
       "            max_depth=None, max_features='auto', max_leaf_nodes=None,\n",
       "            min_samples_leaf=1, min_samples_split=2,\n",
       "            min_weight_fraction_leaf=0.0, n_estimators=50, n_jobs=1,\n",
       "            oob_score=False, random_state=1, verbose=0, warm_start=False)"
      ]
     },
     "execution_count": 18,
     "metadata": {},
     "output_type": "execute_result"
    }
   ],
   "source": [
    "rf.fit(X_train, y_train)"
   ]
  },
  {
   "cell_type": "code",
   "execution_count": 19,
   "metadata": {
    "collapsed": false
   },
   "outputs": [
    {
     "data": {
      "text/plain": [
       "array([5, 5, 2, 7, 5, 2, 9, 3, 9, 0, 5, 4, 8, 9, 3, 3, 9, 1, 9, 7, 5, 6, 8,\n",
       "       6, 2, 5, 3, 9, 9, 5, 9, 2, 0, 5, 2, 3, 1, 4, 4, 6, 9, 4, 5, 2, 5, 0,\n",
       "       1, 1, 6, 6, 4, 4, 7, 0, 9, 3, 7, 0, 4, 8, 9, 4, 3, 6, 2, 0, 2, 4, 4,\n",
       "       9, 8, 0, 4, 7, 3, 4, 9, 7, 1, 4, 8, 8, 6, 6, 2, 2, 8, 7, 4, 1, 8, 8,\n",
       "       9, 1, 4, 5, 4, 1, 1, 5, 8, 8, 1, 8, 0, 6, 6, 2, 0, 0, 8, 6, 2, 3, 4,\n",
       "       4, 8, 5, 0, 8, 4, 3, 0, 8, 0, 3, 5, 2, 5, 4, 9, 7, 6, 4, 6, 9, 3, 8,\n",
       "       9, 4, 1, 9, 8, 1, 9, 7, 3, 0, 0, 5, 4, 7, 1, 8, 2, 8, 1, 5, 4, 7, 2,\n",
       "       4, 3, 3, 8, 4, 5, 6, 0, 6, 5, 0, 7, 8, 8, 8, 7, 4, 3, 1, 8, 5, 6, 4,\n",
       "       1, 7, 4, 6, 9, 0, 4, 7, 7, 9, 3, 8, 7, 1, 8, 5, 5, 4, 2, 1, 3, 5, 7,\n",
       "       7, 8, 7, 3, 7, 0, 9, 7, 8, 6, 7, 7, 5, 9, 9, 4, 7, 2, 0, 2, 4, 0, 6,\n",
       "       7, 5, 7, 8, 2, 4, 0, 6, 4, 8, 2, 6, 7, 3, 1, 2, 2, 6, 4, 3, 9, 1, 9,\n",
       "       6, 6, 3, 7, 5, 3, 4, 3, 5, 7, 4, 8, 6, 0, 0, 8, 5, 5, 1, 3, 2, 7, 2,\n",
       "       1, 5, 3, 9, 4, 0, 5, 8, 1, 3, 6, 4, 9, 8, 8, 9, 1, 9, 8, 6, 1, 2, 3,\n",
       "       2, 7, 6, 1, 8, 2, 7, 1, 9, 3, 3, 2, 1, 1, 1, 6, 4, 5, 3, 0, 0, 2, 5,\n",
       "       6, 7, 2, 6, 7, 5, 1, 9, 3, 4, 2, 5, 9, 7, 7, 3, 7, 5, 0, 9, 1, 1, 7,\n",
       "       2, 9, 3, 1, 7, 1, 9, 5, 7, 9, 8, 4, 7, 6, 6, 3, 1, 0, 9, 1, 6, 2, 7,\n",
       "       2, 6, 9, 6, 0, 9, 0, 7, 9, 3, 1, 6, 9, 0, 9, 3, 9, 6, 5, 4, 9, 1, 6,\n",
       "       3, 0, 0, 1, 4, 9, 5, 1, 6, 7, 7, 7, 4, 7, 8, 0, 3, 0, 8, 5, 7, 3, 4,\n",
       "       2, 7, 8, 1, 8, 9, 5, 4, 3, 4, 1, 1, 0, 7, 7, 2, 8, 3, 3, 9, 9, 0, 1,\n",
       "       8, 0, 1, 5, 4, 8, 2, 3, 9, 4, 0, 5, 2])"
      ]
     },
     "execution_count": 19,
     "metadata": {},
     "output_type": "execute_result"
    }
   ],
   "source": [
    "rf.predict(X_test)"
   ]
  },
  {
   "cell_type": "code",
   "execution_count": 20,
   "metadata": {
    "collapsed": false
   },
   "outputs": [
    {
     "data": {
      "text/plain": [
       "0.9622222222222222"
      ]
     },
     "execution_count": 20,
     "metadata": {},
     "output_type": "execute_result"
    }
   ],
   "source": [
    "rf.score(X_test, y_test)\n",
    "# random forest better"
   ]
  },
  {
   "cell_type": "markdown",
   "metadata": {},
   "source": [
    "#Two features (x,y), two classes (red, blue), train-full color,  test~opaque color"
   ]
  },
  {
   "cell_type": "markdown",
   "metadata": {
    "collapsed": false
   },
   "source": [
    "<h1>Classifier Comparison</h1>\n",
    "<img src=\"classifier_comparison.png\" width=100%>"
   ]
  },
  {
   "cell_type": "markdown",
   "metadata": {},
   "source": [
    "Labels Can Be Anything (mapping number to array)\n",
    "============================="
   ]
  },
  {
   "cell_type": "code",
   "execution_count": 40,
   "metadata": {
    "collapsed": false
   },
   "outputs": [],
   "source": [
    "numbers = np.array([\"zero\", \"one\", \"two\", \"three\", \"four\", \"five\", \"six\", \"seven\", \"eight\", \"nine\"])"
   ]
  },
  {
   "cell_type": "code",
   "execution_count": 43,
   "metadata": {
    "collapsed": false
   },
   "outputs": [
    {
     "data": {
      "text/plain": [
       "LinearSVC(C=0.1, class_weight=None, dual=True, fit_intercept=True,\n",
       "     intercept_scaling=1, loss='squared_hinge', max_iter=1000,\n",
       "     multi_class='ovr', penalty='l2', random_state=None, tol=0.0001,\n",
       "     verbose=0)"
      ]
     },
     "execution_count": 43,
     "metadata": {},
     "output_type": "execute_result"
    }
   ],
   "source": [
    "# as train is only numbers 0-9, it will transform to index for new string array and do the mapping\n",
    "y_train_string = numbers[y_train]\n",
    "svm.fit(X_train, y_train_string)"
   ]
  },
  {
   "cell_type": "code",
   "execution_count": 44,
   "metadata": {
    "collapsed": false,
    "scrolled": true
   },
   "outputs": [
    {
     "data": {
      "text/plain": [
       "array(['zero', 'nine', 'seven', 'eight', 'nine', 'three', 'zero', 'four',\n",
       "       'seven', 'two', 'five', 'five', 'eight', 'one', 'zero', 'one',\n",
       "       'zero', 'two', 'eight', 'five', 'one', 'three', 'three', 'nine',\n",
       "       'one', 'two', 'one', 'two', 'four', 'five', 'zero', 'five', 'zero',\n",
       "       'six', 'seven', 'four', 'two', 'four', 'three', 'eight', 'one',\n",
       "       'five', 'zero', 'one', 'four', 'three', 'one', 'one', 'three',\n",
       "       'five', 'seven', 'four', 'eight', 'six', 'nine', 'four', 'one',\n",
       "       'six', 'three', 'one', 'eight', 'nine', 'two', 'eight', 'five',\n",
       "       'two', 'two', 'zero', 'seven', 'zero', 'seven', 'nine', 'four',\n",
       "       'one', 'two', 'zero', 'seven', 'two', 'nine', 'seven', 'two', 'one',\n",
       "       'seven', 'four', 'three', 'four', 'two', 'five', 'seven', 'seven',\n",
       "       'seven', 'five', 'one', 'five', 'five', 'seven', 'seven', 'three',\n",
       "       'nine', 'five', 'five', 'two', 'seven', 'four', 'five', 'seven',\n",
       "       'five', 'three', 'one', 'two', 'seven', 'six', 'one', 'five',\n",
       "       'nine', 'three', 'one', 'one', 'zero', 'three', 'zero', 'one',\n",
       "       'eight', 'seven', 'seven', 'five', 'six', 'eight', 'seven', 'three',\n",
       "       'nine', 'six', 'three', 'one', 'four', 'one', 'five', 'two',\n",
       "       'seven', 'three', 'one', 'six', 'four', 'six', 'five', 'five',\n",
       "       'three', 'three', 'four', 'six', 'six', 'nine', 'four', 'six',\n",
       "       'two', 'four', 'five', 'eight', 'six', 'four', 'eight', 'five',\n",
       "       'four', 'nine', 'four', 'eight', 'nine', 'five', 'five', 'six',\n",
       "       'two', 'three', 'five', 'one', 'five', 'eight', 'zero', 'eight',\n",
       "       'five', 'five', 'two', 'three', 'seven', 'zero', 'zero', 'eight',\n",
       "       'four', 'nine', 'nine', 'eight', 'nine', 'six', 'five', 'six',\n",
       "       'two', 'nine', 'three', 'two', 'three', 'one', 'seven', 'eight',\n",
       "       'two', 'six', 'five', 'six', 'four', 'five', 'one', 'zero', 'four',\n",
       "       'nine', 'four', 'six', 'four', 'one', 'seven', 'nine', 'six', 'one',\n",
       "       'seven', 'four', 'six', 'eight', 'two', 'four', 'six', 'five',\n",
       "       'six', 'five', 'one', 'eight', 'two', 'five', 'one', 'seven',\n",
       "       'four', 'zero', 'one', 'two', 'four', 'two', 'seven', 'two', 'five',\n",
       "       'one', 'one', 'five', 'three', 'four', 'one', 'seven', 'three',\n",
       "       'zero', 'zero', 'five', 'two', 'one', 'nine', 'six', 'nine', 'nine',\n",
       "       'one', 'two', 'six', 'two', 'five', 'seven', 'two', 'five', 'zero',\n",
       "       'zero', 'six', 'one', 'nine', 'zero', 'one', 'six', 'one', 'four',\n",
       "       'two', 'five', 'four', 'seven', 'six', 'six', 'four', 'four',\n",
       "       'seven', 'zero', 'seven', 'two', 'one', 'five', 'three', 'eight',\n",
       "       'five', 'three', 'two', 'five', 'seven', 'three', 'five', 'nine',\n",
       "       'seven', 'two', 'three', 'nine', 'nine', 'seven', 'six', 'three',\n",
       "       'seven', 'one', 'six', 'two', 'zero', 'eight', 'four', 'three',\n",
       "       'five', 'eight', 'one', 'three', 'nine', 'one', 'eight', 'seven',\n",
       "       'eight', 'two', 'four', 'four', 'one', 'seven', 'three', 'one',\n",
       "       'six', 'zero', 'eight', 'three', 'nine', 'eight', 'nine', 'zero',\n",
       "       'zero', 'six', 'one', 'nine', 'zero', 'three', 'five', 'one',\n",
       "       'nine', 'eight', 'seven', 'eight', 'five', 'nine', 'six', 'five',\n",
       "       'one', 'four', 'two', 'six', 'eight', 'two', 'three', 'eight',\n",
       "       'one', 'zero', 'seven', 'four', 'five', 'four', 'five', 'five',\n",
       "       'six', 'nine', 'zero', 'zero', 'eight', 'four', 'three', 'seven',\n",
       "       'eight', 'zero', 'seven', 'four', 'two', 'three', 'eight', 'six',\n",
       "       'six', 'six', 'eight', 'one', 'three', 'nine', 'three', 'three',\n",
       "       'two', 'two', 'nine', 'zero', 'one', 'seven', 'two', 'zero', 'nine',\n",
       "       'nine', 'seven', 'five', 'two', 'nine', 'five', 'zero', 'five',\n",
       "       'four', 'three', 'two', 'four', 'three', 'five', 'four', 'seven',\n",
       "       'two', 'seven', 'nine', 'seven', 'six', 'five', 'nine', 'zero',\n",
       "       'three', 'one', 'five', 'four', 'zero', 'six', 'one', 'nine',\n",
       "       'seven', 'zero', 'seven', 'four', 'eight', 'two', 'seven', 'zero',\n",
       "       'zero'], \n",
       "      dtype='<U5')"
      ]
     },
     "execution_count": 44,
     "metadata": {},
     "output_type": "execute_result"
    }
   ],
   "source": [
    "svm.predict(X_test)"
   ]
  },
  {
   "cell_type": "code",
   "execution_count": null,
   "metadata": {
    "collapsed": true
   },
   "outputs": [],
   "source": []
  }
 ],
 "metadata": {
  "kernelspec": {
   "display_name": "Python 3",
   "language": "python",
   "name": "python3"
  },
  "language_info": {
   "codemirror_mode": {
    "name": "ipython",
    "version": 3
   },
   "file_extension": ".py",
   "mimetype": "text/x-python",
   "name": "python",
   "nbconvert_exporter": "python",
   "pygments_lexer": "ipython3",
   "version": "3.4.3"
  }
 },
 "nbformat": 4,
 "nbformat_minor": 0
}
