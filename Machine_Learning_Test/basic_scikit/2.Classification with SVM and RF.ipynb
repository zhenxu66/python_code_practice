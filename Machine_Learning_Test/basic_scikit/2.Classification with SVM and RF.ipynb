{
 "cells": [
  {
   "cell_type": "code",
   "execution_count": 1,
   "metadata": {
    "collapsed": true
   },
   "outputs": [],
   "source": [
    "import matplotlib.pyplot as plt\n",
    "import numpy as np\n",
    "%matplotlib inline"
   ]
  },
  {
   "cell_type": "markdown",
   "metadata": {},
   "source": [
    "Classification\n",
    "==============="
   ]
  },
  {
   "cell_type": "markdown",
   "metadata": {},
   "source": [
    "Classfication of digit with hand written image (gray scale data matrix)"
   ]
  },
  {
   "cell_type": "code",
   "execution_count": 2,
   "metadata": {
    "collapsed": false
   },
   "outputs": [
    {
     "name": "stdout",
     "output_type": "stream",
     "text": [
      "dict_keys(['target', 'target_names', 'DESCR', 'images', 'data'])\n",
      "\n",
      "use data-X target-y to train and test\n"
     ]
    }
   ],
   "source": [
    "from sklearn.datasets import load_digits\n",
    "\n",
    "digits = load_digits() #n_class=10 all options\n",
    "print(digits.keys())\n",
    "print(\"\\nuse data-X target-y to train and test\")"
   ]
  },
  {
   "cell_type": "code",
   "execution_count": 3,
   "metadata": {
    "collapsed": false
   },
   "outputs": [],
   "source": [
    "#digits.DESCR"
   ]
  },
  {
   "cell_type": "code",
   "execution_count": 4,
   "metadata": {
    "collapsed": false
   },
   "outputs": [
    {
     "data": {
      "text/plain": [
       "array([0, 1, 2, 3, 4, 5, 6, 7, 8, 9])"
      ]
     },
     "execution_count": 4,
     "metadata": {},
     "output_type": "execute_result"
    }
   ],
   "source": [
    "digits.target_names"
   ]
  },
  {
   "cell_type": "code",
   "execution_count": 5,
   "metadata": {
    "collapsed": false
   },
   "outputs": [
    {
     "name": "stdout",
     "output_type": "stream",
     "text": [
      "[0 1 2 3 4 5 6 7 8 9]\n",
      "(1797,)\n"
     ]
    }
   ],
   "source": [
    "# Total number of images as target array\n",
    "print(np.unique(digits.target))\n",
    "print(digits.target.shape)"
   ]
  },
  {
   "cell_type": "code",
   "execution_count": 6,
   "metadata": {
    "collapsed": false
   },
   "outputs": [
    {
     "name": "stdout",
     "output_type": "stream",
     "text": [
      "(1797, 8, 8)\n",
      "(1797, 64)\n"
     ]
    }
   ],
   "source": [
    "#digits.images is numpy array #1797 8*8 matrix image, digits.data is 1797*64 flatten data\n",
    "print(digits.images.shape)\n",
    "# each image with 64 digits\n",
    "print(digits.data.shape)"
   ]
  },
  {
   "cell_type": "markdown",
   "metadata": {},
   "source": [
    "index and show examples"
   ]
  },
  {
   "cell_type": "code",
   "execution_count": 7,
   "metadata": {
    "collapsed": false
   },
   "outputs": [
    {
     "name": "stdout",
     "output_type": "stream",
     "text": [
      "result number is :2\n"
     ]
    }
   ],
   "source": [
    "index = 50\n",
    "print(\"result number is :\" + str(digits.target[index]))"
   ]
  },
  {
   "cell_type": "code",
   "execution_count": 8,
   "metadata": {
    "collapsed": false
   },
   "outputs": [
    {
     "name": "stdout",
     "output_type": "stream",
     "text": [
      "-----------------------number index 50 image two dimensional data for plot-----------------------\n",
      "\n",
      "\n",
      "[[  0.   0.   0.   5.  14.  12.   2.   0.]\n",
      " [  0.   0.   7.  15.   8.  14.   4.   0.]\n",
      " [  0.   0.   6.   2.   3.  13.   1.   0.]\n",
      " [  0.   0.   0.   1.  13.   4.   0.   0.]\n",
      " [  0.   0.   1.  11.   9.   0.   0.   0.]\n",
      " [  0.   8.  16.  13.   0.   0.   0.   0.]\n",
      " [  0.   5.  14.  16.  11.   2.   0.   0.]\n",
      " [  0.   0.   0.   6.  12.  13.   3.   0.]]\n"
     ]
    }
   ],
   "source": [
    "# each image has gray scale values in a 8*8 matrix\n",
    "print(\"-----------------------number index \" +str(index)+\" image two dimensional data for plot-----------------------\\n\\n\")\n",
    "print(digits.images[index])"
   ]
  },
  {
   "cell_type": "code",
   "execution_count": 9,
   "metadata": {
    "collapsed": false
   },
   "outputs": [
    {
     "name": "stdout",
     "output_type": "stream",
     "text": [
      "-----------------------number index 50 image one dimensional data for train and test -----------------------\n",
      "\n",
      "\n",
      "[  0.   0.   0.   5.  14.  12.   2.   0.   0.   0.   7.  15.   8.  14.   4.\n",
      "   0.   0.   0.   6.   2.   3.  13.   1.   0.   0.   0.   0.   1.  13.   4.\n",
      "   0.   0.   0.   0.   1.  11.   9.   0.   0.   0.   0.   8.  16.  13.   0.\n",
      "   0.   0.   0.   0.   5.  14.  16.  11.   2.   0.   0.   0.   0.   0.   6.\n",
      "  12.  13.   3.   0.]\n"
     ]
    }
   ],
   "source": [
    "# each image has gray scale values in a 8*8 matrix\n",
    "print(\"-----------------------number index \" +str(index)+\" image one dimensional data for train and test \\\n",
    "-----------------------\\n\\n\")\n",
    "print(digits.data[index])"
   ]
  },
  {
   "cell_type": "code",
   "execution_count": 10,
   "metadata": {
    "collapsed": false
   },
   "outputs": [
    {
     "data": {
      "text/plain": [
       "<matplotlib.image.AxesImage at 0x7e87ef0>"
      ]
     },
     "execution_count": 10,
     "metadata": {},
     "output_type": "execute_result"
    },
    {
     "data": {
      "image/png": "[encoded data removed]",
      "text/plain": [
       "<matplotlib.figure.Figure at 0x7cf80b8>"
      ]
     },
     "metadata": {},
     "output_type": "display_data"
    }
   ],
   "source": [
    "#draw matrix figure with plt.matshow\n",
    "\n",
    "plt.matshow(digits.images[index], cmap=plt.cm.Greys)"
   ]
  },
  {
   "cell_type": "code",
   "execution_count": 11,
   "metadata": {
    "collapsed": false
   },
   "outputs": [
    {
     "data": {
      "text/plain": [
       "array([0, 1, 2, 3, 4, 5, 6, 7, 8, 9, 0, 1, 2, 3, 4, 5, 6, 7, 8, 9, 0, 1, 2,\n",
       "       3, 4, 5, 6, 7, 8, 9, 0, 9, 5, 5, 6, 5, 0, 9, 8, 9, 8, 4, 1, 7, 7, 3,\n",
       "       5, 1, 0, 0, 2])"
      ]
     },
     "execution_count": 11,
     "metadata": {},
     "output_type": "execute_result"
    }
   ],
   "source": [
    "# check if the image is correct and closing numbers to double check.\n",
    "digits.target[0:index+1]"
   ]
  },
  {
   "cell_type": "markdown",
   "metadata": {},
   "source": [
    "**Data is always a numpy array (or sparse matrix) of shape (n_samples, n_features)**"
   ]
  },
  {
   "cell_type": "markdown",
   "metadata": {},
   "source": [
    "Split the data to get going"
   ]
  },
  {
   "cell_type": "code",
   "execution_count": 12,
   "metadata": {
    "collapsed": false
   },
   "outputs": [],
   "source": [
    "# split 75% train and 25% test\n",
    "# digits.data ~ X_train, X_test, pixels for images\n",
    "# digits.target ~ y_train, y_test, result with number 0~9\n",
    "from sklearn.cross_validation import train_test_split\n",
    "X_train, X_test, y_train, y_test = train_test_split(digits.data, digits.target)"
   ]
  },
  {
   "cell_type": "markdown",
   "metadata": {},
   "source": [
    "Compare SVM and Random Forrest (Really Simple API)\n",
    "-------------------\n",
    "0) Import model class"
   ]
  },
  {
   "cell_type": "code",
   "execution_count": 13,
   "metadata": {
    "collapsed": false
   },
   "outputs": [],
   "source": [
    "from sklearn.svm import LinearSVC"
   ]
  },
  {
   "cell_type": "markdown",
   "metadata": {},
   "source": [
    "1) Instantiate an object and set the parameters"
   ]
  },
  {
   "cell_type": "code",
   "execution_count": 14,
   "metadata": {
    "collapsed": false
   },
   "outputs": [],
   "source": [
    "svm = LinearSVC(C=0.1)"
   ]
  },
  {
   "cell_type": "markdown",
   "metadata": {},
   "source": [
    "2) Fit the model"
   ]
  },
  {
   "cell_type": "code",
   "execution_count": 15,
   "metadata": {
    "collapsed": false
   },
   "outputs": [
    {
     "data": {
      "text/plain": [
       "LinearSVC(C=0.1, class_weight=None, dual=True, fit_intercept=True,\n",
       "     intercept_scaling=1, loss='squared_hinge', max_iter=1000,\n",
       "     multi_class='ovr', penalty='l2', random_state=None, tol=0.0001,\n",
       "     verbose=0)"
      ]
     },
     "execution_count": 15,
     "metadata": {},
     "output_type": "execute_result"
    }
   ],
   "source": [
    "svm.fit(X_train, y_train)\n",
    "# trained result is stored in SVM object"
   ]
  },
  {
   "cell_type": "markdown",
   "metadata": {},
   "source": [
    "3) Apply / evaluate"
   ]
  },
  {
   "cell_type": "code",
   "execution_count": 16,
   "metadata": {
    "collapsed": false
   },
   "outputs": [
    {
     "name": "stdout",
     "output_type": "stream",
     "text": [
      "[8 7 5 ..., 1 4 1]\n",
      "[8 7 5 ..., 1 4 1]\n"
     ]
    }
   ],
   "source": [
    "# >>>>> return a class label for each image data\n",
    "y_train_predict = svm.predict(X_train)\n",
    "print(y_train_predict)\n",
    "print(y_train)"
   ]
  },
  {
   "cell_type": "code",
   "execution_count": 17,
   "metadata": {
    "collapsed": false
   },
   "outputs": [
    {
     "data": {
      "text/plain": [
       "0.99777282850779514"
      ]
     },
     "execution_count": 17,
     "metadata": {},
     "output_type": "execute_result"
    }
   ],
   "source": [
    "# fraction of correctly predicated samples for training; e.g. arg, data, truth label\n",
    "svm.score(X_train, y_train)"
   ]
  },
  {
   "cell_type": "code",
   "execution_count": 18,
   "metadata": {
    "collapsed": false
   },
   "outputs": [
    {
     "name": "stdout",
     "output_type": "stream",
     "text": [
      "[9 0 2 5 3 5 2 1 8 6 8 6 1 1 1 2 5 6 7 1 0 8 1 0 0 2 6 8 0 0]\n",
      "[9 0 2 5 3 5 2 1 8 6 8 6 1 1 1 2 5 6 7 1 0 7 1 0 0 2 1 8 0 0]\n"
     ]
    }
   ],
   "source": [
    "# >>>>> return a class label for each image data\n",
    "y_test_predict = svm.predict(X_test)\n",
    "print(y_test_predict[0:30])\n",
    "print(y_test[0:30])"
   ]
  },
  {
   "cell_type": "code",
   "execution_count": 19,
   "metadata": {
    "collapsed": false
   },
   "outputs": [
    {
     "data": {
      "text/plain": [
       "0.94888888888888889"
      ]
     },
     "execution_count": 19,
     "metadata": {},
     "output_type": "execute_result"
    }
   ],
   "source": [
    "# evaluate model accuracy\n",
    "svm.score(X_test, y_test)"
   ]
  },
  {
   "cell_type": "markdown",
   "metadata": {},
   "source": [
    "4) typical case analysis (find reason why different)"
   ]
  },
  {
   "cell_type": "code",
   "execution_count": 20,
   "metadata": {
    "collapsed": true
   },
   "outputs": [],
   "source": [
    "def find_notmatch_index(y1, y2):\n",
    "    index = []\n",
    "    n = len(y1)\n",
    "    for i in np.arange(n):\n",
    "        if y1[i] != y2[i]:\n",
    "            index.append(i)\n",
    "    return index"
   ]
  },
  {
   "cell_type": "code",
   "execution_count": 22,
   "metadata": {
    "collapsed": false
   },
   "outputs": [
    {
     "name": "stdout",
     "output_type": "stream",
     "text": [
      "[327, 645, 897]\n",
      "\n",
      "From total 3 mismatched result, index : 2\n",
      "\n",
      " training result should be 8\n",
      "\n",
      " training result predict as 1\n"
     ]
    },
    {
     "data": {
      "image/png": "[encoded data removed]",
      "text/plain": [
       "<matplotlib.figure.Figure at 0x7f522b0>"
      ]
     },
     "metadata": {},
     "output_type": "display_data"
    }
   ],
   "source": [
    "train_notmatch= find_notmatch_index(svm.predict(X_train), y_train)\n",
    "print(train_notmatch)\n",
    "index_train_notmatch = 2\n",
    "print(\"\\nFrom total \" + str(len(train_notmatch)) + \" mismatched result, index : \" + str(index_train_notmatch))\n",
    "plt.matshow(X_train[train_notmatch[index_train_notmatch]].reshape(8,8), cmap=plt.cm.Greys)\n",
    "print(\"\\n training result should be \" + str(y_train[train_notmatch[index_train_notmatch]]))\n",
    "print(\"\\n training result predict as \" + str(y_train_predict[train_notmatch[index_train_notmatch]]))"
   ]
  },
  {
   "cell_type": "code",
   "execution_count": 23,
   "metadata": {
    "collapsed": false
   },
   "outputs": [
    {
     "name": "stdout",
     "output_type": "stream",
     "text": [
      "[21, 26, 32, 42, 101, 140, 167, 187, 199, 208, 210, 211, 229, 240, 267, 276, 333, 337, 344, 374, 395, 397, 445]\n",
      "\n",
      "From total 23 mismatched result, index : 4\n",
      "\n",
      " test result should be 9\n",
      "\n",
      " test result predict as 5\n"
     ]
    },
    {
     "data": {
      "image/png": "[encoded data removed]",
      "text/plain": [
       "<matplotlib.figure.Figure at 0x8233978>"
      ]
     },
     "metadata": {},
     "output_type": "display_data"
    }
   ],
   "source": [
    "test_notmatch = find_notmatch_index(svm.predict(X_test), y_test)\n",
    "print(test_notmatch)\n",
    "index_test_notmatch = 4\n",
    "print(\"\\nFrom total \" + str(len(test_notmatch)) + \" mismatched result, index : \" + str(index_test_notmatch))\n",
    "plt.matshow(X_test[test_notmatch[index_test_notmatch]].reshape(8,8), cmap=plt.cm.Greys)\n",
    "print(\"\\n test result should be \" + str(y_test[test_notmatch[index_test_notmatch]]))\n",
    "print(\"\\n test result predict as \" + str(y_test_predict[test_notmatch[index_test_notmatch]]))"
   ]
  },
  {
   "cell_type": "markdown",
   "metadata": {},
   "source": [
    "Random Forrest\n",
    "---------"
   ]
  },
  {
   "cell_type": "code",
   "execution_count": 24,
   "metadata": {
    "collapsed": false
   },
   "outputs": [],
   "source": [
    "from sklearn.ensemble import RandomForestClassifier"
   ]
  },
  {
   "cell_type": "code",
   "execution_count": 25,
   "metadata": {
    "collapsed": false
   },
   "outputs": [],
   "source": [
    "# n_estimators number of trees in forest, random_state make result reproducible\n",
    "rf = RandomForestClassifier(n_estimators=50, random_state = 1)"
   ]
  },
  {
   "cell_type": "code",
   "execution_count": 26,
   "metadata": {
    "collapsed": false
   },
   "outputs": [
    {
     "data": {
      "text/plain": [
       "RandomForestClassifier(bootstrap=True, class_weight=None, criterion='gini',\n",
       "            max_depth=None, max_features='auto', max_leaf_nodes=None,\n",
       "            min_samples_leaf=1, min_samples_split=2,\n",
       "            min_weight_fraction_leaf=0.0, n_estimators=50, n_jobs=1,\n",
       "            oob_score=False, random_state=1, verbose=0, warm_start=False)"
      ]
     },
     "execution_count": 26,
     "metadata": {},
     "output_type": "execute_result"
    }
   ],
   "source": [
    "rf.fit(X_train, y_train)"
   ]
  },
  {
   "cell_type": "code",
   "execution_count": 27,
   "metadata": {
    "collapsed": false
   },
   "outputs": [],
   "source": [
    "y_test_predict_rf = rf.predict(X_test)"
   ]
  },
  {
   "cell_type": "code",
   "execution_count": 28,
   "metadata": {
    "collapsed": false
   },
   "outputs": [
    {
     "data": {
      "text/plain": [
       "0.96666666666666667"
      ]
     },
     "execution_count": 28,
     "metadata": {},
     "output_type": "execute_result"
    }
   ],
   "source": [
    "rf.score(X_test, y_test)\n",
    "# random forest better"
   ]
  },
  {
   "cell_type": "code",
   "execution_count": 29,
   "metadata": {
    "collapsed": false
   },
   "outputs": [
    {
     "name": "stdout",
     "output_type": "stream",
     "text": [
      "[0, 36, 76, 101, 140, 163, 207, 208, 211, 237, 249, 289, 333, 337, 445]\n",
      "\n",
      "From total 15 mismatched Random Forrest result, index : 3\n",
      "\n",
      " test result should be 9\n",
      "\n",
      " test result predict as 5\n",
      "\n",
      "From total 23 mismatched SVM result\n",
      "[21, 26, 32, 42, 101, 140, 167, 187, 199, 208, 210, 211, 229, 240, 267, 276, 333, 337, 344, 374, 395, 397, 445]\n"
     ]
    },
    {
     "data": {
      "image/png": "[encoded data removed]",
      "text/plain": [
       "<matplotlib.figure.Figure at 0x834f390>"
      ]
     },
     "metadata": {},
     "output_type": "display_data"
    }
   ],
   "source": [
    "test_notmatch_rf = find_notmatch_index(y_test_predict_rf, y_test)\n",
    "print(test_notmatch_rf)\n",
    "index_test_notmatch_rf = 3\n",
    "print(\"\\nFrom total \" + str(len(test_notmatch_rf)) + \" mismatched Random Forrest result, index : \" + str(index_test_notmatch_rf))\n",
    "plt.matshow(X_test[test_notmatch_rf[index_test_notmatch_rf]].reshape(8,8), cmap=plt.cm.Greys)\n",
    "print(\"\\n test result should be \" + str(y_test[test_notmatch_rf[index_test_notmatch_rf]]))\n",
    "print(\"\\n test result predict as \" + str(y_test_predict[test_notmatch_rf[index_test_notmatch_rf]]))\n",
    "print(\"\\nFrom total \" + str(len(test_notmatch)) + \" mismatched SVM result\")\n",
    "print(test_notmatch)"
   ]
  },
  {
   "cell_type": "markdown",
   "metadata": {},
   "source": [
    "#Two features (x,y), two classes (red, blue), train-full color,  test~opaque color"
   ]
  },
  {
   "cell_type": "markdown",
   "metadata": {
    "collapsed": false
   },
   "source": [
    "<h1>Classifier Comparison</h1>\n",
    "<img src=\"classifier_comparison.png\" width=100%>"
   ]
  },
  {
   "cell_type": "markdown",
   "metadata": {},
   "source": [
    "Labels the output result to String (mapping number to array)\n",
    "============================="
   ]
  },
  {
   "cell_type": "code",
   "execution_count": 30,
   "metadata": {
    "collapsed": false
   },
   "outputs": [],
   "source": [
    "numbers = np.array([\"zero\", \"one\", \"two\", \"three\", \"four\", \"five\", \"six\", \"seven\", \"eight\", \"nine\"])"
   ]
  },
  {
   "cell_type": "code",
   "execution_count": 31,
   "metadata": {
    "collapsed": false
   },
   "outputs": [
    {
     "data": {
      "text/plain": [
       "LinearSVC(C=0.1, class_weight=None, dual=True, fit_intercept=True,\n",
       "     intercept_scaling=1, loss='squared_hinge', max_iter=1000,\n",
       "     multi_class='ovr', penalty='l2', random_state=None, tol=0.0001,\n",
       "     verbose=0)"
      ]
     },
     "execution_count": 31,
     "metadata": {},
     "output_type": "execute_result"
    }
   ],
   "source": [
    "# as train is only numbers 0-9, it will transform to index for new string array and do the mapping\n",
    "y_train_string = numbers[y_train]\n",
    "svm.fit(X_train, y_train_string)"
   ]
  },
  {
   "cell_type": "code",
   "execution_count": 32,
   "metadata": {
    "collapsed": false,
    "scrolled": true
   },
   "outputs": [
    {
     "data": {
      "text/plain": [
       "array(['nine', 'zero', 'two', 'five', 'three', 'five', 'two', 'one',\n",
       "       'eight', 'six', 'eight', 'six', 'one', 'one', 'one', 'two', 'five',\n",
       "       'six', 'seven', 'one', 'zero', 'eight', 'one', 'zero', 'zero',\n",
       "       'two', 'six', 'eight', 'zero', 'zero', 'three', 'nine', 'eight',\n",
       "       'two', 'three', 'six', 'eight', 'six', 'six', 'six', 'eight', 'one',\n",
       "       'eight', 'seven', 'three', 'two', 'eight', 'two', 'seven', 'zero',\n",
       "       'two', 'seven', 'seven', 'nine', 'six', 'four', 'three', 'one',\n",
       "       'four', 'five', 'seven', 'two', 'seven', 'zero', 'four', 'zero',\n",
       "       'two', 'four', 'six', 'one', 'four', 'four', 'three', 'eight',\n",
       "       'four', 'five', 'nine', 'three', 'six', 'two', 'nine', 'zero',\n",
       "       'four', 'six', 'zero', 'zero', 'eight', 'seven', 'six', 'six',\n",
       "       'six', 'five', 'eight', 'one', 'four', 'four', 'four', 'three',\n",
       "       'zero', 'two', 'five', 'five', 'four', 'one', 'seven', 'two',\n",
       "       'four', 'six', 'two', 'four', 'four', 'five', 'zero', 'five', 'two',\n",
       "       'one', 'six', 'zero', 'nine', 'one', 'zero', 'eight', 'six', 'one',\n",
       "       'three', 'five', 'two', 'eight', 'nine', 'zero', 'seven', 'seven',\n",
       "       'eight', 'two', 'four', 'zero', 'four', 'six', 'eight', 'zero',\n",
       "       'five', 'five', 'eight', 'seven', 'five', 'seven', 'five', 'one',\n",
       "       'three', 'zero', 'one', 'one', 'seven', 'seven', 'five', 'five',\n",
       "       'five', 'seven', 'nine', 'zero', 'eight', 'nine', 'two', 'eight',\n",
       "       'five', 'nine', 'three', 'three', 'six', 'three', 'seven', 'four',\n",
       "       'one', 'three', 'zero', 'seven', 'four', 'six', 'two', 'six', 'six',\n",
       "       'nine', 'four', 'five', 'three', 'nine', 'one', 'nine', 'nine',\n",
       "       'four', 'eight', 'seven', 'nine', 'three', 'seven', 'zero', 'four',\n",
       "       'seven', 'four', 'three', 'four', 'six', 'nine', 'seven', 'three',\n",
       "       'six', 'six', 'nine', 'one', 'four', 'eight', 'eight', 'nine',\n",
       "       'four', 'eight', 'nine', 'three', 'two', 'five', 'two', 'nine',\n",
       "       'six', 'three', 'four', 'nine', 'three', 'five', 'five', 'three',\n",
       "       'six', 'five', 'one', 'eight', 'three', 'eight', 'four', 'five',\n",
       "       'nine', 'one', 'six', 'three', 'three', 'three', 'one', 'one',\n",
       "       'eight', 'four', 'six', 'one', 'five', 'zero', 'three', 'seven',\n",
       "       'zero', 'one', 'six', 'five', 'zero', 'seven', 'eight', 'three',\n",
       "       'eight', 'one', 'three', 'seven', 'eight', 'one', 'five', 'nine',\n",
       "       'three', 'four', 'four', 'six', 'seven', 'four', 'one', 'one',\n",
       "       'one', 'four', 'six', 'eight', 'one', 'six', 'zero', 'one', 'one',\n",
       "       'three', 'nine', 'seven', 'nine', 'one', 'two', 'seven', 'eight',\n",
       "       'five', 'seven', 'six', 'five', 'seven', 'three', 'zero', 'eight',\n",
       "       'one', 'three', 'seven', 'four', 'three', 'seven', 'two', 'six',\n",
       "       'zero', 'three', 'one', 'seven', 'nine', 'three', 'six', 'zero',\n",
       "       'eight', 'one', 'two', 'six', 'eight', 'five', 'four', 'five',\n",
       "       'four', 'zero', 'one', 'six', 'eight', 'three', 'two', 'eight',\n",
       "       'three', 'one', 'five', 'seven', 'six', 'four', 'zero', 'one',\n",
       "       'three', 'seven', 'three', 'nine', 'one', 'nine', 'three', 'zero',\n",
       "       'one', 'six', 'six', 'five', 'eight', 'five', 'five', 'six', 'four',\n",
       "       'nine', 'four', 'two', 'four', 'six', 'six', 'seven', 'six', 'zero',\n",
       "       'five', 'five', 'zero', 'three', 'four', 'zero', 'eight', 'one',\n",
       "       'zero', 'four', 'two', 'four', 'two', 'five', 'one', 'five', 'nine',\n",
       "       'three', 'five', 'two', 'nine', 'one', 'four', 'one', 'three',\n",
       "       'one', 'two', 'four', 'eight', 'five', 'three', 'seven', 'three',\n",
       "       'one', 'eight', 'eight', 'two', 'one', 'zero', 'three', 'four',\n",
       "       'eight', 'nine', 'zero', 'three', 'nine', 'five', 'six', 'three',\n",
       "       'two', 'two', 'eight', 'zero', 'eight', 'seven', 'nine', 'two',\n",
       "       'zero', 'three', 'five', 'five', 'two', 'eight', 'nine', 'one',\n",
       "       'three', 'zero', 'one', 'six', 'seven', 'three', 'eight', 'nine',\n",
       "       'five', 'one', 'eight', 'five', 'one', 'seven', 'zero', 'six', 'two'], \n",
       "      dtype='<U5')"
      ]
     },
     "execution_count": 32,
     "metadata": {},
     "output_type": "execute_result"
    }
   ],
   "source": [
    "svm.predict(X_test)"
   ]
  },
  {
   "cell_type": "code",
   "execution_count": null,
   "metadata": {
    "collapsed": true
   },
   "outputs": [],
   "source": []
  }
 ],
 "metadata": {
  "kernelspec": {
   "display_name": "Python 3",
   "language": "python",
   "name": "python3"
  },
  "language_info": {
   "codemirror_mode": {
    "name": "ipython",
    "version": 3
   },
   "file_extension": ".py",
   "mimetype": "text/x-python",
   "name": "python",
   "nbconvert_exporter": "python",
   "pygments_lexer": "ipython3",
   "version": "3.4.3"
  }
 },
 "nbformat": 4,
 "nbformat_minor": 0
}
