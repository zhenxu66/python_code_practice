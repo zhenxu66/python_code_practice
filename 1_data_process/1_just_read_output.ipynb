{
 "cells": [
  {
   "cell_type": "code",
   "execution_count": 1,
   "metadata": {
    "collapsed": true
   },
   "outputs": [],
   "source": [
    "import pandas as pd\n",
    "import numpy as np\n",
    "import matplotlib as plt\n",
    "%matplotlib inline"
   ]
  },
  {
   "cell_type": "code",
   "execution_count": 2,
   "metadata": {
    "collapsed": false
   },
   "outputs": [
    {
     "data": {
      "text/plain": [
       "array([12,  5,  3], dtype=int64)"
      ]
     },
     "execution_count": 2,
     "metadata": {},
     "output_type": "execute_result"
    }
   ],
   "source": [
    "# read in rules\n",
    "df_rules = pd.read_csv(\"data/rules.csv\", header = None, names = ['test_value','min','max'])\n",
    "df_rules['test_value'].unique()"
   ]
  },
  {
   "cell_type": "code",
   "execution_count": 3,
   "metadata": {
    "collapsed": false
   },
   "outputs": [
    {
     "name": "stderr",
     "output_type": "stream",
     "text": [
      "C:\\Users\\Zhen Xu\\Anaconda3\\lib\\site-packages\\IPython\\kernel\\__main__.py:3: FutureWarning: by argument to sort_index is deprecated, pls use .sort_values(by=...)\n",
      "  app.launch_new_instance()\n"
     ]
    },
    {
     "data": {
      "text/html": [
       "<div>\n",
       "<table border=\"1\" class=\"dataframe\">\n",
       "  <thead>\n",
       "    <tr style=\"text-align: right;\">\n",
       "      <th></th>\n",
       "      <th>test_value</th>\n",
       "      <th>min</th>\n",
       "      <th>max</th>\n",
       "    </tr>\n",
       "  </thead>\n",
       "  <tbody>\n",
       "    <tr>\n",
       "      <th>3</th>\n",
       "      <td>3</td>\n",
       "      <td>2.8</td>\n",
       "      <td>3.2</td>\n",
       "    </tr>\n",
       "    <tr>\n",
       "      <th>5</th>\n",
       "      <td>5</td>\n",
       "      <td>4.7</td>\n",
       "      <td>5.3</td>\n",
       "    </tr>\n",
       "    <tr>\n",
       "      <th>12</th>\n",
       "      <td>12</td>\n",
       "      <td>11.4</td>\n",
       "      <td>12.4</td>\n",
       "    </tr>\n",
       "  </tbody>\n",
       "</table>\n",
       "</div>"
      ],
      "text/plain": [
       "    test_value   min   max\n",
       "3            3   2.8   3.2\n",
       "5            5   4.7   5.3\n",
       "12          12  11.4  12.4"
      ]
     },
     "execution_count": 3,
     "metadata": {},
     "output_type": "execute_result"
    }
   ],
   "source": [
    "#put in ascending order for rules, reset_index or just set_index to make it lable index_able. \n",
    "# Save test_point\n",
    "df_rules.sort_index(by=['test_value'], ascending=[True],inplace=True)\n",
    "#df_rules.reset_index(inplace=True, drop=True)\n",
    "test_point = df_rules['test_value'].tolist()\n",
    "df_rules.set_index([test_point], inplace=True)\n",
    "df_rules"
   ]
  },
  {
   "cell_type": "code",
   "execution_count": 5,
   "metadata": {
    "collapsed": false
   },
   "outputs": [
    {
     "data": {
      "text/html": [
       "<div>\n",
       "<table border=\"1\" class=\"dataframe\">\n",
       "  <thead>\n",
       "    <tr style=\"text-align: right;\">\n",
       "      <th></th>\n",
       "      <th>0</th>\n",
       "      <th>1</th>\n",
       "      <th>2</th>\n",
       "    </tr>\n",
       "  </thead>\n",
       "  <tbody>\n",
       "    <tr>\n",
       "      <th>0</th>\n",
       "      <td>12.364519</td>\n",
       "      <td>5.204825</td>\n",
       "      <td>3.101785</td>\n",
       "    </tr>\n",
       "    <tr>\n",
       "      <th>1</th>\n",
       "      <td>12.800000</td>\n",
       "      <td>4.975547</td>\n",
       "      <td>3.065432</td>\n",
       "    </tr>\n",
       "    <tr>\n",
       "      <th>2</th>\n",
       "      <td>11.874330</td>\n",
       "      <td>5.246546</td>\n",
       "      <td>2.874324</td>\n",
       "    </tr>\n",
       "    <tr>\n",
       "      <th>3</th>\n",
       "      <td>NaN</td>\n",
       "      <td>5.220957</td>\n",
       "      <td>3.103659</td>\n",
       "    </tr>\n",
       "    <tr>\n",
       "      <th>4</th>\n",
       "      <td>NaN</td>\n",
       "      <td>4.783890</td>\n",
       "      <td>2.979370</td>\n",
       "    </tr>\n",
       "  </tbody>\n",
       "</table>\n",
       "</div>"
      ],
      "text/plain": [
       "           0         1         2\n",
       "0  12.364519  5.204825  3.101785\n",
       "1  12.800000  4.975547  3.065432\n",
       "2  11.874330  5.246546  2.874324\n",
       "3        NaN  5.220957  3.103659\n",
       "4        NaN  4.783890  2.979370"
      ]
     },
     "execution_count": 5,
     "metadata": {},
     "output_type": "execute_result"
    }
   ],
   "source": [
    "# read in test data in csv format  names = test_point\n",
    "df_test_data = pd.read_csv(\"data/result.csv\", header = None)\n",
    "df_test_data.head()"
   ]
  },
  {
   "cell_type": "code",
   "execution_count": 6,
   "metadata": {
    "collapsed": false
   },
   "outputs": [
    {
     "name": "stdout",
     "output_type": "stream",
     "text": [
      "~~~~~~~~~~~List of test points from test data~~~~~~~~~~~~~\n",
      "\n",
      "[3, 5, 12]\n"
     ]
    },
    {
     "data": {
      "text/html": [
       "<div>\n",
       "<table border=\"1\" class=\"dataframe\">\n",
       "  <thead>\n",
       "    <tr style=\"text-align: right;\">\n",
       "      <th></th>\n",
       "      <th>3</th>\n",
       "      <th>5</th>\n",
       "      <th>12</th>\n",
       "    </tr>\n",
       "  </thead>\n",
       "  <tbody>\n",
       "    <tr>\n",
       "      <th>0</th>\n",
       "      <td>3.101785</td>\n",
       "      <td>5.204825</td>\n",
       "      <td>12.364519</td>\n",
       "    </tr>\n",
       "    <tr>\n",
       "      <th>1</th>\n",
       "      <td>3.065432</td>\n",
       "      <td>4.975547</td>\n",
       "      <td>12.800000</td>\n",
       "    </tr>\n",
       "    <tr>\n",
       "      <th>2</th>\n",
       "      <td>2.874324</td>\n",
       "      <td>5.246546</td>\n",
       "      <td>11.874330</td>\n",
       "    </tr>\n",
       "    <tr>\n",
       "      <th>3</th>\n",
       "      <td>3.103659</td>\n",
       "      <td>5.220957</td>\n",
       "      <td>NaN</td>\n",
       "    </tr>\n",
       "    <tr>\n",
       "      <th>4</th>\n",
       "      <td>2.979370</td>\n",
       "      <td>4.783890</td>\n",
       "      <td>NaN</td>\n",
       "    </tr>\n",
       "    <tr>\n",
       "      <th>5</th>\n",
       "      <td>2.974575</td>\n",
       "      <td>5.026689</td>\n",
       "      <td>NaN</td>\n",
       "    </tr>\n",
       "    <tr>\n",
       "      <th>6</th>\n",
       "      <td>3.131787</td>\n",
       "      <td>4.732113</td>\n",
       "      <td>NaN</td>\n",
       "    </tr>\n",
       "    <tr>\n",
       "      <th>7</th>\n",
       "      <td>2.841922</td>\n",
       "      <td>4.948719</td>\n",
       "      <td>NaN</td>\n",
       "    </tr>\n",
       "    <tr>\n",
       "      <th>8</th>\n",
       "      <td>3.033848</td>\n",
       "      <td>5.141135</td>\n",
       "      <td>NaN</td>\n",
       "    </tr>\n",
       "    <tr>\n",
       "      <th>9</th>\n",
       "      <td>3.600000</td>\n",
       "      <td>4.819512</td>\n",
       "      <td>NaN</td>\n",
       "    </tr>\n",
       "  </tbody>\n",
       "</table>\n",
       "</div>"
      ],
      "text/plain": [
       "         3         5          12\n",
       "0  3.101785  5.204825  12.364519\n",
       "1  3.065432  4.975547  12.800000\n",
       "2  2.874324  5.246546  11.874330\n",
       "3  3.103659  5.220957        NaN\n",
       "4  2.979370  4.783890        NaN\n",
       "5  2.974575  5.026689        NaN\n",
       "6  3.131787  4.732113        NaN\n",
       "7  2.841922  4.948719        NaN\n",
       "8  3.033848  5.141135        NaN\n",
       "9  3.600000  4.819512        NaN"
      ]
     },
     "execution_count": 6,
     "metadata": {},
     "output_type": "execute_result"
    }
   ],
   "source": [
    "# order columns with acending average, or mean, nanmean ignoring NaNs, average with optional weight parameter not with NAN.\n",
    "\n",
    "def order_test_data(df_test_data):\n",
    "    # calculate average of each column, transfer to int\n",
    "    average_test = df_test_data.apply(np.mean)\n",
    "    average_test_int = list(map(lambda x: int(round(x)), average_test.tolist()))\n",
    "    \n",
    "    # use the average value as pandas column name\n",
    "    df_test_data.columns = average_test_int\n",
    "    print(\"~~~~~~~~~~~List of test points from test data~~~~~~~~~~~~~\\n\")\n",
    "    print(sorted(average_test_int))\n",
    "    \n",
    "    #sort column with the sorted average\n",
    "    df_test_data= df_test_data.ix[:, sorted(average_test_int)]\n",
    "    return df_test_data\n",
    "\n",
    "df_test_data = order_test_data(df_test_data)\n",
    "df_test_data[0:10]"
   ]
  },
  {
   "cell_type": "code",
   "execution_count": 8,
   "metadata": {
    "collapsed": true
   },
   "outputs": [],
   "source": [
    "def result_output(df_test_data, df_rules, test_point):\n",
    "    test_size = len(df_test_data)\n",
    "    temp=0\n",
    "    output_list=[]\n",
    "    for j in test_point:\n",
    "        \n",
    "        # fill na with the test_point data, , inplace=True is not used\n",
    "        df_test_data[j].fillna(j)\n",
    "        for i in np.arange(test_size):\n",
    "            if df_test_data[j][i] > df_rules.loc[j]['max'] or df_test_data[j][i] < df_rules.loc[j]['min']:\n",
    "                temp = temp + 1\n",
    "        output_list.append(temp)\n",
    "        temp=0\n",
    "    output_series = pd.Series(output_list, index = test_point)\n",
    "    print('result outside the range')\n",
    "    return output_series"
   ]
  },
  {
   "cell_type": "code",
   "execution_count": 9,
   "metadata": {
    "collapsed": false
   },
   "outputs": [
    {
     "name": "stdout",
     "output_type": "stream",
     "text": [
      "result outside the range\n"
     ]
    },
    {
     "data": {
      "text/plain": [
       "3     2\n",
       "5     2\n",
       "12    1\n",
       "dtype: int64"
      ]
     },
     "execution_count": 9,
     "metadata": {},
     "output_type": "execute_result"
    }
   ],
   "source": [
    "result_output(df_test_data, df_rules, test_point)"
   ]
  },
  {
   "cell_type": "markdown",
   "metadata": {},
   "source": [
    "#check how many not match and it's location"
   ]
  },
  {
   "cell_type": "code",
   "execution_count": 10,
   "metadata": {
    "collapsed": false
   },
   "outputs": [
    {
     "name": "stdout",
     "output_type": "stream",
     "text": [
      "Enter the voltage you want to check: [3, 5, 12]12\n"
     ]
    }
   ],
   "source": [
    "Output_point = input(\"Enter the voltage you want to check: \" + str(test_point));"
   ]
  },
  {
   "cell_type": "code",
   "execution_count": 11,
   "metadata": {
    "collapsed": false
   },
   "outputs": [
    {
     "data": {
      "text/plain": [
       "'12'"
      ]
     },
     "execution_count": 11,
     "metadata": {},
     "output_type": "execute_result"
    }
   ],
   "source": [
    "Output_point"
   ]
  },
  {
   "cell_type": "code",
   "execution_count": 12,
   "metadata": {
    "collapsed": false
   },
   "outputs": [],
   "source": [
    "def check_output_point(df_test_data, Output_point):\n",
    "    Output_point = int(Output_point)\n",
    "    error_result = df_test_data[(df_test_data[Output_point] > df_rules.loc[Output_point]['max']) | \\\n",
    "                                (df_test_data[Output_point] < df_rules.loc[Output_point]['min']) ][Output_point]\n",
    "    error_count = len(error_result)\n",
    "    \n",
    "    print(\"Total error point:\" + str(error_count) )\n",
    "    return error_result"
   ]
  },
  {
   "cell_type": "code",
   "execution_count": 13,
   "metadata": {
    "collapsed": false
   },
   "outputs": [
    {
     "name": "stdout",
     "output_type": "stream",
     "text": [
      "Total error point:1\n"
     ]
    },
    {
     "data": {
      "text/plain": [
       "1    12.8\n",
       "Name: 12, dtype: float64"
      ]
     },
     "execution_count": 13,
     "metadata": {},
     "output_type": "execute_result"
    }
   ],
   "source": [
    "check_output_point(df_test_data, Output_point)"
   ]
  },
  {
   "cell_type": "markdown",
   "metadata": {
    "collapsed": true
   },
   "source": [
    "# Future add timestamp column in test to corelate the reason"
   ]
  },
  {
   "cell_type": "code",
   "execution_count": null,
   "metadata": {
    "collapsed": true
   },
   "outputs": [],
   "source": []
  }
 ],
 "metadata": {
  "kernelspec": {
   "display_name": "Python 3",
   "language": "python",
   "name": "python3"
  },
  "language_info": {
   "codemirror_mode": {
    "name": "ipython",
    "version": 3
   },
   "file_extension": ".py",
   "mimetype": "text/x-python",
   "name": "python",
   "nbconvert_exporter": "python",
   "pygments_lexer": "ipython3",
   "version": "3.4.3"
  }
 },
 "nbformat": 4,
 "nbformat_minor": 0
}
