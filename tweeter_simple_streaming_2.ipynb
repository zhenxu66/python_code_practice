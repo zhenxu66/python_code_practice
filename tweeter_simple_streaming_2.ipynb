{
 "cells": [
  {
   "cell_type": "code",
   "execution_count": 15,
   "metadata": {
    "collapsed": false
   },
   "outputs": [],
   "source": [
    "import tweepy\n",
    "import json\n",
    "from pymongo import *\n",
    "from bson import json_util\n",
    "from tweepy.utils import import_simplejson\n"
   ]
  },
  {
   "cell_type": "code",
   "execution_count": 16,
   "metadata": {
    "collapsed": false
   },
   "outputs": [
    {
     "ename": "NameError",
     "evalue": "name 'Connection' is not defined",
     "output_type": "error",
     "traceback": [
      "\u001b[1;31m---------------------------------------------------------------------------\u001b[0m",
      "\u001b[1;31mNameError\u001b[0m                                 Traceback (most recent call last)",
      "\u001b[1;32m<ipython-input-16-261c70a33bda>\u001b[0m in \u001b[0;36m<module>\u001b[1;34m()\u001b[0m\n\u001b[0;32m      1\u001b[0m \u001b[0mjson\u001b[0m \u001b[1;33m=\u001b[0m \u001b[0mimport_simplejson\u001b[0m\u001b[1;33m(\u001b[0m\u001b[1;33m)\u001b[0m\u001b[1;33m\u001b[0m\u001b[0m\n\u001b[1;32m----> 2\u001b[1;33m \u001b[0mmongocon\u001b[0m \u001b[1;33m=\u001b[0m \u001b[0mConnection\u001b[0m\u001b[1;33m(\u001b[0m\u001b[1;33m)\u001b[0m\u001b[1;33m\u001b[0m\u001b[0m\n\u001b[0m\u001b[0;32m      3\u001b[0m \u001b[1;33m\u001b[0m\u001b[0m\n\u001b[0;32m      4\u001b[0m \u001b[0mdb\u001b[0m \u001b[1;33m=\u001b[0m \u001b[0mmongocon\u001b[0m\u001b[1;33m.\u001b[0m\u001b[0mtstream\u001b[0m\u001b[1;33m\u001b[0m\u001b[0m\n\u001b[0;32m      5\u001b[0m \u001b[0mcol\u001b[0m \u001b[1;33m=\u001b[0m \u001b[0mdb\u001b[0m\u001b[1;33m.\u001b[0m\u001b[0mtweets_tail\u001b[0m\u001b[1;33m\u001b[0m\u001b[0m\n",
      "\u001b[1;31mNameError\u001b[0m: name 'Connection' is not defined"
     ]
    }
   ],
   "source": [
    "json = import_simplejson()\n",
    "mongocon = Connection()\n",
    "\n",
    "db = mongocon.tstream\n",
    "col = db.tweets_tail\n",
    "\n",
    "consumer_key = ''\n",
    "consumer_secret = ''\n",
    "\n",
    "access_token_key = ''\n",
    "access_token_secret = ''\n",
    "\n",
    "auth1 = tweepy.OAuthHandler(consumer_key, consumer_secret)\n",
    "auth1.set_access_token(access_token_key, access_token_secret)\n",
    "\n",
    "class StreamListener(tweepy.StreamListener):\n",
    "    mongocon = Connection()\n",
    "    db = mongocon.tstream\n",
    "    col = db.tweets\n",
    "    json = import_simplejson()\n",
    "\n",
    "    \n",
    "    def on_status(self, tweet):\n",
    "        print('Ran on_status')\n",
    "\n",
    "    def on_error(self, status_code):\n",
    "        return False\n",
    "\n",
    "    def on_data(self, data):\n",
    "        if data[0].isdigit():\n",
    "            pass\n",
    "        else:\n",
    "            col.insert(json.loads(data))\n",
    "            print(json.loads(data))\n",
    "\n",
    "\n",
    "l = StreamListener()\n",
    "streamer = tweepy.Stream(auth=auth1, listener=l)\n",
    "setTerms = ['bigdata', 'devops', 'hadoop', 'twitter']\n",
    "streamer.filter(track = setTerms)"
   ]
  },
  {
   "cell_type": "code",
   "execution_count": null,
   "metadata": {
    "collapsed": true
   },
   "outputs": [],
   "source": []
  },
  {
   "cell_type": "code",
   "execution_count": null,
   "metadata": {
    "collapsed": true
   },
   "outputs": [],
   "source": []
  }
 ],
 "metadata": {
  "kernelspec": {
   "display_name": "Python 3",
   "language": "python",
   "name": "python3"
  },
  "language_info": {
   "codemirror_mode": {
    "name": "ipython",
    "version": 3
   },
   "file_extension": ".py",
   "mimetype": "text/x-python",
   "name": "python",
   "nbconvert_exporter": "python",
   "pygments_lexer": "ipython3",
   "version": "3.4.3"
  }
 },
 "nbformat": 4,
 "nbformat_minor": 0
}
