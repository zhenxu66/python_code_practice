{
 "cells": [
  {
   "cell_type": "code",
   "execution_count": 23,
   "metadata": {
    "collapsed": false
   },
   "outputs": [],
   "source": [
    "import numpy as np\n",
    "import pandas as pd\n",
    "import seaborn as sns\n",
    "import matplotlib.pyplot as plt\n",
    "%matplotlib inline\n",
    "\n",
    "from bokeh.plotting import figure, output_file, show\n",
    "\n",
    "import bokeh.sampledata\n",
    "#bokeh.sampledata.download()\n",
    "from bokeh.sampledata.stocks import AAPL\n",
    "#from bokeh.sampledata.stocks import GOOG"
   ]
  },
  {
   "cell_type": "code",
   "execution_count": 25,
   "metadata": {
    "collapsed": false
   },
   "outputs": [
    {
     "name": "stdout",
     "output_type": "stream",
     "text": [
      "<class 'pandas.core.frame.DataFrame'>\n",
      "Int64Index: 3270 entries, 0 to 3269\n",
      "Data columns (total 7 columns):\n",
      "adj_close    3270 non-null float64\n",
      "close        3270 non-null float64\n",
      "date         3270 non-null object\n",
      "high         3270 non-null float64\n",
      "low          3270 non-null float64\n",
      "open         3270 non-null float64\n",
      "volume       3270 non-null int64\n",
      "dtypes: float64(5), int64(1), object(1)\n",
      "memory usage: 204.4+ KB\n"
     ]
    }
   ],
   "source": [
    "AAPL_stock = pd.DataFrame(AAPL) \n",
    "AAPL_stock.info()"
   ]
  },
  {
   "cell_type": "code",
   "execution_count": 22,
   "metadata": {
    "collapsed": false
   },
   "outputs": [
    {
     "data": {
      "text/plain": [
       "0        31.68\n",
       "1        29.66\n",
       "2        31.12\n",
       "3        30.56\n",
       "4        29.87\n",
       "5        29.66\n",
       "6        29.72\n",
       "7        30.57\n",
       "8        29.50\n",
       "9        27.78\n",
       "10       28.26\n",
       "11       29.56\n",
       "12       30.39\n",
       "13       29.91\n",
       "14       32.81\n",
       "15       35.06\n",
       "16       34.36\n",
       "17       33.72\n",
       "18       33.93\n",
       "19       33.83\n",
       "20       33.05\n",
       "21       30.57\n",
       "22       33.02\n",
       "23       32.41\n",
       "24       30.95\n",
       "25       31.70\n",
       "26       30.44\n",
       "27       32.03\n",
       "28       30.39\n",
       "29       29.04\n",
       "         ...  \n",
       "3240    493.22\n",
       "3241    490.59\n",
       "3242    495.28\n",
       "3243    504.34\n",
       "3244    442.03\n",
       "3245    431.61\n",
       "3246    441.37\n",
       "3247    449.65\n",
       "3248    448.24\n",
       "3249    446.92\n",
       "3250    445.09\n",
       "3251    434.00\n",
       "3252    449.23\n",
       "3253    448.75\n",
       "3254    462.09\n",
       "3255    468.76\n",
       "3256    473.65\n",
       "3257    461.77\n",
       "3258    460.90\n",
       "3259    460.48\n",
       "3260    454.14\n",
       "3261    453.97\n",
       "3262    442.97\n",
       "3263    440.22\n",
       "3264    444.91\n",
       "3265    437.00\n",
       "3266    443.09\n",
       "3267    438.75\n",
       "3268    435.62\n",
       "3269    424.83\n",
       "Name: adj_close, dtype: float64"
      ]
     },
     "execution_count": 22,
     "metadata": {},
     "output_type": "execute_result"
    }
   ],
   "source": [
    "plt.Line2D(AAPL_stock.adj_close, )"
   ]
  },
  {
   "cell_type": "code",
   "execution_count": 10,
   "metadata": {
    "collapsed": false
   },
   "outputs": [
    {
     "ename": "NameError",
     "evalue": "name 'GOOG' is not defined",
     "output_type": "error",
     "traceback": [
      "\u001b[1;31m---------------------------------------------------------------------------\u001b[0m",
      "\u001b[1;31mNameError\u001b[0m                                 Traceback (most recent call last)",
      "\u001b[1;32m<ipython-input-10-cb69249b85b4>\u001b[0m in \u001b[0;36m<module>\u001b[1;34m()\u001b[0m\n\u001b[0;32m      1\u001b[0m \u001b[1;31m# prepare some data\u001b[0m\u001b[1;33m\u001b[0m\u001b[1;33m\u001b[0m\u001b[0m\n\u001b[1;32m----> 2\u001b[1;33m \u001b[0maapl\u001b[0m \u001b[1;33m=\u001b[0m \u001b[0mnp\u001b[0m\u001b[1;33m.\u001b[0m\u001b[0marray\u001b[0m\u001b[1;33m(\u001b[0m\u001b[0mGOOG\u001b[0m\u001b[1;33m[\u001b[0m\u001b[1;34m'adj_close'\u001b[0m\u001b[1;33m]\u001b[0m\u001b[1;33m)\u001b[0m\u001b[1;33m\u001b[0m\u001b[0m\n\u001b[0m\u001b[0;32m      3\u001b[0m \u001b[0maapl_dates\u001b[0m \u001b[1;33m=\u001b[0m \u001b[0mnp\u001b[0m\u001b[1;33m.\u001b[0m\u001b[0marray\u001b[0m\u001b[1;33m(\u001b[0m\u001b[0mAAPL\u001b[0m\u001b[1;33m[\u001b[0m\u001b[1;34m'date'\u001b[0m\u001b[1;33m]\u001b[0m\u001b[1;33m,\u001b[0m \u001b[0mdtype\u001b[0m\u001b[1;33m=\u001b[0m\u001b[0mnp\u001b[0m\u001b[1;33m.\u001b[0m\u001b[0mdatetime64\u001b[0m\u001b[1;33m)\u001b[0m\u001b[1;33m\u001b[0m\u001b[0m\n",
      "\u001b[1;31mNameError\u001b[0m: name 'GOOG' is not defined"
     ]
    }
   ],
   "source": [
    "# prepare some data\n",
    "aapl = np.array(AAPL['adj_close'])\n",
    "aapl_dates = np.array(AAPL['date'], dtype=np.datetime64)"
   ]
  },
  {
   "cell_type": "code",
   "execution_count": 3,
   "metadata": {
    "collapsed": true
   },
   "outputs": [],
   "source": [
    "window_size = 30\n",
    "window = np.ones(window_size)/float(window_size)\n",
    "aapl_avg = np.convolve(aapl, window, 'same')"
   ]
  },
  {
   "cell_type": "code",
   "execution_count": 4,
   "metadata": {
    "collapsed": true
   },
   "outputs": [],
   "source": [
    "# output to static HTML file\n",
    "output_file(\"stocks.html\", title=\"stocks.py example\")"
   ]
  },
  {
   "cell_type": "code",
   "execution_count": 5,
   "metadata": {
    "collapsed": true
   },
   "outputs": [],
   "source": [
    "# create a new plot with a a datetime axis type\n",
    "p1 = figure(width=800, height=350, x_axis_type=\"datetime\")"
   ]
  },
  {
   "cell_type": "code",
   "execution_count": 6,
   "metadata": {
    "collapsed": false
   },
   "outputs": [
    {
     "data": {
      "text/plain": [
       "<bokeh.plotting.Figure at 0x8277198>"
      ]
     },
     "execution_count": 6,
     "metadata": {},
     "output_type": "execute_result"
    }
   ],
   "source": [
    "# add renderers\n",
    "p1.circle(aapl_dates, aapl, size=4, color='darkgrey', alpha=0.2, legend='close')\n",
    "p1.line(aapl_dates, aapl_avg, color='navy', legend='avg')"
   ]
  },
  {
   "cell_type": "code",
   "execution_count": 7,
   "metadata": {
    "collapsed": true
   },
   "outputs": [],
   "source": [
    "# NEW: customize by setting attributes\n",
    "p1.title = \"AAPL One-Month Average\"\n",
    "p1.legend.orientation = \"top_left\"\n",
    "p1.grid.grid_line_alpha=0\n",
    "p1.xaxis.axis_label = 'Date'\n",
    "p1.yaxis.axis_label = 'Price'\n",
    "p1.ygrid.band_fill_color=\"olive\"\n",
    "p1.ygrid.band_fill_alpha = 0.1"
   ]
  },
  {
   "cell_type": "code",
   "execution_count": 9,
   "metadata": {
    "collapsed": false
   },
   "outputs": [],
   "source": [
    "# show the results\n",
    "show(p1)"
   ]
  },
  {
   "cell_type": "code",
   "execution_count": null,
   "metadata": {
    "collapsed": true
   },
   "outputs": [],
   "source": []
  }
 ],
 "metadata": {
  "kernelspec": {
   "display_name": "Python 3",
   "language": "python",
   "name": "python3"
  },
  "language_info": {
   "codemirror_mode": {
    "name": "ipython",
    "version": 3
   },
   "file_extension": ".py",
   "mimetype": "text/x-python",
   "name": "python",
   "nbconvert_exporter": "python",
   "pygments_lexer": "ipython3",
   "version": "3.4.3"
  }
 },
 "nbformat": 4,
 "nbformat_minor": 0
}
